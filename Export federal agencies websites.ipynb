{
 "cells": [
  {
   "cell_type": "code",
   "execution_count": 1,
   "metadata": {
    "collapsed": true
   },
   "outputs": [],
   "source": [
    "import requests\n",
    "from bs4 import BeautifulSoup\n",
    "\n",
    "from joblib import Parallel, delayed"
   ]
  },
  {
   "cell_type": "code",
   "execution_count": 2,
   "metadata": {
    "collapsed": true
   },
   "outputs": [],
   "source": [
    "FEDERAL_WEBSITES = \"https://www.usa.gov/federal-agencies/a\""
   ]
  },
  {
   "cell_type": "code",
   "execution_count": 3,
   "metadata": {
    "collapsed": false
   },
   "outputs": [
    {
     "data": {
      "text/plain": [
       "<Response [200]>"
      ]
     },
     "execution_count": 3,
     "metadata": {},
     "output_type": "execute_result"
    }
   ],
   "source": [
    "response = requests.get(FEDERAL_WEBSITES)\n",
    "response"
   ]
  },
  {
   "cell_type": "code",
   "execution_count": 4,
   "metadata": {
    "collapsed": false
   },
   "outputs": [],
   "source": [
    "data = BeautifulSoup(response.text, \"lxml\")"
   ]
  },
  {
   "cell_type": "code",
   "execution_count": 5,
   "metadata": {
    "collapsed": false
   },
   "outputs": [
    {
     "name": "stdout",
     "output_type": "stream",
     "text": [
      "[<a class=\"atoz_letter\" href=\"/federal-agencies/b\">B</a>, <a class=\"atoz_letter\" href=\"/federal-agencies/c\">C</a>, <a class=\"atoz_letter\" href=\"/federal-agencies/d\">D</a>, <a class=\"atoz_letter\" href=\"/federal-agencies/e\">E</a>, <a class=\"atoz_letter\" href=\"/federal-agencies/f\">F</a>, <a class=\"atoz_letter\" href=\"/federal-agencies/g\">G</a>, <a class=\"atoz_letter\" href=\"/federal-agencies/h\">H</a>, <a class=\"atoz_letter\" href=\"/federal-agencies/i\">I</a>, <a class=\"atoz_letter\" href=\"/federal-agencies/j\">J</a>, <a class=\"atoz_letter\" href=\"/federal-agencies/k\">K</a>, <a class=\"atoz_letter\" href=\"/federal-agencies/l\">L</a>, <a class=\"atoz_letter\" href=\"/federal-agencies/m\">M</a>, <a class=\"atoz_letter\" href=\"/federal-agencies/n\">N</a>, <a class=\"atoz_letter\" href=\"/federal-agencies/o\">O</a>, <a class=\"atoz_letter\" href=\"/federal-agencies/p\">P</a>, <a class=\"atoz_letter\" href=\"/federal-agencies/r\">R</a>, <a class=\"atoz_letter\" href=\"/federal-agencies/s\">S</a>, <a class=\"atoz_letter\" href=\"/federal-agencies/t\">T</a>, <a class=\"atoz_letter\" href=\"/federal-agencies/u\">U</a>, <a class=\"atoz_letter\" href=\"/federal-agencies/v\">V</a>, <a class=\"atoz_letter\" href=\"/federal-agencies/w\">W</a>]\n"
     ]
    }
   ],
   "source": [
    "print data.select(\"#content > div > div > ul.az-list\")[0].select(\"li > a\")"
   ]
  },
  {
   "cell_type": "code",
   "execution_count": 6,
   "metadata": {
    "collapsed": false
   },
   "outputs": [
    {
     "data": {
      "text/plain": [
       "['https://www.usa.gov/federal-agencies/a',\n",
       " 'https://www.usa.gov/federal-agencies/b',\n",
       " 'https://www.usa.gov/federal-agencies/c',\n",
       " 'https://www.usa.gov/federal-agencies/d',\n",
       " 'https://www.usa.gov/federal-agencies/e',\n",
       " 'https://www.usa.gov/federal-agencies/f',\n",
       " 'https://www.usa.gov/federal-agencies/g',\n",
       " 'https://www.usa.gov/federal-agencies/h',\n",
       " 'https://www.usa.gov/federal-agencies/i',\n",
       " 'https://www.usa.gov/federal-agencies/j',\n",
       " 'https://www.usa.gov/federal-agencies/k',\n",
       " 'https://www.usa.gov/federal-agencies/l',\n",
       " 'https://www.usa.gov/federal-agencies/m',\n",
       " 'https://www.usa.gov/federal-agencies/n',\n",
       " 'https://www.usa.gov/federal-agencies/o',\n",
       " 'https://www.usa.gov/federal-agencies/p',\n",
       " 'https://www.usa.gov/federal-agencies/r',\n",
       " 'https://www.usa.gov/federal-agencies/s',\n",
       " 'https://www.usa.gov/federal-agencies/t',\n",
       " 'https://www.usa.gov/federal-agencies/u',\n",
       " 'https://www.usa.gov/federal-agencies/v',\n",
       " 'https://www.usa.gov/federal-agencies/w']"
      ]
     },
     "execution_count": 6,
     "metadata": {},
     "output_type": "execute_result"
    }
   ],
   "source": [
    "BASE_URL = \"https://www.usa.gov\"\n",
    "dir_urls = [\"https://www.usa.gov/federal-agencies/a\"]\n",
    "for url in data.select(\"#content > div > div > ul.az-list\")[0].select(\"li > a\"):\n",
    "    dir_urls.append(\"%s%s\" % (BASE_URL, url[\"href\"]))\n",
    "dir_urls"
   ]
  },
  {
   "cell_type": "code",
   "execution_count": 7,
   "metadata": {
    "collapsed": true
   },
   "outputs": [],
   "source": [
    "def get_agencies(url):\n",
    "    response = requests.get(url)\n",
    "    data = BeautifulSoup(response.text, \"lxml\")\n",
    "    agencies = {}\n",
    "    for anchor in data.select(\"#content > div > div > ul.one_column_bullet > li > a\"):\n",
    "        agencies[anchor.text] = \"%s%s\" % (BASE_URL, anchor[\"href\"])\n",
    "    return agencies"
   ]
  },
  {
   "cell_type": "code",
   "execution_count": 8,
   "metadata": {
    "collapsed": false
   },
   "outputs": [
    {
     "data": {
      "text/plain": [
       "{u'AbilityOne Commission': 'https://www.usa.gov/federal-agencies/u-s-abilityone-commission',\n",
       " u'Access Board': 'https://www.usa.gov/federal-agencies/u-s-access-board',\n",
       " u'Administration for Children and Families (ACF)': 'https://www.usa.gov/federal-agencies/administration-for-children-and-families',\n",
       " u'Administration for Community Living': 'https://www.usa.gov/federal-agencies/administration-for-community-living',\n",
       " u'Administration for Native Americans': 'https://www.usa.gov/federal-agencies/administration-for-native-americans',\n",
       " u'Administration on Aging': 'https://www.usa.gov/federal-agencies/administration-on-aging',\n",
       " u'Administration on Intellectual and Developmental Disabilities': 'https://www.usa.gov/federal-agencies/administration-on-intellectual-and-developmental-disabilities',\n",
       " u'Administrative Conference of the United States': 'https://www.usa.gov/federal-agencies/administrative-conference-of-the-united-states',\n",
       " u'Administrative Office of the U.S. Courts': 'https://www.usa.gov/federal-agencies/administrative-office-of-the-u-s-courts',\n",
       " u'Advisory Council on Historic Preservation': 'https://www.usa.gov/federal-agencies/advisory-council-on-historic-preservation',\n",
       " u'African Development Foundation': 'https://www.usa.gov/federal-agencies/african-development-foundation',\n",
       " u'Agency for Healthcare Research and Quality (AHRQ)': 'https://www.usa.gov/federal-agencies/agency-for-healthcare-research-and-quality',\n",
       " u'Agency for International Development (USAID)': 'https://www.usa.gov/federal-agencies/u-s-agency-for-international-development',\n",
       " u'Agency for Toxic Substances and Disease Registry': 'https://www.usa.gov/federal-agencies/agency-for-toxic-substances-and-disease-registry',\n",
       " u'Agricultural Marketing Service (AMS)': 'https://www.usa.gov/federal-agencies/agricultural-marketing-service',\n",
       " u'Agricultural Research Service': 'https://www.usa.gov/federal-agencies/agricultural-research-service',\n",
       " u'Agriculture Department (USDA)': 'https://www.usa.gov/federal-agencies/u-s-department-of-agriculture',\n",
       " u'Air Force': 'https://www.usa.gov/federal-agencies/u-s-air-force',\n",
       " u'Air Force Reserve': 'https://www.usa.gov/federal-agencies/u-s-air-force-reserve-command',\n",
       " u'Alabama': 'https://www.usa.gov/state-government/alabama',\n",
       " u'Alaska': 'https://www.usa.gov/state-government/alaska',\n",
       " u'Alcohol and Tobacco Tax and Trade Bureau': 'https://www.usa.gov/federal-agencies/alcohol-and-tobacco-tax-and-trade-bureau',\n",
       " u'Alcohol, Tobacco, Firearms and Explosives Bureau (ATF)': 'https://www.usa.gov/federal-agencies/bureau-of-alcohol-tobacco-firearms-and-explosives',\n",
       " u'AmeriCorps': 'https://www.usa.gov/federal-agencies/americorps',\n",
       " u'American Battle Monuments Commission': 'https://www.usa.gov/federal-agencies/american-battle-monuments-commission',\n",
       " u'American Samoa': 'https://www.usa.gov/state-government/american-samoa',\n",
       " u'Amtrak (AMTRAK)': 'https://www.usa.gov/federal-agencies/national-railroad-passenger-corporation',\n",
       " u'Animal and Plant Health Inspection Service (APHIS)': 'https://www.usa.gov/federal-agencies/animal-and-plant-health-inspection-service',\n",
       " u'Antitrust Division': 'https://www.usa.gov/federal-agencies/antitrust-division',\n",
       " u'Architect of the Capitol': 'https://www.usa.gov/federal-agencies/architect-of-the-capitol',\n",
       " u'Archives, National Archives and Records Administration (NARA)': 'https://www.usa.gov/federal-agencies/national-archives-and-records-administration',\n",
       " u'Arctic Research Commission': 'https://www.usa.gov/federal-agencies/u-s-arctic-research-commission',\n",
       " u'Arizona': 'https://www.usa.gov/state-government/arizona',\n",
       " u'Arkansas': 'https://www.usa.gov/state-government/arkansas',\n",
       " u'Armed Forces Retirement Home': 'https://www.usa.gov/federal-agencies/armed-forces-retirement-home',\n",
       " u'Arms Control and International Security': 'https://www.usa.gov/federal-agencies/arms-control-and-international-security',\n",
       " u'Army': 'https://www.usa.gov/federal-agencies/u-s-army',\n",
       " u'Army Corps of Engineers': 'https://www.usa.gov/federal-agencies/u-s-army-corps-of-engineers',\n",
       " u'Arthritis, Musculoskeletal and Skin Diseases, National Institute of ': 'https://www.usa.gov/federal-agencies/national-institute-of-arthritis-musculoskeletal-and-skin-diseases'}"
      ]
     },
     "execution_count": 8,
     "metadata": {},
     "output_type": "execute_result"
    }
   ],
   "source": [
    "agencies = get_agencies(dir_urls[0])\n",
    "agencies"
   ]
  },
  {
   "cell_type": "code",
   "execution_count": 9,
   "metadata": {
    "collapsed": false
   },
   "outputs": [
    {
     "name": "stdout",
     "output_type": "stream",
     "text": [
      "https://www.usa.gov/federal-agencies/a 39 https://www.usa.gov/federal-agencies/b 24 https://www.usa.gov/federal-agencies/c 50 https://www.usa.gov/federal-agencies/d 41 https://www.usa.gov/federal-agencies/e 22 https://www.usa.gov/federal-agencies/f 60 https://www.usa.gov/federal-agencies/g 10 https://www.usa.gov/federal-agencies/h 12 https://www.usa.gov/federal-agencies/i 27 https://www.usa.gov/federal-agencies/j 18 https://www.usa.gov/federal-agencies/k 2 https://www.usa.gov/federal-agencies/l 6 https://www.usa.gov/federal-agencies/m 29 https://www.usa.gov/federal-agencies/n 74 https://www.usa.gov/federal-agencies/o 38 https://www.usa.gov/federal-agencies/p 22 https://www.usa.gov/federal-agencies/r 16 https://www.usa.gov/federal-agencies/s 28 https://www.usa.gov/federal-agencies/t 13 https://www.usa.gov/federal-agencies/u 54 https://www.usa.gov/federal-agencies/v 9 https://www.usa.gov/federal-agencies/w 14 608\n"
     ]
    }
   ],
   "source": [
    "all_agencies = {}\n",
    "for url in dir_urls:\n",
    "    print url, \n",
    "    agencies = get_agencies(url)\n",
    "    print len(agencies), \n",
    "    all_agencies.update(agencies)\n",
    "    \n",
    "print len(all_agencies)"
   ]
  },
  {
   "cell_type": "code",
   "execution_count": 29,
   "metadata": {
    "collapsed": true
   },
   "outputs": [],
   "source": [
    "def get_agency_details(item):\n",
    "    agency, url = item\n",
    "    response = requests.get(url)\n",
    "    data = BeautifulSoup(response.text, \"lxml\")\n",
    "    details = data.select(\"#content > div > div > article > section a\")\n",
    "    return agency, url, details\n",
    "    "
   ]
  },
  {
   "cell_type": "code",
   "execution_count": 30,
   "metadata": {
    "collapsed": false
   },
   "outputs": [
    {
     "data": {
      "text/plain": [
       "(u'AbilityOne Commission',\n",
       " 'https://www.usa.gov/federal-agencies/u-s-abilityone-commission',\n",
       " [<a href=\"http://www.abilityone.gov\">U.S. AbilityOne Commission </a>,\n",
       "  <a href=\"http://www.abilityone.gov/contact_us/index.html\">Contact the U.S. AbilityOne Commission </a>,\n",
       "  <a href=\"mailto:info@abilityone.gov\" target=\"_top\">info@abilityone.gov</a>])"
      ]
     },
     "execution_count": 30,
     "metadata": {},
     "output_type": "execute_result"
    }
   ],
   "source": [
    "get_agency_details((u'AbilityOne Commission', \"https://www.usa.gov/federal-agencies/u-s-abilityone-commission\"))"
   ]
  },
  {
   "cell_type": "code",
   "execution_count": 31,
   "metadata": {
    "collapsed": false
   },
   "outputs": [
    {
     "name": "stderr",
     "output_type": "stream",
     "text": [
      "[Parallel(n_jobs=20)]: Done   1 tasks      | elapsed:    0.3s\n",
      "[Parallel(n_jobs=20)]: Done  10 tasks      | elapsed:    1.4s\n",
      "[Parallel(n_jobs=20)]: Done  21 tasks      | elapsed:    2.6s\n",
      "[Parallel(n_jobs=20)]: Done  32 tasks      | elapsed:    3.7s\n",
      "[Parallel(n_jobs=20)]: Done  45 tasks      | elapsed:    5.2s\n",
      "[Parallel(n_jobs=20)]: Done  58 tasks      | elapsed:    6.7s\n",
      "[Parallel(n_jobs=20)]: Done  73 tasks      | elapsed:    8.4s\n",
      "[Parallel(n_jobs=20)]: Done  88 tasks      | elapsed:    9.8s\n",
      "[Parallel(n_jobs=20)]: Done 105 tasks      | elapsed:   13.0s\n",
      "[Parallel(n_jobs=20)]: Done 122 tasks      | elapsed:   15.1s\n",
      "[Parallel(n_jobs=20)]: Done 141 tasks      | elapsed:   17.6s\n",
      "[Parallel(n_jobs=20)]: Done 160 tasks      | elapsed:   19.9s\n",
      "[Parallel(n_jobs=20)]: Done 181 tasks      | elapsed:   22.4s\n",
      "[Parallel(n_jobs=20)]: Done 202 tasks      | elapsed:   24.6s\n",
      "[Parallel(n_jobs=20)]: Done 225 tasks      | elapsed:   27.3s\n",
      "[Parallel(n_jobs=20)]: Done 248 tasks      | elapsed:   31.6s\n",
      "[Parallel(n_jobs=20)]: Done 273 tasks      | elapsed:   34.5s\n",
      "[Parallel(n_jobs=20)]: Done 298 tasks      | elapsed:   37.3s\n",
      "[Parallel(n_jobs=20)]: Done 325 tasks      | elapsed:   40.4s\n",
      "[Parallel(n_jobs=20)]: Done 352 tasks      | elapsed:   43.3s\n",
      "[Parallel(n_jobs=20)]: Done 381 tasks      | elapsed:   46.8s\n",
      "[Parallel(n_jobs=20)]: Done 410 tasks      | elapsed:   51.9s\n",
      "[Parallel(n_jobs=20)]: Done 441 tasks      | elapsed:   55.5s\n",
      "[Parallel(n_jobs=20)]: Done 472 tasks      | elapsed:   59.1s\n",
      "[Parallel(n_jobs=20)]: Done 505 tasks      | elapsed:  1.0min\n",
      "[Parallel(n_jobs=20)]: Done 538 tasks      | elapsed:  1.1min\n",
      "[Parallel(n_jobs=20)]: Done 608 out of 608 | elapsed:  1.3min finished\n"
     ]
    }
   ],
   "source": [
    "agency_details = Parallel(n_jobs=20, verbose=10)(\n",
    "    delayed(get_agency_details)(item) for item in all_agencies.iteritems())"
   ]
  },
  {
   "cell_type": "code",
   "execution_count": 32,
   "metadata": {
    "collapsed": false
   },
   "outputs": [
    {
     "data": {
      "text/plain": [
       "(u'Government Ethics, Office of',\n",
       " 'https://www.usa.gov/federal-agencies/office-of-government-ethics',\n",
       " [<a href=\"http://www.oge.gov/\">Office of Government Ethics </a>,\n",
       "  <a href=\"https://www.oge.gov/web/oge.nsf/Organization/Contact%20Us?opendocument\">Contact the Office of Government Ethics</a>,\n",
       "  <a href=\"https://www.oge.gov/Web/OGE.nsf/Resources/Where+to+Report+Misconduct\">Where to Report Misconduct</a>,\n",
       "  <a href=\"mailto:ContactOGE@oge.gov\" target=\"_top\">ContactOGE@oge.gov</a>])"
      ]
     },
     "execution_count": 32,
     "metadata": {},
     "output_type": "execute_result"
    }
   ],
   "source": [
    "agency_details[3]"
   ]
  },
  {
   "cell_type": "code",
   "execution_count": 33,
   "metadata": {
    "collapsed": true
   },
   "outputs": [],
   "source": [
    "import urlparse"
   ]
  },
  {
   "cell_type": "code",
   "execution_count": 34,
   "metadata": {
    "collapsed": false
   },
   "outputs": [
    {
     "data": {
      "text/plain": [
       "SplitResult(scheme='mailto', netloc='', path='ContactOGE@oge.gov', query='', fragment='')"
      ]
     },
     "execution_count": 34,
     "metadata": {},
     "output_type": "execute_result"
    }
   ],
   "source": [
    "urlparse.urlsplit(\"mailto:ContactOGE@oge.gov\")"
   ]
  },
  {
   "cell_type": "code",
   "execution_count": 35,
   "metadata": {
    "collapsed": false
   },
   "outputs": [
    {
     "data": {
      "text/plain": [
       "SplitResult(scheme='https', netloc='www.oge.gov', path='/Web/OGE.nsf/Resources/Where+to+Report+Misconduct', query='', fragment='')"
      ]
     },
     "execution_count": 35,
     "metadata": {},
     "output_type": "execute_result"
    }
   ],
   "source": [
    "urlparse.urlsplit(\"https://www.oge.gov/Web/OGE.nsf/Resources/Where+to+Report+Misconduct\")"
   ]
  },
  {
   "cell_type": "code",
   "execution_count": 43,
   "metadata": {
    "collapsed": true
   },
   "outputs": [],
   "source": [
    "def get_domain(details):\n",
    "    agency, url, details = details\n",
    "    links = set()\n",
    "    for anchor in details:\n",
    "        link = anchor[\"href\"]\n",
    "        split_link = urlparse.urlsplit(link)\n",
    "        if split_link.scheme == \"mailto\":\n",
    "            link = split_link.path.split(\"@\")[-1]\n",
    "        else:\n",
    "            link = split_link.netloc\n",
    "        if link == \"\":\n",
    "            continue\n",
    "        links.add(link)\n",
    "    return links"
   ]
  },
  {
   "cell_type": "code",
   "execution_count": 44,
   "metadata": {
    "collapsed": false
   },
   "outputs": [
    {
     "data": {
      "text/plain": [
       "{'oge.gov', 'www.oge.gov'}"
      ]
     },
     "execution_count": 44,
     "metadata": {},
     "output_type": "execute_result"
    }
   ],
   "source": [
    "get_domain(agency_details[3])"
   ]
  },
  {
   "cell_type": "code",
   "execution_count": 45,
   "metadata": {
    "collapsed": false
   },
   "outputs": [
    {
     "name": "stdout",
     "output_type": "stream",
     "text": [
      "1058\n"
     ]
    }
   ],
   "source": [
    "all_domains = set()\n",
    "for details in agency_details:\n",
    "    all_domains.update(get_domain(details))\n",
    "print len(all_domains)"
   ]
  },
  {
   "cell_type": "code",
   "execution_count": 46,
   "metadata": {
    "collapsed": false
   },
   "outputs": [
    {
     "data": {
      "text/plain": [
       "['governor.hawaii.gov',\n",
       " 'www.traveltex.com',\n",
       " 'presidiotrust.gov',\n",
       " 'www.visitdelaware.com',\n",
       " 'gsa.gov',\n",
       " 'www.sos.state.nm.us',\n",
       " 'www.ustr.gov',\n",
       " 'www.federallabs.org',\n",
       " 'www.oregonlottery.org',\n",
       " 'www.rd.usda.gov']"
      ]
     },
     "execution_count": 46,
     "metadata": {},
     "output_type": "execute_result"
    }
   ],
   "source": [
    "list(all_domains)[:10]"
   ]
  },
  {
   "cell_type": "code",
   "execution_count": 47,
   "metadata": {
    "collapsed": false
   },
   "outputs": [
    {
     "name": "stdout",
     "output_type": "stream",
     "text": [
      "governor.hawaii.gov\r\n",
      "www.traveltex.com\r\n",
      "presidiotrust.gov\r\n",
      "www.visitdelaware.com\r\n",
      "gsa.gov\r\n",
      "www.sos.state.nm.us\r\n",
      "www.ustr.gov\r\n",
      "www.federallabs.org\r\n",
      "www.oregonlottery.org\r\n",
      "www.rd.usda.gov\r\n"
     ]
    }
   ],
   "source": [
    "with open(\"DomainDataset/USGov_domain+suffix.txt\", \"wb+\") as fp:\n",
    "    for domain in all_domains:\n",
    "        print >> fp, domain\n",
    "        \n",
    "! head DomainDataset/USGov_domain+suffix.txt"
   ]
  },
  {
   "cell_type": "code",
   "execution_count": null,
   "metadata": {
    "collapsed": true
   },
   "outputs": [],
   "source": []
  }
 ],
 "metadata": {
  "anaconda-cloud": {},
  "kernelspec": {
   "display_name": "Python [default]",
   "language": "python",
   "name": "python2"
  },
  "language_info": {
   "codemirror_mode": {
    "name": "ipython",
    "version": 2
   },
   "file_extension": ".py",
   "mimetype": "text/x-python",
   "name": "python",
   "nbconvert_exporter": "python",
   "pygments_lexer": "ipython2",
   "version": "2.7.12"
  }
 },
 "nbformat": 4,
 "nbformat_minor": 1
}
