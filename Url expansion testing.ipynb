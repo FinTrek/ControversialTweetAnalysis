{
 "cells": [
  {
   "cell_type": "code",
   "execution_count": 1,
   "metadata": {
    "collapsed": true
   },
   "outputs": [],
   "source": [
    "import urllib2\n",
    "import httplib\n",
    "import requests"
   ]
  },
  {
   "cell_type": "code",
   "execution_count": null,
   "metadata": {
    "collapsed": false
   },
   "outputs": [
    {
     "data": {
      "text/plain": [
       "u'http://www.judicialwatch.org/blog/2016/08/dod-lets-workers-use-govt-plastic-strip-clubs-casinos-potential-national-security-vulnerabilities/'"
      ]
     },
     "execution_count": 3,
     "metadata": {},
     "output_type": "execute_result"
    }
   ],
   "source": [
    "response = requests.get(\"http://fb.me/4FiCLm7fx\", timeout=10)\n",
    "response.url"
   ]
  },
  {
   "cell_type": "code",
   "execution_count": 2,
   "metadata": {
    "collapsed": false
   },
   "outputs": [],
   "source": [
    "TESTING_URL=\"http://gvwy.io/alh1b4o\""
   ]
  },
  {
   "cell_type": "code",
   "execution_count": 3,
   "metadata": {
    "collapsed": false
   },
   "outputs": [
    {
     "data": {
      "text/plain": [
       "'https://www.youtube.com/user/IgniteDublin'"
      ]
     },
     "execution_count": 3,
     "metadata": {},
     "output_type": "execute_result"
    }
   ],
   "source": [
    "response = urllib2.urlopen(\"http://bit.ly/AoifeMcL_ID3\") # Some shortened url\n",
    "response.url"
   ]
  },
  {
   "cell_type": "code",
   "execution_count": 4,
   "metadata": {
    "collapsed": false
   },
   "outputs": [
    {
     "data": {
      "text/plain": [
       "'http://thinkingmomsrevolution.com/rolled-eyes-parents-said-vaccines-caused-kids-autism/'"
      ]
     },
     "execution_count": 4,
     "metadata": {},
     "output_type": "execute_result"
    }
   ],
   "source": [
    "opener = urllib2.build_opener()\n",
    "opener.addheaders = [('User-Agent', 'Mozilla/5.0')]\n",
    "response = opener.open('http://fb.me/7z2JmTFOc')\n",
    "response.url"
   ]
  },
  {
   "cell_type": "code",
   "execution_count": 5,
   "metadata": {
    "collapsed": false
   },
   "outputs": [
    {
     "data": {
      "text/plain": [
       "[<urllib2.UnknownHandler instance at 0x7fe5ec15c950>,\n",
       " <urllib2.HTTPHandler instance at 0x7fe5ec151170>,\n",
       " <urllib2.HTTPDefaultErrorHandler instance at 0x7fe5ec16c9e0>,\n",
       " <urllib2.HTTPRedirectHandler instance at 0x7fe5ec16c560>,\n",
       " <urllib2.FTPHandler instance at 0x7fe5ec16cb00>,\n",
       " <urllib2.FileHandler instance at 0x7fe5ec160488>,\n",
       " <urllib2.HTTPSHandler instance at 0x7fe5ec160200>,\n",
       " <urllib2.HTTPErrorProcessor instance at 0x7fe5ec160710>]"
      ]
     },
     "execution_count": 5,
     "metadata": {},
     "output_type": "execute_result"
    }
   ],
   "source": [
    "opener.handlers"
   ]
  },
  {
   "cell_type": "code",
   "execution_count": 6,
   "metadata": {
    "collapsed": false
   },
   "outputs": [
    {
     "name": "stdout",
     "output_type": "stream",
     "text": [
      "http://thinkingmomsrevolution.com/rolled-eyes-parents-said-vaccines-caused-kids-autism/\n"
     ]
    }
   ],
   "source": [
    "try:\n",
    "    response = opener.open('http://fb.me/7z2JmTFOc', timeout=100)\n",
    "    response.url\n",
    "except urllib2.HTTPError as e:\n",
    "    print \"HTTPError\"\n",
    "    print e\n",
    "except urllib2.URLError as e:\n",
    "    print \"URLError\"\n",
    "    print e\n",
    "except Exception as e:\n",
    "    print \"Other exception\"\n",
    "    print e\n",
    "print response.url"
   ]
  },
  {
   "cell_type": "code",
   "execution_count": 7,
   "metadata": {
    "collapsed": false
   },
   "outputs": [],
   "source": [
    "class SmartRedirectHandler(urllib2.HTTPRedirectHandler):\n",
    "    def http_error_301(self, req, fp, code, msg, headers):\n",
    "        print \"Error 301\"\n",
    "        print headers\n",
    "        result = urllib2.HTTPRedirectHandler.http_error_301(\n",
    "            self, req, fp, code, msg, headers)              \n",
    "        result.status = code\n",
    "        result.extra_headers = headers\n",
    "        return result                                       \n",
    "\n",
    "    def http_error_302(self, req, fp, code, msg, headers):\n",
    "        print \"Error 302\"\n",
    "        print headers\n",
    "        result = urllib2.HTTPRedirectHandler.http_error_302(\n",
    "            self, req, fp, code, msg, headers)              \n",
    "        result.status = code                                \n",
    "        return result     "
   ]
  },
  {
   "cell_type": "code",
   "execution_count": 8,
   "metadata": {
    "collapsed": false
   },
   "outputs": [
    {
     "name": "stdout",
     "output_type": "stream",
     "text": [
      "Error 301\n",
      "Location: http://thinkingmomsrevolution.com/rolled-eyes-parents-said-vaccines-caused-kids-autism/\r\n",
      "X-Frame-Options: DENY\r\n",
      "X-XSS-Protection: 0\r\n",
      "Access-Control-Allow-Credentials: true\r\n",
      "Vary: Origin\r\n",
      "Pragma: no-cache\r\n",
      "Access-Control-Allow-Origin: http://fb.me\r\n",
      "Access-Control-Expose-Headers: X-FB-Debug, X-Loader-Length\r\n",
      "access-control-allow-method: OPTIONS\r\n",
      "Expires: Sat, 01 Jan 2000 00:00:00 GMT\r\n",
      "X-Content-Type-Options: nosniff\r\n",
      "Cache-Control: private, no-cache, no-store, must-revalidate\r\n",
      "Vary: Accept-Encoding\r\n",
      "Content-Type: text/html\r\n",
      "X-FB-Debug: w3MWW/cx0IZ7EWegby5C+jXwHbwMDSaR/fBDPY5AW1e/ot80+slgxytP45X6tMHm3H290DAU+i5J5hikF1VwsQ==\r\n",
      "Date: Tue, 21 Feb 2017 05:36:42 GMT\r\n",
      "Connection: close\r\n",
      "Content-Length: 0\r\n",
      "\n"
     ]
    },
    {
     "data": {
      "text/plain": [
       "'http://thinkingmomsrevolution.com/rolled-eyes-parents-said-vaccines-caused-kids-autism/'"
      ]
     },
     "execution_count": 8,
     "metadata": {},
     "output_type": "execute_result"
    }
   ],
   "source": [
    "opener = urllib2.build_opener(SmartRedirectHandler)\n",
    "opener.addheaders = [('User-Agent', 'Mozilla/5.0')]\n",
    "response = opener.open('http://fb.me/7z2JmTFOc')\n",
    "response.url"
   ]
  },
  {
   "cell_type": "code",
   "execution_count": 9,
   "metadata": {
    "collapsed": false
   },
   "outputs": [
    {
     "data": {
      "text/plain": [
       "'http://thinkingmomsrevolution.com/rolled-eyes-parents-said-vaccines-caused-kids-autism/'"
      ]
     },
     "execution_count": 9,
     "metadata": {},
     "output_type": "execute_result"
    }
   ],
   "source": [
    "response.extra_headers[\"LOCATION\"]"
   ]
  },
  {
   "cell_type": "code",
   "execution_count": 10,
   "metadata": {
    "collapsed": false
   },
   "outputs": [],
   "source": [
    "response.org_loc = 10"
   ]
  },
  {
   "cell_type": "code",
   "execution_count": 11,
   "metadata": {
    "collapsed": false
   },
   "outputs": [
    {
     "data": {
      "text/plain": [
       "[<urllib2.UnknownHandler instance at 0x7fe5ec1511b8>,\n",
       " <urllib2.HTTPHandler instance at 0x7fe5ec151128>,\n",
       " <urllib2.HTTPDefaultErrorHandler instance at 0x7fe5ec1510e0>,\n",
       " <urllib2.FTPHandler instance at 0x7fe5ec160cf8>,\n",
       " <urllib2.FileHandler instance at 0x7fe5ec160c20>,\n",
       " <urllib2.HTTPSHandler instance at 0x7fe5ec160f80>,\n",
       " <__main__.SmartRedirectHandler instance at 0x7fe5ec160f38>,\n",
       " <urllib2.HTTPErrorProcessor instance at 0x7fe5ec160fc8>]"
      ]
     },
     "execution_count": 11,
     "metadata": {},
     "output_type": "execute_result"
    }
   ],
   "source": [
    "opener.handlers"
   ]
  },
  {
   "cell_type": "code",
   "execution_count": 13,
   "metadata": {
    "collapsed": false
   },
   "outputs": [],
   "source": [
    "response = requests.get('http://fb.me/7z2JmTFOc')"
   ]
  },
  {
   "cell_type": "code",
   "execution_count": 14,
   "metadata": {
    "collapsed": false
   },
   "outputs": [
    {
     "data": {
      "text/plain": [
       "u'http://thinkingmomsrevolution.com/rolled-eyes-parents-said-vaccines-caused-kids-autism/'"
      ]
     },
     "execution_count": 14,
     "metadata": {},
     "output_type": "execute_result"
    }
   ],
   "source": [
    "response.url"
   ]
  },
  {
   "cell_type": "code",
   "execution_count": 15,
   "metadata": {
    "collapsed": false
   },
   "outputs": [
    {
     "data": {
      "text/plain": [
       "'http://thinkingmomsrevolution.com/rolled-eyes-parents-said-vaccines-caused-kids-autism/'"
      ]
     },
     "execution_count": 15,
     "metadata": {},
     "output_type": "execute_result"
    }
   ],
   "source": [
    "response.history[0].headers[\"Location\"]"
   ]
  },
  {
   "cell_type": "code",
   "execution_count": 16,
   "metadata": {
    "collapsed": false
   },
   "outputs": [
    {
     "name": "stdout",
     "output_type": "stream",
     "text": [
      "HTTPConnectionPool(host='mabelsaveforschool.com', port=80): Max retries exceeded with url: /contest-entry (Caused by ConnectTimeoutError(<requests.packages.urllib3.connection.HTTPConnection object at 0x7fe5ddf71cd0>, 'Connection to mabelsaveforschool.com timed out. (connect timeout=10)'))\n"
     ]
    }
   ],
   "source": [
    "try:\n",
    "    response = requests.get(TESTING_URL, timeout=10)\n",
    "except requests.RequestException as e:\n",
    "    print e"
   ]
  },
  {
   "cell_type": "code",
   "execution_count": 17,
   "metadata": {
    "collapsed": false
   },
   "outputs": [
    {
     "data": {
      "text/plain": [
       "'http://mabelsaveforschool.com/contest-entry'"
      ]
     },
     "execution_count": 17,
     "metadata": {},
     "output_type": "execute_result"
    }
   ],
   "source": [
    "e.request.url"
   ]
  },
  {
   "cell_type": "code",
   "execution_count": 18,
   "metadata": {
    "collapsed": false
   },
   "outputs": [
    {
     "name": "stdout",
     "output_type": "stream",
     "text": [
      "General exp block\n",
      "'NoneType' object has no attribute 'append' <type 'exceptions.AttributeError'>\n"
     ]
    }
   ],
   "source": [
    "try:\n",
    "    e = None\n",
    "    a = None\n",
    "    a.append(1)\n",
    "except IndexError as e:\n",
    "    print e, type(e)\n",
    "except Exception as e:\n",
    "    print \"General exp block\"\n",
    "    print e, type(e)\n",
    "else:\n",
    "    print \"Else block\"\n",
    "    print e, type(e)"
   ]
  },
  {
   "cell_type": "code",
   "execution_count": 19,
   "metadata": {
    "collapsed": false
   },
   "outputs": [
    {
     "data": {
      "text/plain": [
       "u'http://thinkingmomsrevolution.com/rolled-eyes-parents-said-vaccines-caused-kids-autism/'"
      ]
     },
     "execution_count": 19,
     "metadata": {},
     "output_type": "execute_result"
    }
   ],
   "source": [
    "response = requests.get(\"http://fb.me/7z2JmTFOc\")\n",
    "response.url"
   ]
  },
  {
   "cell_type": "code",
   "execution_count": 21,
   "metadata": {
    "collapsed": false
   },
   "outputs": [
    {
     "name": "stdout",
     "output_type": "stream",
     "text": [
      "HTTPConnectionPool(host='personalhealthdiary.co', port=80): Max retries exceeded with url: /fda-announce-that-dtap-vaccine-causes-autism/ (Caused by NewConnectionError('<requests.packages.urllib3.connection.HTTPConnection object at 0x7fe5dded1990>: Failed to establish a new connection: [Errno -2] Name or service not known',))\n"
     ]
    }
   ],
   "source": [
    "TESTING_URL = \"http://fb.me/PeRMrk16\"\n",
    "try:\n",
    "    response = requests.get(TESTING_URL, timeout=10)\n",
    "except requests.RequestException as e:\n",
    "    print e"
   ]
  },
  {
   "cell_type": "code",
   "execution_count": 22,
   "metadata": {
    "collapsed": false
   },
   "outputs": [
    {
     "data": {
      "text/plain": [
       "'http://personalhealthdiary.co/fda-announce-that-dtap-vaccine-causes-autism/'"
      ]
     },
     "execution_count": 22,
     "metadata": {},
     "output_type": "execute_result"
    }
   ],
   "source": [
    "e.request.url"
   ]
  },
  {
   "cell_type": "code",
   "execution_count": null,
   "metadata": {
    "collapsed": true
   },
   "outputs": [],
   "source": []
  }
 ],
 "metadata": {
  "anaconda-cloud": {},
  "kernelspec": {
   "display_name": "Python [default]",
   "language": "python",
   "name": "python2"
  },
  "language_info": {
   "codemirror_mode": {
    "name": "ipython",
    "version": 2
   },
   "file_extension": ".py",
   "mimetype": "text/x-python",
   "name": "python",
   "nbconvert_exporter": "python",
   "pygments_lexer": "ipython2",
   "version": "2.7.12"
  }
 },
 "nbformat": 4,
 "nbformat_minor": 1
}
