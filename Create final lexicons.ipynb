{
 "cells": [
  {
   "cell_type": "code",
   "execution_count": 1,
   "metadata": {
    "collapsed": true
   },
   "outputs": [],
   "source": [
    "import pandas as pd\n",
    "import numpy as np\n",
    "from glob import glob\n",
    "from collections import defaultdict, Counter\n",
    "\n",
    "from urlparse import urlsplit, parse_qs\n",
    "\n",
    "import re"
   ]
  },
  {
   "cell_type": "code",
   "execution_count": 2,
   "metadata": {
    "collapsed": false
   },
   "outputs": [
    {
     "name": "stdout",
     "output_type": "stream",
     "text": [
      "['DomainDataset/fakenews_domain+suffix.txt', 'DomainDataset/commercial_domain+suffix.txt', 'DomainDataset/fakenewschecker_domain+suffix.txt', 'DomainDataset/satire_domain+suffix.txt', 'DomainDataset/Videos_domain+suffix.txt', 'DomainDataset/socialMedia_domain+suffix.txt', 'DomainDataset/scientific_domain+suffix.txt', 'DomainDataset/clickbait_domain+suffix.txt', 'DomainDataset/Blog_domain+suffix.txt', 'DomainDataset/USGov_domain+suffix.txt', 'DomainDataset/News_Domain+suffix.txt']\n"
     ]
    }
   ],
   "source": [
    "hand_annotated_lexicons_files = glob(\"DomainDataset/*+suffix.txt\")\n",
    "print hand_annotated_lexicons_files"
   ]
  },
  {
   "cell_type": "code",
   "execution_count": 3,
   "metadata": {
    "collapsed": false
   },
   "outputs": [
    {
     "name": "stdout",
     "output_type": "stream",
     "text": [
      "DomainDataset/fakenews_domain+suffix.txt\tfakenews\n",
      "DomainDataset/commercial_domain+suffix.txt\tcommercial\n",
      "DomainDataset/fakenewschecker_domain+suffix.txt\tfakenews\n",
      "DomainDataset/satire_domain+suffix.txt\tsatire\n",
      "DomainDataset/Videos_domain+suffix.txt\tvideos\n",
      "DomainDataset/socialMedia_domain+suffix.txt\tsocialmedia\n",
      "DomainDataset/scientific_domain+suffix.txt\tscientific\n",
      "DomainDataset/clickbait_domain+suffix.txt\tclickbait\n",
      "DomainDataset/Blog_domain+suffix.txt\tblog\n",
      "DomainDataset/USGov_domain+suffix.txt\tusgov\n",
      "DomainDataset/News_Domain+suffix.txt\tnews\n"
     ]
    }
   ],
   "source": [
    "CAT_REGEX = re.compile(r'.*/([a-zA-Z]+)_.*')\n",
    "\n",
    "url_categories = defaultdict(set)\n",
    "for filename in hand_annotated_lexicons_files:\n",
    "    catname = CAT_REGEX.match(filename).groups()[0].lower()\n",
    "    if catname == \"fakenewschecker\":\n",
    "        catname = \"fakenews\"\n",
    "    print \"%s\\t%s\" % (filename, catname)\n",
    "    with open(filename) as fp:\n",
    "        for line in fp:\n",
    "            line = line.strip().lower()\n",
    "            if line.startswith(\"www.\"):\n",
    "                line = line[4:]\n",
    "            url_categories[line].add(catname)\n",
    "            \n",
    "url_categories[\"twitter.com\"].add(\"twitter\") # Manually add twitter in seperate category"
   ]
  },
  {
   "cell_type": "code",
   "execution_count": 4,
   "metadata": {
    "collapsed": false
   },
   "outputs": [
    {
     "name": "stdout",
     "output_type": "stream",
     "text": [
      "['DomainDataset/Wikidata_scientific.tsv', 'DomainDataset/Wikidata_videos.tsv', 'DomainDataset/Wikidata_socialmedia.tsv', 'DomainDataset/Wikidata_blog.tsv', 'DomainDataset/Wikidata_news.tsv']\n",
      "DomainDataset/Wikidata_scientific.tsv\tscientific\n",
      "DomainDataset/Wikidata_videos.tsv\tvideos\n",
      "DomainDataset/Wikidata_socialmedia.tsv\tsocialmedia\n",
      "DomainDataset/Wikidata_blog.tsv\tblog\n",
      "DomainDataset/Wikidata_news.tsv\tnews\n"
     ]
    }
   ],
   "source": [
    "wikidata_files = glob(\"DomainDataset/Wikidata_*.tsv\")\n",
    "print wikidata_files\n",
    "\n",
    "WIKIDATA_CAT_REGEX = re.compile(r'.*/.*_([a-zA-Z\\ ]+).*')\n",
    "\n",
    "for filename in wikidata_files:\n",
    "    catname = WIKIDATA_CAT_REGEX.match(filename).groups()[0].lower()\n",
    "    print \"%s\\t%s\" % (filename, catname)\n",
    "    with open(filename) as fp:\n",
    "        header = fp.readline()\n",
    "        for line in fp:\n",
    "            line = line[:-1].lower().split(\"\\t\")[-1]\n",
    "            if line.strip() == \"\":\n",
    "                continue\n",
    "            try:\n",
    "                line = line.split(\"/\", 3)[2]\n",
    "            except:\n",
    "                print line\n",
    "                raise\n",
    "            if line.startswith(\"www.\"):\n",
    "                line = line[4:]\n",
    "            url_categories[line].add(catname)"
   ]
  },
  {
   "cell_type": "code",
   "execution_count": 5,
   "metadata": {
    "collapsed": false
   },
   "outputs": [
    {
     "data": {
      "text/html": [
       "<div>\n",
       "<table border=\"1\" class=\"dataframe\">\n",
       "  <thead>\n",
       "    <tr style=\"text-align: right;\">\n",
       "      <th></th>\n",
       "      <th>URL category</th>\n",
       "      <th>Counts</th>\n",
       "    </tr>\n",
       "  </thead>\n",
       "  <tbody>\n",
       "    <tr>\n",
       "      <th>0</th>\n",
       "      <td>blog</td>\n",
       "      <td>194</td>\n",
       "    </tr>\n",
       "    <tr>\n",
       "      <th>1</th>\n",
       "      <td>commercial</td>\n",
       "      <td>55</td>\n",
       "    </tr>\n",
       "    <tr>\n",
       "      <th>2</th>\n",
       "      <td>fakenews</td>\n",
       "      <td>519</td>\n",
       "    </tr>\n",
       "    <tr>\n",
       "      <th>3</th>\n",
       "      <td>news</td>\n",
       "      <td>1988</td>\n",
       "    </tr>\n",
       "    <tr>\n",
       "      <th>4</th>\n",
       "      <td>scientific</td>\n",
       "      <td>2962</td>\n",
       "    </tr>\n",
       "    <tr>\n",
       "      <th>5</th>\n",
       "      <td>socialmedia</td>\n",
       "      <td>87</td>\n",
       "    </tr>\n",
       "    <tr>\n",
       "      <th>6</th>\n",
       "      <td>twitter</td>\n",
       "      <td>1</td>\n",
       "    </tr>\n",
       "    <tr>\n",
       "      <th>7</th>\n",
       "      <td>videos</td>\n",
       "      <td>13</td>\n",
       "    </tr>\n",
       "  </tbody>\n",
       "</table>\n",
       "</div>"
      ],
      "text/plain": [
       "  URL category  Counts\n",
       "0         blog     194\n",
       "1   commercial      55\n",
       "2     fakenews     519\n",
       "3         news    1988\n",
       "4   scientific    2962\n",
       "5  socialmedia      87\n",
       "6      twitter       1\n",
       "7       videos      13"
      ]
     },
     "execution_count": 5,
     "metadata": {},
     "output_type": "execute_result"
    }
   ],
   "source": [
    "CAT_MAPPINGS={\n",
    "    \"satire\": \"fakenews\",\n",
    "    \"clickbait\": \"fakenews\",\n",
    "    \"usgov\": \"news\"\n",
    "}\n",
    "df_t=pd.Series(\n",
    "    Counter(\n",
    "        sum((list(CAT_MAPPINGS.get(x, x) for x in k)\n",
    "             for k in url_categories.itervalues()),\n",
    "            []))).to_frame()\n",
    "df_t.reset_index().rename(\n",
    "    columns={0: \"Counts\",\n",
    "            \"index\": \"URL category\"})"
   ]
  },
  {
   "cell_type": "code",
   "execution_count": 6,
   "metadata": {
    "collapsed": false
   },
   "outputs": [
    {
     "data": {
      "text/plain": [
       "(5724, {'socialmedia'})"
      ]
     },
     "execution_count": 6,
     "metadata": {},
     "output_type": "execute_result"
    }
   ],
   "source": [
    "len(url_categories), url_categories[\"facebook.com\"]"
   ]
  },
  {
   "cell_type": "code",
   "execution_count": 7,
   "metadata": {
    "collapsed": false
   },
   "outputs": [
    {
     "name": "stdout",
     "output_type": "stream",
     "text": [
      "tap.sagepub.com\tscientific\r\n",
      "qualitative-research.net\tscientific\r\n",
      "pe.com\tnews\r\n",
      "iijournals.com\tscientific\r\n",
      "present.fr\tnews\r\n",
      "rpd.unibo.it\tscientific\r\n",
      "libertyunyielding.com\tfakenews\r\n",
      "usma.edu\tusgov\r\n",
      "cbssports.com\tnews\r\n",
      "e-asianwomen.org\tscientific\r\n"
     ]
    }
   ],
   "source": [
    "with open(\"Final Lexicons/URL_CATEGORIES.txt\", \"wb+\") as fp:\n",
    "    for url, categories in url_categories.iteritems():\n",
    "        if url.strip():\n",
    "            print >> fp, \"%s\\t%s\" % (url, \"|\".join(categories))\n",
    "! head Final\\ Lexicons/URL_CATEGORIES.txt"
   ]
  },
  {
   "cell_type": "code",
   "execution_count": null,
   "metadata": {
    "collapsed": true
   },
   "outputs": [],
   "source": []
  }
 ],
 "metadata": {
  "anaconda-cloud": {},
  "kernelspec": {
   "display_name": "Python [default]",
   "language": "python",
   "name": "python2"
  },
  "language_info": {
   "codemirror_mode": {
    "name": "ipython",
    "version": 2
   },
   "file_extension": ".py",
   "mimetype": "text/x-python",
   "name": "python",
   "nbconvert_exporter": "python",
   "pygments_lexer": "ipython2",
   "version": "2.7.12"
  }
 },
 "nbformat": 4,
 "nbformat_minor": 2
}
