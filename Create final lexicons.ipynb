{
 "cells": [
  {
   "cell_type": "code",
   "execution_count": 1,
   "metadata": {
    "collapsed": true
   },
   "outputs": [],
   "source": [
    "import pandas as pd\n",
    "import numpy as np\n",
    "from glob import glob\n",
    "from collections import defaultdict, Counter\n",
    "\n",
    "from urlparse import urlsplit, parse_qs\n",
    "\n",
    "import re"
   ]
  },
  {
   "cell_type": "code",
   "execution_count": 2,
   "metadata": {
    "collapsed": false
   },
   "outputs": [
    {
     "name": "stdout",
     "output_type": "stream",
     "text": [
      "['DomainDataset/fakenews_domain+suffix.txt', 'DomainDataset/commercial_domain+suffix.txt', 'DomainDataset/fakenewschecker_domain+suffix.txt', 'DomainDataset/satire_domain+suffix.txt', 'DomainDataset/Videos_domain+suffix.txt', 'DomainDataset/socialMedia_domain+suffix.txt', 'DomainDataset/scientific_domain+suffix.txt', 'DomainDataset/clickbait_domain+suffix.txt', 'DomainDataset/Blog_domain+suffix.txt', 'DomainDataset/USGov_domain+suffix.txt', 'DomainDataset/News_Domain+suffix.txt']\n"
     ]
    }
   ],
   "source": [
    "hand_annotated_lexicons_files = glob(\"DomainDataset/*+suffix.txt\")\n",
    "print hand_annotated_lexicons_files"
   ]
  },
  {
   "cell_type": "code",
   "execution_count": 3,
   "metadata": {
    "collapsed": true
   },
   "outputs": [],
   "source": [
    "class URLCategory(object):\n",
    "    def __init__(self):\n",
    "        self.categories = set()\n",
    "        self.sources = set()\n",
    "    \n",
    "    def add(self, category, source):\n",
    "        self.categories.add(category)\n",
    "        self.sources.add(source)\n",
    "        \n",
    "    def __repr__(self):\n",
    "        return \"URLCategory(caegories=%r, sources=%r)\" % (\n",
    "            self.categories, self.sources\n",
    "        )"
   ]
  },
  {
   "cell_type": "code",
   "execution_count": 4,
   "metadata": {
    "collapsed": false
   },
   "outputs": [
    {
     "name": "stdout",
     "output_type": "stream",
     "text": [
      "DomainDataset/fakenews_domain+suffix.txt\tfakenews\n",
      "DomainDataset/commercial_domain+suffix.txt\tcommercial\n",
      "DomainDataset/fakenewschecker_domain+suffix.txt\tfakenews\n",
      "DomainDataset/satire_domain+suffix.txt\tsatire\n",
      "DomainDataset/Videos_domain+suffix.txt\tvideos\n",
      "DomainDataset/socialMedia_domain+suffix.txt\tsocialmedia\n",
      "DomainDataset/scientific_domain+suffix.txt\tscientific\n",
      "DomainDataset/clickbait_domain+suffix.txt\tclickbait\n",
      "DomainDataset/Blog_domain+suffix.txt\tblog\n",
      "DomainDataset/USGov_domain+suffix.txt\tusgov\n",
      "DomainDataset/News_Domain+suffix.txt\tnews\n"
     ]
    }
   ],
   "source": [
    "CAT_REGEX = re.compile(r'.*/([a-zA-Z]+)_.*')\n",
    "source = \"handcoded\"\n",
    "url_categories = defaultdict(URLCategory)\n",
    "for filename in hand_annotated_lexicons_files:\n",
    "    catname = CAT_REGEX.match(filename).groups()[0].lower()\n",
    "    if catname in set([\"fakenewschecker\", \"usgov\"]):\n",
    "        source = catname\n",
    "    else:\n",
    "        source = \"handcoded\"\n",
    "    if catname == \"fakenewschecker\":\n",
    "        catname = \"fakenews\"\n",
    "    print \"%s\\t%s\" % (filename, catname)\n",
    "    with open(filename) as fp:\n",
    "        for line in fp:\n",
    "            line = line.strip().lower()\n",
    "            if line.startswith(\"www.\"):\n",
    "                line = line[4:]\n",
    "            url_categories[line].add(catname, source)\n",
    "            \n",
    "url_categories[\"twitter.com\"].add(\"twitter\", source) # Manually add twitter in seperate category"
   ]
  },
  {
   "cell_type": "code",
   "execution_count": 5,
   "metadata": {
    "collapsed": false
   },
   "outputs": [
    {
     "name": "stdout",
     "output_type": "stream",
     "text": [
      "['DomainDataset/Wikidata_scientific.tsv', 'DomainDataset/Wikidata_videos.tsv', 'DomainDataset/Wikidata_socialmedia.tsv', 'DomainDataset/Wikidata_blog.tsv', 'DomainDataset/Wikidata_news.tsv']\n",
      "DomainDataset/Wikidata_scientific.tsv\tscientific\n",
      "DomainDataset/Wikidata_videos.tsv\tvideos\n",
      "DomainDataset/Wikidata_socialmedia.tsv\tsocialmedia\n",
      "DomainDataset/Wikidata_blog.tsv\tblog\n",
      "DomainDataset/Wikidata_news.tsv\tnews\n"
     ]
    }
   ],
   "source": [
    "wikidata_files = glob(\"DomainDataset/Wikidata_*.tsv\")\n",
    "print wikidata_files\n",
    "source = \"wikidata\"\n",
    "WIKIDATA_CAT_REGEX = re.compile(r'.*/.*_([a-zA-Z\\ ]+).*')\n",
    "\n",
    "for filename in wikidata_files:\n",
    "    catname = WIKIDATA_CAT_REGEX.match(filename).groups()[0].lower()\n",
    "    print \"%s\\t%s\" % (filename, catname)\n",
    "    with open(filename) as fp:\n",
    "        header = fp.readline()\n",
    "        for line in fp:\n",
    "            line = line[:-1].lower().split(\"\\t\")[-1]\n",
    "            if line.strip() == \"\":\n",
    "                continue\n",
    "            try:\n",
    "                line = line.split(\"/\", 3)[2]\n",
    "            except:\n",
    "                print line\n",
    "                raise\n",
    "            if line.startswith(\"www.\"):\n",
    "                line = line[4:]\n",
    "            url_categories[line].add(catname, source)"
   ]
  },
  {
   "cell_type": "code",
   "execution_count": 6,
   "metadata": {
    "collapsed": false
   },
   "outputs": [
    {
     "data": {
      "text/html": [
       "<div>\n",
       "<table border=\"1\" class=\"dataframe\">\n",
       "  <thead>\n",
       "    <tr style=\"text-align: right;\">\n",
       "      <th></th>\n",
       "      <th>URL category</th>\n",
       "      <th>Counts</th>\n",
       "    </tr>\n",
       "  </thead>\n",
       "  <tbody>\n",
       "    <tr>\n",
       "      <th>0</th>\n",
       "      <td>blog</td>\n",
       "      <td>194</td>\n",
       "    </tr>\n",
       "    <tr>\n",
       "      <th>1</th>\n",
       "      <td>commercial</td>\n",
       "      <td>55</td>\n",
       "    </tr>\n",
       "    <tr>\n",
       "      <th>2</th>\n",
       "      <td>fakenews</td>\n",
       "      <td>518</td>\n",
       "    </tr>\n",
       "    <tr>\n",
       "      <th>3</th>\n",
       "      <td>news</td>\n",
       "      <td>1988</td>\n",
       "    </tr>\n",
       "    <tr>\n",
       "      <th>4</th>\n",
       "      <td>scientific</td>\n",
       "      <td>2962</td>\n",
       "    </tr>\n",
       "    <tr>\n",
       "      <th>5</th>\n",
       "      <td>socialmedia</td>\n",
       "      <td>87</td>\n",
       "    </tr>\n",
       "    <tr>\n",
       "      <th>6</th>\n",
       "      <td>twitter</td>\n",
       "      <td>1</td>\n",
       "    </tr>\n",
       "    <tr>\n",
       "      <th>7</th>\n",
       "      <td>videos</td>\n",
       "      <td>13</td>\n",
       "    </tr>\n",
       "  </tbody>\n",
       "</table>\n",
       "</div>"
      ],
      "text/plain": [
       "  URL category  Counts\n",
       "0         blog     194\n",
       "1   commercial      55\n",
       "2     fakenews     518\n",
       "3         news    1988\n",
       "4   scientific    2962\n",
       "5  socialmedia      87\n",
       "6      twitter       1\n",
       "7       videos      13"
      ]
     },
     "execution_count": 6,
     "metadata": {},
     "output_type": "execute_result"
    }
   ],
   "source": [
    "CAT_MAPPINGS={\n",
    "    \"satire\": \"fakenews\",\n",
    "    \"clickbait\": \"fakenews\",\n",
    "    \"usgov\": \"news\"\n",
    "}\n",
    "df_t=pd.Series(\n",
    "    Counter(\n",
    "        sum((list(CAT_MAPPINGS.get(x, x) for x in k.categories)\n",
    "             for k in url_categories.itervalues()),\n",
    "            []))).to_frame()\n",
    "df_t.reset_index().rename(\n",
    "    columns={0: \"Counts\",\n",
    "            \"index\": \"URL category\"})"
   ]
  },
  {
   "cell_type": "code",
   "execution_count": 7,
   "metadata": {
    "collapsed": false
   },
   "outputs": [
    {
     "data": {
      "text/html": [
       "<div>\n",
       "<table border=\"1\" class=\"dataframe\">\n",
       "  <thead>\n",
       "    <tr style=\"text-align: right;\">\n",
       "      <th></th>\n",
       "      <th>URL sources</th>\n",
       "      <th>Counts</th>\n",
       "    </tr>\n",
       "  </thead>\n",
       "  <tbody>\n",
       "    <tr>\n",
       "      <th>0</th>\n",
       "      <td>fakenewschecker</td>\n",
       "      <td>367</td>\n",
       "    </tr>\n",
       "    <tr>\n",
       "      <th>1</th>\n",
       "      <td>handcoded</td>\n",
       "      <td>709</td>\n",
       "    </tr>\n",
       "    <tr>\n",
       "      <th>2</th>\n",
       "      <td>usgov</td>\n",
       "      <td>888</td>\n",
       "    </tr>\n",
       "    <tr>\n",
       "      <th>3</th>\n",
       "      <td>wikidata</td>\n",
       "      <td>3943</td>\n",
       "    </tr>\n",
       "  </tbody>\n",
       "</table>\n",
       "</div>"
      ],
      "text/plain": [
       "       URL sources  Counts\n",
       "0  fakenewschecker     367\n",
       "1        handcoded     709\n",
       "2            usgov     888\n",
       "3         wikidata    3943"
      ]
     },
     "execution_count": 7,
     "metadata": {},
     "output_type": "execute_result"
    }
   ],
   "source": [
    "df_t=pd.Series(\n",
    "    Counter(\n",
    "        sum((list(x for x in k.sources)\n",
    "             for k in url_categories.itervalues()),\n",
    "            []))).to_frame()\n",
    "df_t.reset_index().rename(\n",
    "    columns={0: \"Counts\",\n",
    "            \"index\": \"URL sources\"})"
   ]
  },
  {
   "cell_type": "code",
   "execution_count": 8,
   "metadata": {
    "collapsed": false
   },
   "outputs": [
    {
     "data": {
      "text/plain": [
       "(5723,\n",
       " URLCategory(caegories=set(['socialmedia']), sources=set(['wikidata', 'handcoded'])))"
      ]
     },
     "execution_count": 8,
     "metadata": {},
     "output_type": "execute_result"
    }
   ],
   "source": [
    "len(url_categories), url_categories[\"facebook.com\"]"
   ]
  },
  {
   "cell_type": "code",
   "execution_count": 9,
   "metadata": {
    "collapsed": false
   },
   "outputs": [
    {
     "name": "stdout",
     "output_type": "stream",
     "text": [
      "URL\tCategories\tSources\r\n",
      "100percentfedup.com\tfakenews\tfakenewschecker|handcoded\r\n",
      "199.44.84.82\tusgov\tusgov\r\n",
      "1stcenturywire.com\tfakenews\thandcoded\r\n",
      "209.235.208.145\tscientific\twikidata\r\n",
      "20min.ch\tnews\twikidata\r\n",
      "20minutes.fr\tnews\twikidata\r\n",
      "21stcenturywire.com\tclickbait|fakenews\tfakenewschecker|handcoded\r\n",
      "24heures.ch\tnews\twikidata\r\n",
      "24hrs.ca\tnews\twikidata\r\n"
     ]
    }
   ],
   "source": [
    "with open(\"Final Lexicons/URL_CATEGORIES.tsv\", \"wb+\") as fp:\n",
    "    print >> fp, \"URL\\tCategories\\tSources\"\n",
    "    for url, details in sorted(url_categories.iteritems(), key=lambda x: x[0]):\n",
    "        if url.strip():\n",
    "            print >> fp, \"%s\\t%s\\t%s\" % (\n",
    "                url, \"|\".join(details.categories),\n",
    "                \"|\".join(details.sources))\n",
    "! head Final\\ Lexicons/URL_CATEGORIES.tsv"
   ]
  },
  {
   "cell_type": "code",
   "execution_count": null,
   "metadata": {
    "collapsed": true
   },
   "outputs": [],
   "source": []
  }
 ],
 "metadata": {
  "anaconda-cloud": {},
  "kernelspec": {
   "display_name": "Python [default]",
   "language": "python",
   "name": "python2"
  },
  "language_info": {
   "codemirror_mode": {
    "name": "ipython",
    "version": 2
   },
   "file_extension": ".py",
   "mimetype": "text/x-python",
   "name": "python",
   "nbconvert_exporter": "python",
   "pygments_lexer": "ipython2",
   "version": "2.7.12"
  }
 },
 "nbformat": 4,
 "nbformat_minor": 2
}
