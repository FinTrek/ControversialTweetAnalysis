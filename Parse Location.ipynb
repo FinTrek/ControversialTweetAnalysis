{
 "cells": [
  {
   "cell_type": "code",
   "execution_count": 1,
   "metadata": {
    "collapsed": false
   },
   "outputs": [],
   "source": [
    "import pandas as pd"
   ]
  },
  {
   "cell_type": "code",
   "execution_count": 2,
   "metadata": {
    "collapsed": true
   },
   "outputs": [],
   "source": [
    "df = pd.read_csv(\"PARSED_STATES.txt\", sep=\"\\t\")\n",
    "df.parsed_state = df.parsed_state.str.upper()\n",
    "df_states = pd.read_csv(\"US_STATES.txt\", sep=\"\\t\")\n",
    "df_cities = pd.read_json(\"us.cities.json\", orient=\"records\")\n",
    "df_cities[\"state\"] = df_cities.state.str.upper()"
   ]
  },
  {
   "cell_type": "code",
   "execution_count": 3,
   "metadata": {
    "collapsed": false
   },
   "outputs": [
    {
     "data": {
      "text/html": [
       "<div>\n",
       "<table border=\"1\" class=\"dataframe\">\n",
       "  <thead>\n",
       "    <tr style=\"text-align: right;\">\n",
       "      <th></th>\n",
       "      <th>1</th>\n",
       "    </tr>\n",
       "    <tr>\n",
       "      <th>0</th>\n",
       "      <th></th>\n",
       "    </tr>\n",
       "  </thead>\n",
       "  <tbody>\n",
       "    <tr>\n",
       "      <th>NYC</th>\n",
       "      <td>NY</td>\n",
       "    </tr>\n",
       "    <tr>\n",
       "      <th>Midwest</th>\n",
       "      <td>IL</td>\n",
       "    </tr>\n",
       "    <tr>\n",
       "      <th>Brooklyn</th>\n",
       "      <td>NY</td>\n",
       "    </tr>\n",
       "    <tr>\n",
       "      <th>Manhattan</th>\n",
       "      <td>NY</td>\n",
       "    </tr>\n",
       "    <tr>\n",
       "      <th>SF Bay Area</th>\n",
       "      <td>CA</td>\n",
       "    </tr>\n",
       "  </tbody>\n",
       "</table>\n",
       "</div>"
      ],
      "text/plain": [
       "              1\n",
       "0              \n",
       "NYC          NY\n",
       "Midwest      IL\n",
       "Brooklyn     NY\n",
       "Manhattan    NY\n",
       "SF Bay Area  CA"
      ]
     },
     "execution_count": 3,
     "metadata": {},
     "output_type": "execute_result"
    }
   ],
   "source": [
    "EXTRA_CITY_STATE_MAPPING = pd.read_csv(\"EXTRA_CITY_STATE_MAPPING.txt\", sep=\"\\t\",\n",
    "                                       header=None, index_col=0)\n",
    "EXTRA_CITY_STATE_MAPPING.head()"
   ]
  },
  {
   "cell_type": "code",
   "execution_count": 4,
   "metadata": {
    "collapsed": false
   },
   "outputs": [
    {
     "data": {
      "text/plain": [
       "{'Brooklyn': 'NY',\n",
       " 'Manhattan': 'NY',\n",
       " 'Midwest': 'IL',\n",
       " 'NYC': 'NY',\n",
       " 'SF Bay Area': 'CA'}"
      ]
     },
     "execution_count": 4,
     "metadata": {},
     "output_type": "execute_result"
    }
   ],
   "source": [
    "EXTRA_CITY_STATE_MAPPING[1].head().to_dict()"
   ]
  },
  {
   "cell_type": "code",
   "execution_count": 5,
   "metadata": {
    "collapsed": true
   },
   "outputs": [],
   "source": [
    "STATE_NAMES = dict(zip(df_states[\"State Name\"].values.tolist(), df_states[\"Abbreviation\"].values.tolist()))\n",
    "STATE_CAPITALS = dict(zip(df_states[\"Capital\"].values.tolist(), df_states[\"Abbreviation\"].values.tolist()))\n",
    "CITY_STATES = dict(zip(df_cities[\"city\"].values.tolist(), df_cities[\"state\"].values.tolist()))\n",
    "STATE_ABBR = set(df_states[\"Abbreviation\"].values.tolist())\n",
    "STATE_ABBR.update([\"USA\"])\n",
    "CITY_STATES.update(EXTRA_CITY_STATE_MAPPING[1].to_dict())"
   ]
  },
  {
   "cell_type": "code",
   "execution_count": 6,
   "metadata": {
    "collapsed": false
   },
   "outputs": [
    {
     "data": {
      "text/html": [
       "<div>\n",
       "<table border=\"1\" class=\"dataframe\">\n",
       "  <thead>\n",
       "    <tr style=\"text-align: right;\">\n",
       "      <th></th>\n",
       "      <th>location</th>\n",
       "      <th>user_counts</th>\n",
       "      <th>parsed_state</th>\n",
       "    </tr>\n",
       "  </thead>\n",
       "  <tbody>\n",
       "    <tr>\n",
       "      <th>0</th>\n",
       "      <td>United States</td>\n",
       "      <td>6906</td>\n",
       "      <td>NaN</td>\n",
       "    </tr>\n",
       "    <tr>\n",
       "      <th>1</th>\n",
       "      <td>USA</td>\n",
       "      <td>5284</td>\n",
       "      <td>NaN</td>\n",
       "    </tr>\n",
       "    <tr>\n",
       "      <th>2</th>\n",
       "      <td>Washington, DC</td>\n",
       "      <td>3431</td>\n",
       "      <td>DC</td>\n",
       "    </tr>\n",
       "    <tr>\n",
       "      <th>3</th>\n",
       "      <td>New York, NY</td>\n",
       "      <td>2225</td>\n",
       "      <td>NaN</td>\n",
       "    </tr>\n",
       "    <tr>\n",
       "      <th>4</th>\n",
       "      <td>Los Angeles, CA</td>\n",
       "      <td>1979</td>\n",
       "      <td>CA</td>\n",
       "    </tr>\n",
       "  </tbody>\n",
       "</table>\n",
       "</div>"
      ],
      "text/plain": [
       "          location  user_counts parsed_state\n",
       "0    United States         6906          NaN\n",
       "1              USA         5284          NaN\n",
       "2   Washington, DC         3431           DC\n",
       "3     New York, NY         2225          NaN\n",
       "4  Los Angeles, CA         1979           CA"
      ]
     },
     "execution_count": 6,
     "metadata": {},
     "output_type": "execute_result"
    }
   ],
   "source": [
    "df.head()"
   ]
  },
  {
   "cell_type": "code",
   "execution_count": 7,
   "metadata": {
    "collapsed": true
   },
   "outputs": [],
   "source": [
    "def get_state_from_text(x):\n",
    "    if x.upper() in STATE_ABBR:\n",
    "        return x.upper()\n",
    "    for k, v in STATE_NAMES.items():\n",
    "        if k.lower() in x.lower():\n",
    "            return v\n",
    "    for k, v in STATE_CAPITALS.items():\n",
    "        if k.lower() in x.lower():\n",
    "            return v\n",
    "    for k, v in CITY_STATES.items():\n",
    "        if k.lower() in x.lower():\n",
    "            return v\n",
    "    for k in x.upper().split():\n",
    "        k = k.replace(\".\", \"\")\n",
    "        if k in STATE_ABBR:\n",
    "            return k\n",
    "    return None\n",
    "\n",
    "def get_state(x):\n",
    "    x = x.replace(\".\", \"\").strip()\n",
    "    x_state = x.rsplit(\",\", 1)\n",
    "    if len(x_state) < 2:\n",
    "        return get_state_from_text(x)\n",
    "    x_state = x_state[-1].strip().upper()\n",
    "    if len(x_state) == 2:\n",
    "        if x_state in STATE_ABBR:\n",
    "            return x_state\n",
    "    return get_state_from_text(x)"
   ]
  },
  {
   "cell_type": "code",
   "execution_count": 8,
   "metadata": {
    "collapsed": false
   },
   "outputs": [
    {
     "data": {
      "text/html": [
       "<div>\n",
       "<table border=\"1\" class=\"dataframe\">\n",
       "  <thead>\n",
       "    <tr style=\"text-align: right;\">\n",
       "      <th></th>\n",
       "      <th>location</th>\n",
       "      <th>user_counts</th>\n",
       "      <th>parsed_state</th>\n",
       "      <th>parse_manual</th>\n",
       "    </tr>\n",
       "  </thead>\n",
       "  <tbody>\n",
       "    <tr>\n",
       "      <th>0</th>\n",
       "      <td>United States</td>\n",
       "      <td>6906</td>\n",
       "      <td>NaN</td>\n",
       "      <td>USA</td>\n",
       "    </tr>\n",
       "    <tr>\n",
       "      <th>1</th>\n",
       "      <td>USA</td>\n",
       "      <td>5284</td>\n",
       "      <td>NaN</td>\n",
       "      <td>USA</td>\n",
       "    </tr>\n",
       "    <tr>\n",
       "      <th>2</th>\n",
       "      <td>Washington, DC</td>\n",
       "      <td>3431</td>\n",
       "      <td>DC</td>\n",
       "      <td>DC</td>\n",
       "    </tr>\n",
       "    <tr>\n",
       "      <th>3</th>\n",
       "      <td>New York, NY</td>\n",
       "      <td>2225</td>\n",
       "      <td>NaN</td>\n",
       "      <td>NY</td>\n",
       "    </tr>\n",
       "    <tr>\n",
       "      <th>4</th>\n",
       "      <td>Los Angeles, CA</td>\n",
       "      <td>1979</td>\n",
       "      <td>CA</td>\n",
       "      <td>CA</td>\n",
       "    </tr>\n",
       "  </tbody>\n",
       "</table>\n",
       "</div>"
      ],
      "text/plain": [
       "          location  user_counts parsed_state parse_manual\n",
       "0    United States         6906          NaN          USA\n",
       "1              USA         5284          NaN          USA\n",
       "2   Washington, DC         3431           DC           DC\n",
       "3     New York, NY         2225          NaN           NY\n",
       "4  Los Angeles, CA         1979           CA           CA"
      ]
     },
     "execution_count": 8,
     "metadata": {},
     "output_type": "execute_result"
    }
   ],
   "source": [
    "df[\"parse_manual\"] = df.location.apply(lambda x: get_state(x))\n",
    "df.head()"
   ]
  },
  {
   "cell_type": "code",
   "execution_count": 9,
   "metadata": {
    "collapsed": false
   },
   "outputs": [
    {
     "data": {
      "text/html": [
       "<div>\n",
       "<table border=\"1\" class=\"dataframe\">\n",
       "  <thead>\n",
       "    <tr style=\"text-align: right;\">\n",
       "      <th></th>\n",
       "      <th>location</th>\n",
       "      <th>user_counts</th>\n",
       "      <th>parsed_state</th>\n",
       "      <th>parse_manual</th>\n",
       "    </tr>\n",
       "  </thead>\n",
       "  <tbody>\n",
       "    <tr>\n",
       "      <th>67</th>\n",
       "      <td>Earth</td>\n",
       "      <td>327</td>\n",
       "      <td>NaN</td>\n",
       "      <td>None</td>\n",
       "    </tr>\n",
       "    <tr>\n",
       "      <th>86</th>\n",
       "      <td>Worldwide</td>\n",
       "      <td>241</td>\n",
       "      <td>NaN</td>\n",
       "      <td>None</td>\n",
       "    </tr>\n",
       "    <tr>\n",
       "      <th>96</th>\n",
       "      <td>Down the Rabbit Hole</td>\n",
       "      <td>225</td>\n",
       "      <td>NaN</td>\n",
       "      <td>None</td>\n",
       "    </tr>\n",
       "    <tr>\n",
       "      <th>105</th>\n",
       "      <td>Global</td>\n",
       "      <td>208</td>\n",
       "      <td>NaN</td>\n",
       "      <td>None</td>\n",
       "    </tr>\n",
       "    <tr>\n",
       "      <th>129</th>\n",
       "      <td>Everywhere</td>\n",
       "      <td>170</td>\n",
       "      <td>NaN</td>\n",
       "      <td>None</td>\n",
       "    </tr>\n",
       "    <tr>\n",
       "      <th>143</th>\n",
       "      <td>Planet Earth</td>\n",
       "      <td>155</td>\n",
       "      <td>NaN</td>\n",
       "      <td>None</td>\n",
       "    </tr>\n",
       "    <tr>\n",
       "      <th>160</th>\n",
       "      <td></td>\n",
       "      <td>139</td>\n",
       "      <td>NaN</td>\n",
       "      <td>None</td>\n",
       "    </tr>\n",
       "    <tr>\n",
       "      <th>194</th>\n",
       "      <td>Secret</td>\n",
       "      <td>109</td>\n",
       "      <td>NaN</td>\n",
       "      <td>None</td>\n",
       "    </tr>\n",
       "    <tr>\n",
       "      <th>214</th>\n",
       "      <td>Jupiter</td>\n",
       "      <td>98</td>\n",
       "      <td>NaN</td>\n",
       "      <td>None</td>\n",
       "    </tr>\n",
       "    <tr>\n",
       "      <th>268</th>\n",
       "      <td>Power State</td>\n",
       "      <td>75</td>\n",
       "      <td>NaN</td>\n",
       "      <td>None</td>\n",
       "    </tr>\n",
       "    <tr>\n",
       "      <th>292</th>\n",
       "      <td>Hearts &amp; Minds</td>\n",
       "      <td>68</td>\n",
       "      <td>NaN</td>\n",
       "      <td>None</td>\n",
       "    </tr>\n",
       "    <tr>\n",
       "      <th>305</th>\n",
       "      <td>Penna.</td>\n",
       "      <td>63</td>\n",
       "      <td>NaN</td>\n",
       "      <td>None</td>\n",
       "    </tr>\n",
       "    <tr>\n",
       "      <th>314</th>\n",
       "      <td>The World</td>\n",
       "      <td>62</td>\n",
       "      <td>NaN</td>\n",
       "      <td>None</td>\n",
       "    </tr>\n",
       "    <tr>\n",
       "      <th>323</th>\n",
       "      <td>Mars</td>\n",
       "      <td>59</td>\n",
       "      <td>NaN</td>\n",
       "      <td>None</td>\n",
       "    </tr>\n",
       "    <tr>\n",
       "      <th>325</th>\n",
       "      <td>DMV</td>\n",
       "      <td>58</td>\n",
       "      <td>NaN</td>\n",
       "      <td>None</td>\n",
       "    </tr>\n",
       "    <tr>\n",
       "      <th>327</th>\n",
       "      <td>everywhere</td>\n",
       "      <td>58</td>\n",
       "      <td>NaN</td>\n",
       "      <td>None</td>\n",
       "    </tr>\n",
       "    <tr>\n",
       "      <th>341</th>\n",
       "      <td>Flyover, State</td>\n",
       "      <td>56</td>\n",
       "      <td>NaN</td>\n",
       "      <td>None</td>\n",
       "    </tr>\n",
       "    <tr>\n",
       "      <th>349</th>\n",
       "      <td>Pacific Northwest</td>\n",
       "      <td>55</td>\n",
       "      <td>NaN</td>\n",
       "      <td>None</td>\n",
       "    </tr>\n",
       "    <tr>\n",
       "      <th>357</th>\n",
       "      <td>Virtual</td>\n",
       "      <td>53</td>\n",
       "      <td>NaN</td>\n",
       "      <td>None</td>\n",
       "    </tr>\n",
       "    <tr>\n",
       "      <th>359</th>\n",
       "      <td>Snapchat: hdavritt3</td>\n",
       "      <td>53</td>\n",
       "      <td>NaN</td>\n",
       "      <td>None</td>\n",
       "    </tr>\n",
       "    <tr>\n",
       "      <th>409</th>\n",
       "      <td>Parts Unknown</td>\n",
       "      <td>45</td>\n",
       "      <td>NaN</td>\n",
       "      <td>None</td>\n",
       "    </tr>\n",
       "    <tr>\n",
       "      <th>427</th>\n",
       "      <td>the internets</td>\n",
       "      <td>43</td>\n",
       "      <td>NaN</td>\n",
       "      <td>None</td>\n",
       "    </tr>\n",
       "    <tr>\n",
       "      <th>445</th>\n",
       "      <td>Indy, Baby</td>\n",
       "      <td>41</td>\n",
       "      <td>NaN</td>\n",
       "      <td>None</td>\n",
       "    </tr>\n",
       "    <tr>\n",
       "      <th>467</th>\n",
       "      <td>Internet</td>\n",
       "      <td>39</td>\n",
       "      <td>NaN</td>\n",
       "      <td>None</td>\n",
       "    </tr>\n",
       "    <tr>\n",
       "      <th>490</th>\n",
       "      <td>PNW</td>\n",
       "      <td>37</td>\n",
       "      <td>NaN</td>\n",
       "      <td>None</td>\n",
       "    </tr>\n",
       "    <tr>\n",
       "      <th>498</th>\n",
       "      <td>worldwide</td>\n",
       "      <td>36</td>\n",
       "      <td>NaN</td>\n",
       "      <td>None</td>\n",
       "    </tr>\n",
       "    <tr>\n",
       "      <th>506</th>\n",
       "      <td>Every Hour</td>\n",
       "      <td>35</td>\n",
       "      <td>NaN</td>\n",
       "      <td>None</td>\n",
       "    </tr>\n",
       "    <tr>\n",
       "      <th>527</th>\n",
       "      <td>\\n</td>\n",
       "      <td>33</td>\n",
       "      <td>NaN</td>\n",
       "      <td>None</td>\n",
       "    </tr>\n",
       "    <tr>\n",
       "      <th>555</th>\n",
       "      <td>Nationwide</td>\n",
       "      <td>31</td>\n",
       "      <td>NaN</td>\n",
       "      <td>None</td>\n",
       "    </tr>\n",
       "    <tr>\n",
       "      <th>565</th>\n",
       "      <td>Estados Unidos</td>\n",
       "      <td>31</td>\n",
       "      <td>NaN</td>\n",
       "      <td>None</td>\n",
       "    </tr>\n",
       "    <tr>\n",
       "      <th>583</th>\n",
       "      <td>London, England</td>\n",
       "      <td>30</td>\n",
       "      <td>NaN</td>\n",
       "      <td>None</td>\n",
       "    </tr>\n",
       "    <tr>\n",
       "      <th>585</th>\n",
       "      <td>757</td>\n",
       "      <td>30</td>\n",
       "      <td>NaN</td>\n",
       "      <td>None</td>\n",
       "    </tr>\n",
       "    <tr>\n",
       "      <th>588</th>\n",
       "      <td>The Internet</td>\n",
       "      <td>30</td>\n",
       "      <td>NaN</td>\n",
       "      <td>None</td>\n",
       "    </tr>\n",
       "    <tr>\n",
       "      <th>594</th>\n",
       "      <td>Antarctica</td>\n",
       "      <td>29</td>\n",
       "      <td>NaN</td>\n",
       "      <td>None</td>\n",
       "    </tr>\n",
       "    <tr>\n",
       "      <th>600</th>\n",
       "      <td>here</td>\n",
       "      <td>29</td>\n",
       "      <td>NaN</td>\n",
       "      <td>None</td>\n",
       "    </tr>\n",
       "    <tr>\n",
       "      <th>611</th>\n",
       "      <td>Earth</td>\n",
       "      <td>28</td>\n",
       "      <td>NaN</td>\n",
       "      <td>None</td>\n",
       "    </tr>\n",
       "    <tr>\n",
       "      <th>613</th>\n",
       "      <td>Here</td>\n",
       "      <td>28</td>\n",
       "      <td>NaN</td>\n",
       "      <td>None</td>\n",
       "    </tr>\n",
       "    <tr>\n",
       "      <th>624</th>\n",
       "      <td>The Mid-West</td>\n",
       "      <td>27</td>\n",
       "      <td>NaN</td>\n",
       "      <td>None</td>\n",
       "    </tr>\n",
       "    <tr>\n",
       "      <th>629</th>\n",
       "      <td>Everywhere!</td>\n",
       "      <td>27</td>\n",
       "      <td>NaN</td>\n",
       "      <td>None</td>\n",
       "    </tr>\n",
       "    <tr>\n",
       "      <th>637</th>\n",
       "      <td>Classified</td>\n",
       "      <td>26</td>\n",
       "      <td>NaN</td>\n",
       "      <td>None</td>\n",
       "    </tr>\n",
       "    <tr>\n",
       "      <th>648</th>\n",
       "      <td>Planet Claire</td>\n",
       "      <td>26</td>\n",
       "      <td>NaN</td>\n",
       "      <td>None</td>\n",
       "    </tr>\n",
       "    <tr>\n",
       "      <th>650</th>\n",
       "      <td>World Wide</td>\n",
       "      <td>26</td>\n",
       "      <td>NaN</td>\n",
       "      <td>None</td>\n",
       "    </tr>\n",
       "    <tr>\n",
       "      <th>653</th>\n",
       "      <td>Matter Doesn't Matter</td>\n",
       "      <td>26</td>\n",
       "      <td>NaN</td>\n",
       "      <td>None</td>\n",
       "    </tr>\n",
       "    <tr>\n",
       "      <th>677</th>\n",
       "      <td>Fire Roger Goodell</td>\n",
       "      <td>25</td>\n",
       "      <td>NaN</td>\n",
       "      <td>None</td>\n",
       "    </tr>\n",
       "    <tr>\n",
       "      <th>684</th>\n",
       "      <td>Hell</td>\n",
       "      <td>25</td>\n",
       "      <td>NaN</td>\n",
       "      <td>None</td>\n",
       "    </tr>\n",
       "    <tr>\n",
       "      <th>689</th>\n",
       "      <td>MOTHER EARTH (PROTECT HER)</td>\n",
       "      <td>25</td>\n",
       "      <td>NaN</td>\n",
       "      <td>None</td>\n",
       "    </tr>\n",
       "    <tr>\n",
       "      <th>698</th>\n",
       "      <td>Everywhere money@</td>\n",
       "      <td>24</td>\n",
       "      <td>NaN</td>\n",
       "      <td>None</td>\n",
       "    </tr>\n",
       "    <tr>\n",
       "      <th>699</th>\n",
       "      <td>Pacific North West</td>\n",
       "      <td>24</td>\n",
       "      <td>NaN</td>\n",
       "      <td>None</td>\n",
       "    </tr>\n",
       "    <tr>\n",
       "      <th>703</th>\n",
       "      <td>hell</td>\n",
       "      <td>24</td>\n",
       "      <td>NaN</td>\n",
       "      <td>None</td>\n",
       "    </tr>\n",
       "    <tr>\n",
       "      <th>707</th>\n",
       "      <td>SF</td>\n",
       "      <td>24</td>\n",
       "      <td>NaN</td>\n",
       "      <td>None</td>\n",
       "    </tr>\n",
       "  </tbody>\n",
       "</table>\n",
       "</div>"
      ],
      "text/plain": [
       "                       location  user_counts parsed_state parse_manual\n",
       "67                        Earth          327          NaN         None\n",
       "86                    Worldwide          241          NaN         None\n",
       "96         Down the Rabbit Hole          225          NaN         None\n",
       "105                      Global          208          NaN         None\n",
       "129                  Everywhere          170          NaN         None\n",
       "143                Planet Earth          155          NaN         None\n",
       "160                                      139          NaN         None\n",
       "194                     Secret           109          NaN         None\n",
       "214                     Jupiter           98          NaN         None\n",
       "268                 Power State           75          NaN         None\n",
       "292              Hearts & Minds           68          NaN         None\n",
       "305                      Penna.           63          NaN         None\n",
       "314                   The World           62          NaN         None\n",
       "323                        Mars           59          NaN         None\n",
       "325                         DMV           58          NaN         None\n",
       "327                  everywhere           58          NaN         None\n",
       "341              Flyover, State           56          NaN         None\n",
       "349           Pacific Northwest           55          NaN         None\n",
       "357                     Virtual           53          NaN         None\n",
       "359        Snapchat: hdavritt3            53          NaN         None\n",
       "409               Parts Unknown           45          NaN         None\n",
       "427               the internets           43          NaN         None\n",
       "445                  Indy, Baby           41          NaN         None\n",
       "467                    Internet           39          NaN         None\n",
       "490                         PNW           37          NaN         None\n",
       "498                   worldwide           36          NaN         None\n",
       "506                  Every Hour           35          NaN         None\n",
       "527                          \\n           33          NaN         None\n",
       "555                  Nationwide           31          NaN         None\n",
       "565              Estados Unidos           31          NaN         None\n",
       "583             London, England           30          NaN         None\n",
       "585                         757           30          NaN         None\n",
       "588                The Internet           30          NaN         None\n",
       "594                  Antarctica           29          NaN         None\n",
       "600                        here           29          NaN         None\n",
       "611                      Earth            28          NaN         None\n",
       "613                        Here           28          NaN         None\n",
       "624               The Mid-West            27          NaN         None\n",
       "629                 Everywhere!           27          NaN         None\n",
       "637                  Classified           26          NaN         None\n",
       "648              Planet Claire            26          NaN         None\n",
       "650                  World Wide           26          NaN         None\n",
       "653       Matter Doesn't Matter           26          NaN         None\n",
       "677          Fire Roger Goodell           25          NaN         None\n",
       "684                        Hell           25          NaN         None\n",
       "689  MOTHER EARTH (PROTECT HER)           25          NaN         None\n",
       "698           Everywhere money@           24          NaN         None\n",
       "699          Pacific North West           24          NaN         None\n",
       "703                        hell           24          NaN         None\n",
       "707                          SF           24          NaN         None"
      ]
     },
     "execution_count": 9,
     "metadata": {},
     "output_type": "execute_result"
    }
   ],
   "source": [
    "df[df.parse_manual.isnull()].head(50)"
   ]
  },
  {
   "cell_type": "code",
   "execution_count": 10,
   "metadata": {
    "collapsed": false
   },
   "outputs": [
    {
     "data": {
      "text/plain": [
       "(14920, 4)"
      ]
     },
     "execution_count": 10,
     "metadata": {},
     "output_type": "execute_result"
    }
   ],
   "source": [
    "df[df.parse_manual.isnull()].shape"
   ]
  },
  {
   "cell_type": "code",
   "execution_count": 11,
   "metadata": {
    "collapsed": false
   },
   "outputs": [
    {
     "data": {
      "text/plain": [
       "169472"
      ]
     },
     "execution_count": 11,
     "metadata": {},
     "output_type": "execute_result"
    }
   ],
   "source": [
    "df[~df.parse_manual.isnull()].user_counts.sum()"
   ]
  },
  {
   "cell_type": "code",
   "execution_count": 12,
   "metadata": {
    "collapsed": false
   },
   "outputs": [
    {
     "data": {
      "text/plain": [
       "26664"
      ]
     },
     "execution_count": 12,
     "metadata": {},
     "output_type": "execute_result"
    }
   ],
   "source": [
    "df[df.parse_manual.isnull()].user_counts.sum()"
   ]
  },
  {
   "cell_type": "code",
   "execution_count": 13,
   "metadata": {
    "collapsed": false
   },
   "outputs": [
    {
     "data": {
      "text/plain": [
       "'NY'"
      ]
     },
     "execution_count": 13,
     "metadata": {},
     "output_type": "execute_result"
    }
   ],
   "source": [
    "get_state_from_text(\"Upstate NY\")"
   ]
  },
  {
   "cell_type": "code",
   "execution_count": 14,
   "metadata": {
    "collapsed": false
   },
   "outputs": [
    {
     "data": {
      "text/plain": [
       "0.6849380022025533"
      ]
     },
     "execution_count": 14,
     "metadata": {},
     "output_type": "execute_result"
    }
   ],
   "source": [
    "134341.0/df.user_counts.sum()"
   ]
  },
  {
   "cell_type": "code",
   "execution_count": 15,
   "metadata": {
    "collapsed": false
   },
   "outputs": [
    {
     "data": {
      "text/html": [
       "<div>\n",
       "<table border=\"1\" class=\"dataframe\">\n",
       "  <thead>\n",
       "    <tr style=\"text-align: right;\">\n",
       "      <th></th>\n",
       "      <th>location</th>\n",
       "      <th>user_counts</th>\n",
       "      <th>parsed_state</th>\n",
       "      <th>parse_manual</th>\n",
       "    </tr>\n",
       "  </thead>\n",
       "  <tbody>\n",
       "    <tr>\n",
       "      <th>903</th>\n",
       "      <td>Ann Arbor</td>\n",
       "      <td>18</td>\n",
       "      <td>MI</td>\n",
       "      <td>None</td>\n",
       "    </tr>\n",
       "    <tr>\n",
       "      <th>994</th>\n",
       "      <td>Twin Cities</td>\n",
       "      <td>17</td>\n",
       "      <td>CA</td>\n",
       "      <td>None</td>\n",
       "    </tr>\n",
       "    <tr>\n",
       "      <th>1207</th>\n",
       "      <td>O-H-I-O</td>\n",
       "      <td>14</td>\n",
       "      <td>OH</td>\n",
       "      <td>None</td>\n",
       "    </tr>\n",
       "    <tr>\n",
       "      <th>1263</th>\n",
       "      <td>NorthWoods</td>\n",
       "      <td>14</td>\n",
       "      <td>FL</td>\n",
       "      <td>None</td>\n",
       "    </tr>\n",
       "    <tr>\n",
       "      <th>1399</th>\n",
       "      <td>ÜT: 39.770411,-104.959902</td>\n",
       "      <td>12</td>\n",
       "      <td>CO</td>\n",
       "      <td>None</td>\n",
       "    </tr>\n",
       "  </tbody>\n",
       "</table>\n",
       "</div>"
      ],
      "text/plain": [
       "                       location  user_counts parsed_state parse_manual\n",
       "903                   Ann Arbor           18           MI         None\n",
       "994                 Twin Cities           17           CA         None\n",
       "1207                    O-H-I-O           14           OH         None\n",
       "1263                NorthWoods            14           FL         None\n",
       "1399  ÜT: 39.770411,-104.959902           12           CO         None"
      ]
     },
     "execution_count": 15,
     "metadata": {},
     "output_type": "execute_result"
    }
   ],
   "source": [
    "df[(df.parse_manual.isnull()) & (~df.parsed_state.isnull())].head()"
   ]
  },
  {
   "cell_type": "code",
   "execution_count": 16,
   "metadata": {
    "collapsed": false
   },
   "outputs": [
    {
     "data": {
      "text/html": [
       "<div>\n",
       "<table border=\"1\" class=\"dataframe\">\n",
       "  <thead>\n",
       "    <tr style=\"text-align: right;\">\n",
       "      <th></th>\n",
       "      <th>location</th>\n",
       "      <th>user_counts</th>\n",
       "      <th>parsed_state</th>\n",
       "      <th>parse_manual</th>\n",
       "    </tr>\n",
       "  </thead>\n",
       "  <tbody>\n",
       "    <tr>\n",
       "      <th>0</th>\n",
       "      <td>United States</td>\n",
       "      <td>6906</td>\n",
       "      <td>NaN</td>\n",
       "      <td>USA</td>\n",
       "    </tr>\n",
       "    <tr>\n",
       "      <th>1</th>\n",
       "      <td>USA</td>\n",
       "      <td>5284</td>\n",
       "      <td>NaN</td>\n",
       "      <td>USA</td>\n",
       "    </tr>\n",
       "    <tr>\n",
       "      <th>2</th>\n",
       "      <td>Washington, DC</td>\n",
       "      <td>3431</td>\n",
       "      <td>DC</td>\n",
       "      <td>DC</td>\n",
       "    </tr>\n",
       "    <tr>\n",
       "      <th>3</th>\n",
       "      <td>New York, NY</td>\n",
       "      <td>2225</td>\n",
       "      <td>NaN</td>\n",
       "      <td>NY</td>\n",
       "    </tr>\n",
       "    <tr>\n",
       "      <th>4</th>\n",
       "      <td>Los Angeles, CA</td>\n",
       "      <td>1979</td>\n",
       "      <td>CA</td>\n",
       "      <td>CA</td>\n",
       "    </tr>\n",
       "  </tbody>\n",
       "</table>\n",
       "</div>"
      ],
      "text/plain": [
       "          location  user_counts parsed_state parse_manual\n",
       "0    United States         6906          NaN          USA\n",
       "1              USA         5284          NaN          USA\n",
       "2   Washington, DC         3431           DC           DC\n",
       "3     New York, NY         2225          NaN           NY\n",
       "4  Los Angeles, CA         1979           CA           CA"
      ]
     },
     "execution_count": 16,
     "metadata": {},
     "output_type": "execute_result"
    }
   ],
   "source": [
    "df.ix[(df.parse_manual.isnull()) & (~df.parsed_state.isnull()), \"parse_manual\"] = df.ix[\n",
    "    (df.parse_manual.isnull()) & (~df.parsed_state.isnull()), \"parsed_state\"]\n",
    "df.head()"
   ]
  },
  {
   "cell_type": "code",
   "execution_count": 17,
   "metadata": {
    "collapsed": false
   },
   "outputs": [
    {
     "name": "stdout",
     "output_type": "stream",
     "text": [
      "Proportion of users geolocated: 0.8719969816861769\n"
     ]
    }
   ],
   "source": [
    "print(\"Proportion of users geolocated: %s\" % (df[~df.parse_manual.isnull()].user_counts.sum() * 1./df.user_counts.sum()))"
   ]
  },
  {
   "cell_type": "code",
   "execution_count": 18,
   "metadata": {
    "collapsed": false
   },
   "outputs": [
    {
     "data": {
      "text/html": [
       "<div>\n",
       "<table border=\"1\" class=\"dataframe\">\n",
       "  <thead>\n",
       "    <tr style=\"text-align: right;\">\n",
       "      <th></th>\n",
       "      <th>location</th>\n",
       "      <th>user_counts</th>\n",
       "      <th>parsed_state</th>\n",
       "      <th>parse_manual</th>\n",
       "    </tr>\n",
       "  </thead>\n",
       "  <tbody>\n",
       "  </tbody>\n",
       "</table>\n",
       "</div>"
      ],
      "text/plain": [
       "Empty DataFrame\n",
       "Columns: [location, user_counts, parsed_state, parse_manual]\n",
       "Index: []"
      ]
     },
     "execution_count": 18,
     "metadata": {},
     "output_type": "execute_result"
    }
   ],
   "source": [
    "df[(df.parse_manual.isnull()) & (~df.parsed_state.isnull())].head()"
   ]
  },
  {
   "cell_type": "code",
   "execution_count": 19,
   "metadata": {
    "collapsed": false
   },
   "outputs": [
    {
     "data": {
      "text/plain": [
       "171030"
      ]
     },
     "execution_count": 19,
     "metadata": {},
     "output_type": "execute_result"
    }
   ],
   "source": [
    "df[~df.parse_manual.isnull()].user_counts.sum()"
   ]
  },
  {
   "cell_type": "code",
   "execution_count": 20,
   "metadata": {
    "collapsed": false
   },
   "outputs": [
    {
     "name": "stdout",
     "output_type": "stream",
     "text": [
      "location\tuser_counts\tparsed_state\tparse_manual\r\n",
      "United States\t6906\t\tUSA\r\n",
      "USA\t5284\t\tUSA\r\n",
      "Washington, DC\t3431\tDC\tDC\r\n",
      "New York, NY\t2225\t\tNY\r\n",
      "Los Angeles, CA\t1979\tCA\tCA\r\n",
      "California, USA\t1944\tCA\tCA\r\n",
      "New York\t1476\tNY\tNY\r\n",
      "Chicago, IL\t1322\tIL\tIL\r\n",
      "Los Angeles\t1235\t\tCA\r\n"
     ]
    }
   ],
   "source": [
    "df.to_csv(\"PARSED_STATES.final.txt\", sep=\"\\t\", index=False, encoding=\"utf-8\")\n",
    "! head PARSED_STATES.final.txt"
   ]
  },
  {
   "cell_type": "code",
   "execution_count": 21,
   "metadata": {
    "collapsed": false
   },
   "outputs": [
    {
     "data": {
      "text/plain": [
       "parse_manual\n",
       "CA     22601\n",
       "USA    19821\n",
       "NY     15064\n",
       "TX     12258\n",
       "FL      9156\n",
       "IL      5593\n",
       "WA      5254\n",
       "DC      5184\n",
       "PA      4749\n",
       "OH      4630\n",
       "GA      4451\n",
       "MA      3992\n",
       "VA      3774\n",
       "NC      3641\n",
       "NJ      3417\n",
       "AZ      3287\n",
       "IN      3276\n",
       "MI      3175\n",
       "CO      2691\n",
       "TN      2663\n",
       "MD      2474\n",
       "OR      2229\n",
       "MO      2033\n",
       "LA      2008\n",
       "KS      1931\n",
       "WI      1833\n",
       "NV      1790\n",
       "MN      1703\n",
       "SC      1558\n",
       "AL      1473\n",
       "OK      1457\n",
       "KY      1397\n",
       "CT      1290\n",
       "UT      1062\n",
       "IA       959\n",
       "MS       791\n",
       "NE       703\n",
       "ME       697\n",
       "NH       592\n",
       "HI       510\n",
       "RI       461\n",
       "AR       456\n",
       "NM       439\n",
       "ID       402\n",
       "WV       332\n",
       "AK       298\n",
       "MT       297\n",
       "VT       281\n",
       "DE       277\n",
       "SD       237\n",
       "WY       176\n",
       "ND       161\n",
       "PR        24\n",
       "AS        10\n",
       "GU         5\n",
       "VI         5\n",
       "MP         2\n",
       "Name: user_counts, dtype: int64"
      ]
     },
     "execution_count": 21,
     "metadata": {},
     "output_type": "execute_result"
    }
   ],
   "source": [
    "df.groupby(\"parse_manual\")[\"user_counts\"].sum().sort_values(ascending=False)"
   ]
  },
  {
   "cell_type": "code",
   "execution_count": null,
   "metadata": {
    "collapsed": true
   },
   "outputs": [],
   "source": []
  }
 ],
 "metadata": {
  "anaconda-cloud": {},
  "kernelspec": {
   "display_name": "Python [conda env:python3]",
   "language": "python",
   "name": "conda-env-python3-py"
  },
  "language_info": {
   "codemirror_mode": {
    "name": "ipython",
    "version": 3
   },
   "file_extension": ".py",
   "mimetype": "text/x-python",
   "name": "python",
   "nbconvert_exporter": "python",
   "pygments_lexer": "ipython3",
   "version": "3.4.5"
  }
 },
 "nbformat": 4,
 "nbformat_minor": 1
}
