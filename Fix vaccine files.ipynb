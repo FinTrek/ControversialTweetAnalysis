{
 "cells": [
  {
   "cell_type": "markdown",
   "metadata": {},
   "source": [
    "## Why need fixing\n",
    "\n",
    "Many times the files are not parallel. The noDuplist file and the processed files have tweets in different order. Fix that here."
   ]
  },
  {
   "cell_type": "code",
   "execution_count": 1,
   "metadata": {
    "collapsed": true
   },
   "outputs": [],
   "source": [
    "import pandas as pd\n",
    "import re"
   ]
  },
  {
   "cell_type": "code",
   "execution_count": 2,
   "metadata": {
    "collapsed": false
   },
   "outputs": [
    {
     "data": {
      "text/plain": [
       "['malkanen']"
      ]
     },
     "execution_count": 2,
     "metadata": {},
     "output_type": "execute_result"
    }
   ],
   "source": [
    "USER_HANDLE_REGEX = re.compile(r'twitter\\.com/(.+)/status/')\n",
    "USER_HANDLE_REGEX.findall('http://twitter.com/malkanen/status/')"
   ]
  },
  {
   "cell_type": "code",
   "execution_count": 3,
   "metadata": {
    "collapsed": false
   },
   "outputs": [
    {
     "data": {
      "text/plain": [
       "((14128, 26), (14128, 17))"
      ]
     },
     "execution_count": 3,
     "metadata": {},
     "output_type": "execute_result"
    }
   ],
   "source": [
    "dirname=\"SkinDamage/SkinDamage\"\n",
    "df = pd.read_csv(\n",
    "    \"%s_processed.old.csv\" % dirname\n",
    ").dropna(\n",
    "    subset=[\"GUID\", \"Date\", \"Author\"]\n",
    ").drop_duplicates(subset=[\"Date\", \"Author\"])\n",
    "\n",
    "df_orig = pd.read_csv(\"%s_noDublict.old.csv\" % dirname).rename(\n",
    "        columns={\"Date (CST)\": \"Date\"}\n",
    "    ).assign(\n",
    "        Author=lambda x: x.URL.apply(\n",
    "            lambda x: \"@%s\" % USER_HANDLE_REGEX.findall(x)[0]\n",
    "        )\n",
    "    ).drop_duplicates(subset=[\"Date\", \"Author\"])\n",
    "df.shape, df_orig.shape"
   ]
  },
  {
   "cell_type": "code",
   "execution_count": 4,
   "metadata": {
    "collapsed": false
   },
   "outputs": [
    {
     "name": "stdout",
     "output_type": "stream",
     "text": [
      "CPU times: user 10 s, sys: 28 ms, total: 10 s\n",
      "Wall time: 10 s\n"
     ]
    }
   ],
   "source": [
    "%%time\n",
    "df = df.assign(date_sorted=pd.to_datetime(df.Date)).sort_values(\n",
    "    [\"date_sorted\", \"Author\"], ascending=False)\n",
    "df_orig = df_orig.assign(date_sorted=pd.to_datetime(df_orig.Date)).sort_values(\n",
    "    [\"date_sorted\", \"Author\"], ascending=False)"
   ]
  },
  {
   "cell_type": "code",
   "execution_count": 5,
   "metadata": {
    "collapsed": false
   },
   "outputs": [
    {
     "data": {
      "text/plain": [
       "array([' like a reverse day walker only a red beard but still gets sun damage',\n",
       "       ' health benefits of the sun sun damage skin care dailybeauty the beauty authority newbeauty melanoma',\n",
       "       ' cyber monday tis the season to push back sun damage laser treatments such as fraxel cutera',\n",
       "       ' shield your furniture from dust water pollen sap sun damage and other outdoor elements with this sorora usa single sofa cover the ad',\n",
       "       ' oh my god they can sell us and sunscreen and skin cancer drugs and biotower condos when the sun gets too intense'], dtype=object)"
      ]
     },
     "execution_count": 5,
     "metadata": {},
     "output_type": "execute_result"
    }
   ],
   "source": [
    "df.processedPost.head().values"
   ]
  },
  {
   "cell_type": "code",
   "execution_count": 6,
   "metadata": {
    "collapsed": false
   },
   "outputs": [
    {
     "data": {
      "text/plain": [
       "array([ '@ryansouth21 @joshelliott82 @jonnaofarc like a reverse Day Walker, only a red beard but still gets sun damage.',\n",
       "       'Health Benefits of the Sun - Sun Damage - Skin Care - DailyBeauty - The Beauty Authority - NewBeauty #melanoma https://t.co/IamTksKpdT',\n",
       "       'Cyber Monday : Tis The Season To Push Back Sun Damage - Laser treatments such as Fraxel, Cutera? https://t.co/Lt8S2nPVqx',\n",
       "       'Shield your furniture from dust, water, pollen, sap, sun damage and other outdoor elements with this Sorora USA Single Sofa Cover. The ad...',\n",
       "       '@ComposerBrad oh my God. They can sell us  and sunscreen and skin cancer drugs and biotower condos when the sun gets too intense. ??'], dtype=object)"
      ]
     },
     "execution_count": 6,
     "metadata": {},
     "output_type": "execute_result"
    }
   ],
   "source": [
    "df_orig.Contents.head().values"
   ]
  },
  {
   "cell_type": "code",
   "execution_count": 7,
   "metadata": {
    "collapsed": false
   },
   "outputs": [
    {
     "data": {
      "text/html": [
       "<div>\n",
       "<table border=\"1\" class=\"dataframe\">\n",
       "  <thead>\n",
       "    <tr style=\"text-align: right;\">\n",
       "      <th></th>\n",
       "      <th>GUID</th>\n",
       "      <th>Author</th>\n",
       "      <th>Date</th>\n",
       "    </tr>\n",
       "  </thead>\n",
       "  <tbody>\n",
       "    <tr>\n",
       "      <th>6231</th>\n",
       "      <td>8.030000e+17</td>\n",
       "      <td>@AyyMistaCarter</td>\n",
       "      <td>11/28/16 22:52</td>\n",
       "    </tr>\n",
       "    <tr>\n",
       "      <th>3976</th>\n",
       "      <td>8.030000e+17</td>\n",
       "      <td>@BOSTONSKIN</td>\n",
       "      <td>11/28/16 22:04</td>\n",
       "    </tr>\n",
       "    <tr>\n",
       "      <th>1805</th>\n",
       "      <td>8.030000e+17</td>\n",
       "      <td>@BarbaraPersons</td>\n",
       "      <td>11/28/16 21:50</td>\n",
       "    </tr>\n",
       "    <tr>\n",
       "      <th>9436</th>\n",
       "      <td>8.030000e+17</td>\n",
       "      <td>@Overstock</td>\n",
       "      <td>11/28/16 20:48</td>\n",
       "    </tr>\n",
       "    <tr>\n",
       "      <th>7574</th>\n",
       "      <td>8.030000e+17</td>\n",
       "      <td>@KyrieElissa</td>\n",
       "      <td>11/28/16 20:48</td>\n",
       "    </tr>\n",
       "  </tbody>\n",
       "</table>\n",
       "</div>"
      ],
      "text/plain": [
       "              GUID           Author            Date\n",
       "6231  8.030000e+17  @AyyMistaCarter  11/28/16 22:52\n",
       "3976  8.030000e+17      @BOSTONSKIN  11/28/16 22:04\n",
       "1805  8.030000e+17  @BarbaraPersons  11/28/16 21:50\n",
       "9436  8.030000e+17       @Overstock  11/28/16 20:48\n",
       "7574  8.030000e+17     @KyrieElissa  11/28/16 20:48"
      ]
     },
     "execution_count": 7,
     "metadata": {},
     "output_type": "execute_result"
    }
   ],
   "source": [
    "df[[\"GUID\", \"Author\", \"Date\"]].head()"
   ]
  },
  {
   "cell_type": "code",
   "execution_count": 8,
   "metadata": {
    "collapsed": false
   },
   "outputs": [
    {
     "data": {
      "text/html": [
       "<div>\n",
       "<table border=\"1\" class=\"dataframe\">\n",
       "  <thead>\n",
       "    <tr style=\"text-align: right;\">\n",
       "      <th></th>\n",
       "      <th>GUID</th>\n",
       "      <th>Author</th>\n",
       "      <th>Date</th>\n",
       "    </tr>\n",
       "  </thead>\n",
       "  <tbody>\n",
       "    <tr>\n",
       "      <th>2049</th>\n",
       "      <td>8.030000e+17</td>\n",
       "      <td>@AyyMistaCarter</td>\n",
       "      <td>11/28/16 22:52</td>\n",
       "    </tr>\n",
       "    <tr>\n",
       "      <th>997</th>\n",
       "      <td>8.030000e+17</td>\n",
       "      <td>@BOSTONSKIN</td>\n",
       "      <td>11/28/16 22:04</td>\n",
       "    </tr>\n",
       "    <tr>\n",
       "      <th>2385</th>\n",
       "      <td>8.030000e+17</td>\n",
       "      <td>@BarbaraPersons</td>\n",
       "      <td>11/28/16 21:50</td>\n",
       "    </tr>\n",
       "    <tr>\n",
       "      <th>118</th>\n",
       "      <td>8.030000e+17</td>\n",
       "      <td>@Overstock</td>\n",
       "      <td>11/28/16 20:48</td>\n",
       "    </tr>\n",
       "    <tr>\n",
       "      <th>6556</th>\n",
       "      <td>8.030000e+17</td>\n",
       "      <td>@KyrieElissa</td>\n",
       "      <td>11/28/16 20:48</td>\n",
       "    </tr>\n",
       "  </tbody>\n",
       "</table>\n",
       "</div>"
      ],
      "text/plain": [
       "              GUID           Author            Date\n",
       "2049  8.030000e+17  @AyyMistaCarter  11/28/16 22:52\n",
       "997   8.030000e+17      @BOSTONSKIN  11/28/16 22:04\n",
       "2385  8.030000e+17  @BarbaraPersons  11/28/16 21:50\n",
       "118   8.030000e+17       @Overstock  11/28/16 20:48\n",
       "6556  8.030000e+17     @KyrieElissa  11/28/16 20:48"
      ]
     },
     "execution_count": 8,
     "metadata": {},
     "output_type": "execute_result"
    }
   ],
   "source": [
    "df_orig[[\"GUID\", \"Author\", \"Date\"]].head()"
   ]
  },
  {
   "cell_type": "code",
   "execution_count": 9,
   "metadata": {
    "collapsed": false
   },
   "outputs": [],
   "source": [
    "df = df.drop([\"date_sorted\",], axis=1)\n",
    "df_orig = df_orig.rename(columns={\"Date\": \"Date (CST)\"}\n",
    "              ).drop([\"date_sorted\",\"Author\"], axis=1)"
   ]
  },
  {
   "cell_type": "code",
   "execution_count": 10,
   "metadata": {
    "collapsed": false
   },
   "outputs": [
    {
     "name": "stdout",
     "output_type": "stream",
     "text": [
      "CPU times: user 268 ms, sys: 12 ms, total: 280 ms\n",
      "Wall time: 277 ms\n"
     ]
    }
   ],
   "source": [
    "%%time\n",
    "df.drop(\"URL\", axis=1).to_csv(\"%s_processed.csv\" % dirname, index=False)\n",
    "df_orig.to_csv(\"%s_noDublict.csv\" % dirname, index=False)"
   ]
  },
  {
   "cell_type": "code",
   "execution_count": 11,
   "metadata": {
    "collapsed": false
   },
   "outputs": [
    {
     "name": "stdout",
     "output_type": "stream",
     "text": [
      "SkinDamage/SkinDamage\n",
      "(14128, 16) (14128, 25)\n",
      "(14128, 27)\n"
     ]
    }
   ],
   "source": [
    "print dirname\n",
    "df = pd.read_csv(\"%s_processed.csv\" % dirname)\n",
    "df_orig = pd.read_csv(\"%s_noDublict.csv\" % dirname)\n",
    "print df_orig.shape, df.shape\n",
    "assert df_orig.shape[0] == df.shape[0]\n",
    "df_merged = pd.concat([df, df_orig[[\"URL\", \"Contents\"]]], axis=1)\n",
    "print df_merged.shape\n",
    "assert df_merged.shape[0] == df.shape[0]\n",
    "assert (df_merged.Author != df_merged.URL.apply(lambda x: \"@%s\" % USER_HANDLE_REGEX.findall(x)[0])).sum() == 0"
   ]
  },
  {
   "cell_type": "code",
   "execution_count": 12,
   "metadata": {
    "collapsed": false
   },
   "outputs": [
    {
     "data": {
      "text/plain": [
       "0"
      ]
     },
     "execution_count": 12,
     "metadata": {},
     "output_type": "execute_result"
    }
   ],
   "source": [
    "(df_merged.Author != df_merged.URL.apply(lambda x: \"@%s\" % USER_HANDLE_REGEX.findall(x)[0])).sum()"
   ]
  },
  {
   "cell_type": "code",
   "execution_count": null,
   "metadata": {
    "collapsed": true
   },
   "outputs": [],
   "source": []
  }
 ],
 "metadata": {
  "anaconda-cloud": {},
  "kernelspec": {
   "display_name": "Python [default]",
   "language": "python",
   "name": "python2"
  },
  "language_info": {
   "codemirror_mode": {
    "name": "ipython",
    "version": 2
   },
   "file_extension": ".py",
   "mimetype": "text/x-python",
   "name": "python",
   "nbconvert_exporter": "python",
   "pygments_lexer": "ipython2",
   "version": "2.7.12"
  }
 },
 "nbformat": 4,
 "nbformat_minor": 1
}
