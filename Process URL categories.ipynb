{
 "cells": [
  {
   "cell_type": "code",
   "execution_count": 1,
   "metadata": {
    "collapsed": false
   },
   "outputs": [],
   "source": [
    "import pandas as pd\n",
    "import numpy as np\n",
    "from glob import glob\n",
    "from collections import defaultdict, Counter\n",
    "\n",
    "from urlparse import urlsplit, parse_qs\n",
    "\n",
    "import re"
   ]
  },
  {
   "cell_type": "code",
   "execution_count": 2,
   "metadata": {
    "collapsed": false
   },
   "outputs": [
    {
     "name": "stdout",
     "output_type": "stream",
     "text": [
      "['DomainDataset/fakenews_domain+suffix.txt', 'DomainDataset/commercial_domain+suffix.txt', 'DomainDataset/fakenewschecker_domain+suffix.txt', 'DomainDataset/satire_domain+suffix.txt', 'DomainDataset/Videos_domain+suffix.txt', 'DomainDataset/socialMedia_domain+suffix.txt', 'DomainDataset/scientific_domain+suffix.txt', 'DomainDataset/clickbait_domain+suffix.txt', 'DomainDataset/Blog_domain+suffix.txt', 'DomainDataset/USGov_domain+suffix.txt', 'DomainDataset/News_Domain+suffix.txt']\n"
     ]
    }
   ],
   "source": [
    "classification_files = glob(\"DomainDataset/*+suffix.txt\")\n",
    "print classification_files"
   ]
  },
  {
   "cell_type": "code",
   "execution_count": 3,
   "metadata": {
    "collapsed": false
   },
   "outputs": [
    {
     "name": "stdout",
     "output_type": "stream",
     "text": [
      "DomainDataset/fakenews_domain+suffix.txt\tfakenews\n",
      "DomainDataset/commercial_domain+suffix.txt\tcommercial\n",
      "DomainDataset/fakenewschecker_domain+suffix.txt\tfakenews\n",
      "DomainDataset/satire_domain+suffix.txt\tsatire\n",
      "DomainDataset/Videos_domain+suffix.txt\tvideos\n",
      "DomainDataset/socialMedia_domain+suffix.txt\tsocialmedia\n",
      "DomainDataset/scientific_domain+suffix.txt\tscientific\n",
      "DomainDataset/clickbait_domain+suffix.txt\tclickbait\n",
      "DomainDataset/Blog_domain+suffix.txt\tblog\n",
      "DomainDataset/USGov_domain+suffix.txt\tusgov\n",
      "DomainDataset/News_Domain+suffix.txt\tnews\n"
     ]
    }
   ],
   "source": [
    "CAT_REGEX = re.compile(r'.*/([a-zA-Z]+)_.*')\n",
    "\n",
    "url_categories = defaultdict(set)\n",
    "for filename in classification_files:\n",
    "    catname = CAT_REGEX.match(filename).groups()[0].lower()\n",
    "    if catname == \"fakenewschecker\":\n",
    "        catname = \"fakenews\"\n",
    "    print \"%s\\t%s\" % (filename, catname)\n",
    "    with open(filename) as fp:\n",
    "        for line in fp:\n",
    "            line = line.strip().lower()\n",
    "            if line.startswith(\"www.\"):\n",
    "                line = line[4:]\n",
    "            url_categories[line].add(catname)\n",
    "            \n",
    "len(url_categories), url_categories[\"facebook.com\"]\n",
    "url_categories[\"twitter.com\"].add(\"twitter\") # Manually add twitter in seperate category"
   ]
  },
  {
   "cell_type": "code",
   "execution_count": 4,
   "metadata": {
    "collapsed": false
   },
   "outputs": [
    {
     "name": "stdout",
     "output_type": "stream",
     "text": [
      "['DomainDataset/Wikidata_scientific.tsv', 'DomainDataset/Wikidata_videos.tsv', 'DomainDataset/Wikidata_socialmedia.tsv', 'DomainDataset/Wikidata_blog.tsv', 'DomainDataset/Wikidata_news.tsv']\n",
      "DomainDataset/Wikidata_scientific.tsv\tscientific\n",
      "DomainDataset/Wikidata_videos.tsv\tvideos\n",
      "DomainDataset/Wikidata_socialmedia.tsv\tsocialmedia\n",
      "DomainDataset/Wikidata_blog.tsv\tblog\n",
      "DomainDataset/Wikidata_news.tsv\tnews\n"
     ]
    }
   ],
   "source": [
    "wikidata_files = glob(\"DomainDataset/Wikidata_*.tsv\")\n",
    "print wikidata_files\n",
    "\n",
    "WIKIDATA_CAT_REGEX = re.compile(r'.*/.*_([a-zA-Z\\ ]+).*')\n",
    "\n",
    "for filename in wikidata_files:\n",
    "    catname = WIKIDATA_CAT_REGEX.match(filename).groups()[0].lower()\n",
    "    print \"%s\\t%s\" % (filename, catname)\n",
    "    with open(filename) as fp:\n",
    "        header = fp.readline()\n",
    "        for line in fp:\n",
    "            line = line[:-1].lower().split(\"\\t\")[-1]\n",
    "            if line.strip() == \"\":\n",
    "                continue\n",
    "            try:\n",
    "                line = line.split(\"/\", 3)[2]\n",
    "            except:\n",
    "                print line\n",
    "                raise\n",
    "            if line.startswith(\"www.\"):\n",
    "                line = line[4:]\n",
    "            url_categories[line].add(catname)"
   ]
  },
  {
   "cell_type": "code",
   "execution_count": 5,
   "metadata": {
    "collapsed": false
   },
   "outputs": [
    {
     "data": {
      "text/html": [
       "<div>\n",
       "<table border=\"1\" class=\"dataframe\">\n",
       "  <thead>\n",
       "    <tr style=\"text-align: right;\">\n",
       "      <th></th>\n",
       "      <th>URL category</th>\n",
       "      <th>Counts</th>\n",
       "    </tr>\n",
       "  </thead>\n",
       "  <tbody>\n",
       "    <tr>\n",
       "      <th>0</th>\n",
       "      <td>blog</td>\n",
       "      <td>194</td>\n",
       "    </tr>\n",
       "    <tr>\n",
       "      <th>1</th>\n",
       "      <td>commercial</td>\n",
       "      <td>55</td>\n",
       "    </tr>\n",
       "    <tr>\n",
       "      <th>2</th>\n",
       "      <td>fakenews</td>\n",
       "      <td>519</td>\n",
       "    </tr>\n",
       "    <tr>\n",
       "      <th>3</th>\n",
       "      <td>news</td>\n",
       "      <td>1988</td>\n",
       "    </tr>\n",
       "    <tr>\n",
       "      <th>4</th>\n",
       "      <td>scientific</td>\n",
       "      <td>2962</td>\n",
       "    </tr>\n",
       "    <tr>\n",
       "      <th>5</th>\n",
       "      <td>socialmedia</td>\n",
       "      <td>87</td>\n",
       "    </tr>\n",
       "    <tr>\n",
       "      <th>6</th>\n",
       "      <td>twitter</td>\n",
       "      <td>1</td>\n",
       "    </tr>\n",
       "    <tr>\n",
       "      <th>7</th>\n",
       "      <td>videos</td>\n",
       "      <td>13</td>\n",
       "    </tr>\n",
       "  </tbody>\n",
       "</table>\n",
       "</div>"
      ],
      "text/plain": [
       "  URL category  Counts\n",
       "0         blog     194\n",
       "1   commercial      55\n",
       "2     fakenews     519\n",
       "3         news    1988\n",
       "4   scientific    2962\n",
       "5  socialmedia      87\n",
       "6      twitter       1\n",
       "7       videos      13"
      ]
     },
     "execution_count": 5,
     "metadata": {},
     "output_type": "execute_result"
    }
   ],
   "source": [
    "CAT_MAPPINGS={\n",
    "    \"satire\": \"fakenews\",\n",
    "    \"clickbait\": \"fakenews\",\n",
    "    \"usgov\": \"news\"\n",
    "}\n",
    "pd.Series(\n",
    "    Counter(\n",
    "        sum((list(CAT_MAPPINGS.get(x, x) for x in k)\n",
    "             for k in url_categories.itervalues()),\n",
    "            []))).to_frame().reset_index().rename(\n",
    "    columns={0: \"Counts\",\n",
    "            \"index\": \"URL category\"})"
   ]
  },
  {
   "cell_type": "code",
   "execution_count": 6,
   "metadata": {
    "collapsed": false
   },
   "outputs": [
    {
     "data": {
      "text/plain": [
       "ameblo.jp                             {blog, socialmedia}\n",
       "ap.org                                   {news, fakenews}\n",
       "beme.com                            {socialmedia, videos}\n",
       "blogger.com                           {blog, socialmedia}\n",
       "bls.gov                               {usgov, scientific}\n",
       "cdc.gov                               {usgov, scientific}\n",
       "cia.gov                               {usgov, scientific}\n",
       "dailycaller.com                          {news, fakenews}\n",
       "dailykos.com                             {news, fakenews}\n",
       "flickr.com                          {socialmedia, videos}\n",
       "friendster.com                        {blog, socialmedia}\n",
       "funk.net                            {socialmedia, videos}\n",
       "gamepolitics.com                             {blog, news}\n",
       "instagram.com                       {socialmedia, videos}\n",
       "livejournal.com                       {blog, socialmedia}\n",
       "mirror.co.uk                             {news, fakenews}\n",
       "nature.com                             {news, scientific}\n",
       "nbn-resolving.de                       {news, scientific}\n",
       "newscientist.com                       {news, scientific}\n",
       "nih.gov                               {usgov, scientific}\n",
       "ning.com                              {blog, socialmedia}\n",
       "pnas.org                               {news, scientific}\n",
       "researchgate.net                {socialmedia, scientific}\n",
       "sagepub.com                            {news, scientific}\n",
       "sciencemag.org                         {news, scientific}\n",
       "sites.google.com                      {usgov, scientific}\n",
       "tumblr.com                            {blog, socialmedia}\n",
       "twitter.com                        {twitter, socialmedia}\n",
       "usda.gov                              {usgov, scientific}\n",
       "vimeo.com                           {socialmedia, videos}\n",
       "washingtonexaminer.com                   {news, fakenews}\n",
       "web.archive.org           {news, socialmedia, scientific}\n",
       "youtube.com                         {socialmedia, videos}\n",
       "dtype: object"
      ]
     },
     "execution_count": 6,
     "metadata": {},
     "output_type": "execute_result"
    }
   ],
   "source": [
    "df_t = pd.Series(url_categories)\n",
    "df_t[(df_t.apply(lambda k: len(set(CAT_MAPPINGS.get(x, x) for x in k))) > 1)]"
   ]
  },
  {
   "cell_type": "code",
   "execution_count": 7,
   "metadata": {
    "collapsed": false
   },
   "outputs": [
    {
     "name": "stdout",
     "output_type": "stream",
     "text": [
      "\tvideos\r\n",
      "tap.sagepub.com\tscientific\r\n",
      "qualitative-research.net\tscientific\r\n",
      "pe.com\tnews\r\n",
      "iijournals.com\tscientific\r\n",
      "present.fr\tnews\r\n",
      "rpd.unibo.it\tscientific\r\n",
      "libertyunyielding.com\tfakenews\r\n",
      "usma.edu\tusgov\r\n",
      "cbssports.com\tnews\r\n"
     ]
    }
   ],
   "source": [
    "with open(\"DomainDataset/URL_CATS.txt\", \"wb+\") as fp:\n",
    "    for url, cats in url_categories.iteritems():\n",
    "        print >> fp, \"%s\\t%s\" % (url, \",\".join(cats))\n",
    "        \n",
    "! head DomainDataset/URL_CATS.txt"
   ]
  },
  {
   "cell_type": "markdown",
   "metadata": {},
   "source": [
    "## Merge URL with categories"
   ]
  },
  {
   "cell_type": "code",
   "execution_count": 8,
   "metadata": {
    "collapsed": false
   },
   "outputs": [
    {
     "data": {
      "text/html": [
       "<div>\n",
       "<table border=\"1\" class=\"dataframe\">\n",
       "  <thead>\n",
       "    <tr style=\"text-align: right;\">\n",
       "      <th></th>\n",
       "      <th>URL</th>\n",
       "      <th>DOMAIN</th>\n",
       "      <th>Counts</th>\n",
       "    </tr>\n",
       "  </thead>\n",
       "  <tbody>\n",
       "    <tr>\n",
       "      <th>0</th>\n",
       "      <td>http://bit.ly/1VzAMWD</td>\n",
       "      <td>bit.ly</td>\n",
       "      <td>15148</td>\n",
       "    </tr>\n",
       "    <tr>\n",
       "      <th>1</th>\n",
       "      <td>http://bit.ly/2f8U9pg</td>\n",
       "      <td>bit.ly</td>\n",
       "      <td>15148</td>\n",
       "    </tr>\n",
       "    <tr>\n",
       "      <th>2</th>\n",
       "      <td>http://bit.ly/1Q89AHn</td>\n",
       "      <td>bit.ly</td>\n",
       "      <td>15148</td>\n",
       "    </tr>\n",
       "    <tr>\n",
       "      <th>3</th>\n",
       "      <td>http://bit.ly/2g0SbXa</td>\n",
       "      <td>bit.ly</td>\n",
       "      <td>15148</td>\n",
       "    </tr>\n",
       "    <tr>\n",
       "      <th>4</th>\n",
       "      <td>http://bit.ly/29Udgo1</td>\n",
       "      <td>bit.ly</td>\n",
       "      <td>15148</td>\n",
       "    </tr>\n",
       "  </tbody>\n",
       "</table>\n",
       "</div>"
      ],
      "text/plain": [
       "                     URL  DOMAIN  Counts\n",
       "0  http://bit.ly/1VzAMWD  bit.ly   15148\n",
       "1  http://bit.ly/2f8U9pg  bit.ly   15148\n",
       "2  http://bit.ly/1Q89AHn  bit.ly   15148\n",
       "3  http://bit.ly/2g0SbXa  bit.ly   15148\n",
       "4  http://bit.ly/29Udgo1  bit.ly   15148"
      ]
     },
     "execution_count": 8,
     "metadata": {},
     "output_type": "execute_result"
    }
   ],
   "source": [
    "df_url_counts = pd.read_csv(\"all_urls.txt\", sep=\"\\t\", header=None)\n",
    "df_url_counts.columns = [\"URL\", \"DOMAIN\", \"Counts\"]\n",
    "df_url_counts.head()"
   ]
  },
  {
   "cell_type": "code",
   "execution_count": 9,
   "metadata": {
    "collapsed": false
   },
   "outputs": [
    {
     "data": {
      "text/html": [
       "<div>\n",
       "<table border=\"1\" class=\"dataframe\">\n",
       "  <thead>\n",
       "    <tr style=\"text-align: right;\">\n",
       "      <th></th>\n",
       "      <th>URL</th>\n",
       "      <th>EXPANDED</th>\n",
       "      <th>EXPANDED_STATUS</th>\n",
       "    </tr>\n",
       "  </thead>\n",
       "  <tbody>\n",
       "    <tr>\n",
       "      <th>0</th>\n",
       "      <td>http://www.investmentnews.com/article/20160801...</td>\n",
       "      <td>http://www.investmentnews.com/article/20160801...</td>\n",
       "      <td>0</td>\n",
       "    </tr>\n",
       "    <tr>\n",
       "      <th>1</th>\n",
       "      <td>http://ow.ly/3avNPe</td>\n",
       "      <td>https://www.reddit.com/r/cahideas/comments/42i...</td>\n",
       "      <td>0</td>\n",
       "    </tr>\n",
       "    <tr>\n",
       "      <th>2</th>\n",
       "      <td>http://stratcom.kma-assc.com/uncategorized/pre...</td>\n",
       "      <td>http://stratcom.kma-assc.com/uncategorized/pre...</td>\n",
       "      <td>3</td>\n",
       "    </tr>\n",
       "    <tr>\n",
       "      <th>3</th>\n",
       "      <td>http://ln.is/mabelsaveforschool.com/gbEtv</td>\n",
       "      <td>http://linkis.com/mabelsaveforschool.com/gbEtv</td>\n",
       "      <td>0</td>\n",
       "    </tr>\n",
       "    <tr>\n",
       "      <th>4</th>\n",
       "      <td>http://kiw.im/16LfJirkfzE</td>\n",
       "      <td>https://kiwi.qa/LFHKX8RLIFI7O8/39656070290663927</td>\n",
       "      <td>0</td>\n",
       "    </tr>\n",
       "  </tbody>\n",
       "</table>\n",
       "</div>"
      ],
      "text/plain": [
       "                                                 URL  \\\n",
       "0  http://www.investmentnews.com/article/20160801...   \n",
       "1                                http://ow.ly/3avNPe   \n",
       "2  http://stratcom.kma-assc.com/uncategorized/pre...   \n",
       "3          http://ln.is/mabelsaveforschool.com/gbEtv   \n",
       "4                          http://kiw.im/16LfJirkfzE   \n",
       "\n",
       "                                            EXPANDED  EXPANDED_STATUS  \n",
       "0  http://www.investmentnews.com/article/20160801...                0  \n",
       "1  https://www.reddit.com/r/cahideas/comments/42i...                0  \n",
       "2  http://stratcom.kma-assc.com/uncategorized/pre...                3  \n",
       "3     http://linkis.com/mabelsaveforschool.com/gbEtv                0  \n",
       "4   https://kiwi.qa/LFHKX8RLIFI7O8/39656070290663927                0  "
      ]
     },
     "execution_count": 9,
     "metadata": {},
     "output_type": "execute_result"
    }
   ],
   "source": [
    "df = pd.read_csv(\"url_expanded.merged.txt\", sep=\"\\t\")\n",
    "df.head()"
   ]
  },
  {
   "cell_type": "code",
   "execution_count": 10,
   "metadata": {
    "collapsed": false
   },
   "outputs": [
    {
     "data": {
      "text/plain": [
       "['http:', '/linkis.com/freebeacon.com/polit/3Fjdv']"
      ]
     },
     "execution_count": 10,
     "metadata": {},
     "output_type": "execute_result"
    }
   ],
   "source": [
    "\"http://linkis.com/freebeacon.com/polit/3Fjdv\".split(\"/\", 1)"
   ]
  },
  {
   "cell_type": "code",
   "execution_count": 11,
   "metadata": {
    "collapsed": false
   },
   "outputs": [
    {
     "data": {
      "text/plain": [
       "{'cd': ['CAIyGjE2ZDBhYmZjOTAzMjkyMTk6Y29tOmVuOlVT'],\n",
       " 'ct': ['ga'],\n",
       " 'rct': ['j'],\n",
       " 'sa': ['t'],\n",
       " 'url': ['http://www.phoenixnewtimes.com/news/harkins-theaters-cancel-arizona-showing-of-anti-vaccine-film-8255215'],\n",
       " 'usg': ['AFQjCNHJWqaVm8jBMMQhMe39xm5Wtiy-3A']}"
      ]
     },
     "execution_count": 11,
     "metadata": {},
     "output_type": "execute_result"
    }
   ],
   "source": [
    "parse_qs(urlsplit(\"https://www.google.com/url?rct=j&sa=t&url=http://www.phoenixnewtimes.com/news/harkins-theaters-cancel-arizona-showing-of-anti-vaccine-film-8255215&ct=ga&cd=CAIyGjE2ZDBhYmZjOTAzMjkyMTk6Y29tOmVuOlVT&usg=AFQjCNHJWqaVm8jBMMQhMe39xm5Wtiy-3A\").query)"
   ]
  },
  {
   "cell_type": "code",
   "execution_count": 12,
   "metadata": {
    "collapsed": true
   },
   "outputs": [],
   "source": [
    "def get_url_domain(x):\n",
    "    x = urlsplit(x.lower())\n",
    "    if x.netloc in {\"linkis.com\", \"www.linkis.com\"}:\n",
    "        if x.path[1:] != \"\":\n",
    "            x = urlsplit(\"http:/%s\" % x.path).netloc\n",
    "        else:\n",
    "            x = x.netloc\n",
    "    elif x.netloc in {\"google.com\", \"www.google.com\"}:\n",
    "        query = parse_qs(x.query)\n",
    "        if \"url\" in query:\n",
    "            return get_url_domain(query[\"url\"][0])\n",
    "        x = x.netloc\n",
    "    else:\n",
    "        x = x.netloc\n",
    "    if x.startswith(\"www.\"):\n",
    "        x = x[4:]\n",
    "    if x.endswith(\".wordpress.com\") or x.endswith(\".tumblr.com\") or x.endswith(\".blogspot.com\"):\n",
    "        x = x.split(\".\", 1)[-1]\n",
    "    return x"
   ]
  },
  {
   "cell_type": "code",
   "execution_count": 13,
   "metadata": {
    "collapsed": false
   },
   "outputs": [
    {
     "data": {
      "text/plain": [
       "'perthnow.com.au'"
      ]
     },
     "execution_count": 13,
     "metadata": {},
     "output_type": "execute_result"
    }
   ],
   "source": [
    "get_url_domain(\"https://www.google.com/url?rct=j&sa=t&url=http://www.perthnow.com.au/news/western-australia/social-services-minister-christian-porter-slaps-down-antivaccination-campaigners/news-story/0aa49052ec0598704b05333075581296&ct=ga&cd=CAIyGjE2ZDBhYmZjOTAzMjkyMTk6Y29tOmVuOlVT&usg=AFQjCNFAB3aZtdfdVpXOHWzyfqsu0ZSFAg\")"
   ]
  },
  {
   "cell_type": "code",
   "execution_count": 14,
   "metadata": {
    "collapsed": false
   },
   "outputs": [
    {
     "data": {
      "text/html": [
       "<div>\n",
       "<table border=\"1\" class=\"dataframe\">\n",
       "  <thead>\n",
       "    <tr style=\"text-align: right;\">\n",
       "      <th></th>\n",
       "      <th>URL</th>\n",
       "      <th>EXPANDED</th>\n",
       "      <th>EXPANDED_STATUS</th>\n",
       "      <th>URL_DOMAIN</th>\n",
       "    </tr>\n",
       "  </thead>\n",
       "  <tbody>\n",
       "    <tr>\n",
       "      <th>0</th>\n",
       "      <td>http://www.investmentnews.com/article/20160801...</td>\n",
       "      <td>http://www.investmentnews.com/article/20160801...</td>\n",
       "      <td>0</td>\n",
       "      <td>investmentnews.com</td>\n",
       "    </tr>\n",
       "    <tr>\n",
       "      <th>1</th>\n",
       "      <td>http://ow.ly/3avNPe</td>\n",
       "      <td>https://www.reddit.com/r/cahideas/comments/42i...</td>\n",
       "      <td>0</td>\n",
       "      <td>reddit.com</td>\n",
       "    </tr>\n",
       "    <tr>\n",
       "      <th>2</th>\n",
       "      <td>http://stratcom.kma-assc.com/uncategorized/pre...</td>\n",
       "      <td>http://stratcom.kma-assc.com/uncategorized/pre...</td>\n",
       "      <td>3</td>\n",
       "      <td>stratcom.kma-assc.com</td>\n",
       "    </tr>\n",
       "    <tr>\n",
       "      <th>3</th>\n",
       "      <td>http://ln.is/mabelsaveforschool.com/gbEtv</td>\n",
       "      <td>http://linkis.com/mabelsaveforschool.com/gbEtv</td>\n",
       "      <td>0</td>\n",
       "      <td>mabelsaveforschool.com</td>\n",
       "    </tr>\n",
       "    <tr>\n",
       "      <th>4</th>\n",
       "      <td>http://kiw.im/16LfJirkfzE</td>\n",
       "      <td>https://kiwi.qa/LFHKX8RLIFI7O8/39656070290663927</td>\n",
       "      <td>0</td>\n",
       "      <td>kiwi.qa</td>\n",
       "    </tr>\n",
       "  </tbody>\n",
       "</table>\n",
       "</div>"
      ],
      "text/plain": [
       "                                                 URL  \\\n",
       "0  http://www.investmentnews.com/article/20160801...   \n",
       "1                                http://ow.ly/3avNPe   \n",
       "2  http://stratcom.kma-assc.com/uncategorized/pre...   \n",
       "3          http://ln.is/mabelsaveforschool.com/gbEtv   \n",
       "4                          http://kiw.im/16LfJirkfzE   \n",
       "\n",
       "                                            EXPANDED  EXPANDED_STATUS  \\\n",
       "0  http://www.investmentnews.com/article/20160801...                0   \n",
       "1  https://www.reddit.com/r/cahideas/comments/42i...                0   \n",
       "2  http://stratcom.kma-assc.com/uncategorized/pre...                3   \n",
       "3     http://linkis.com/mabelsaveforschool.com/gbEtv                0   \n",
       "4   https://kiwi.qa/LFHKX8RLIFI7O8/39656070290663927                0   \n",
       "\n",
       "               URL_DOMAIN  \n",
       "0      investmentnews.com  \n",
       "1              reddit.com  \n",
       "2   stratcom.kma-assc.com  \n",
       "3  mabelsaveforschool.com  \n",
       "4                 kiwi.qa  "
      ]
     },
     "execution_count": 14,
     "metadata": {},
     "output_type": "execute_result"
    }
   ],
   "source": [
    "df[\"URL_DOMAIN\"] = df.EXPANDED.apply(get_url_domain)\n",
    "df.head()"
   ]
  },
  {
   "cell_type": "code",
   "execution_count": 15,
   "metadata": {
    "collapsed": false
   },
   "outputs": [
    {
     "data": {
      "text/html": [
       "<div>\n",
       "<table border=\"1\" class=\"dataframe\">\n",
       "  <thead>\n",
       "    <tr style=\"text-align: right;\">\n",
       "      <th></th>\n",
       "      <th>URL</th>\n",
       "      <th>EXPANDED</th>\n",
       "      <th>EXPANDED_STATUS</th>\n",
       "      <th>URL_DOMAIN</th>\n",
       "      <th>URL_CATS</th>\n",
       "    </tr>\n",
       "  </thead>\n",
       "  <tbody>\n",
       "    <tr>\n",
       "      <th>0</th>\n",
       "      <td>http://www.investmentnews.com/article/20160801...</td>\n",
       "      <td>http://www.investmentnews.com/article/20160801...</td>\n",
       "      <td>0</td>\n",
       "      <td>investmentnews.com</td>\n",
       "      <td>UNK</td>\n",
       "    </tr>\n",
       "    <tr>\n",
       "      <th>1</th>\n",
       "      <td>http://ow.ly/3avNPe</td>\n",
       "      <td>https://www.reddit.com/r/cahideas/comments/42i...</td>\n",
       "      <td>0</td>\n",
       "      <td>reddit.com</td>\n",
       "      <td>{socialmedia}</td>\n",
       "    </tr>\n",
       "    <tr>\n",
       "      <th>2</th>\n",
       "      <td>http://stratcom.kma-assc.com/uncategorized/pre...</td>\n",
       "      <td>http://stratcom.kma-assc.com/uncategorized/pre...</td>\n",
       "      <td>3</td>\n",
       "      <td>stratcom.kma-assc.com</td>\n",
       "      <td>UNK</td>\n",
       "    </tr>\n",
       "    <tr>\n",
       "      <th>3</th>\n",
       "      <td>http://ln.is/mabelsaveforschool.com/gbEtv</td>\n",
       "      <td>http://linkis.com/mabelsaveforschool.com/gbEtv</td>\n",
       "      <td>0</td>\n",
       "      <td>mabelsaveforschool.com</td>\n",
       "      <td>{commercial}</td>\n",
       "    </tr>\n",
       "    <tr>\n",
       "      <th>4</th>\n",
       "      <td>http://kiw.im/16LfJirkfzE</td>\n",
       "      <td>https://kiwi.qa/LFHKX8RLIFI7O8/39656070290663927</td>\n",
       "      <td>0</td>\n",
       "      <td>kiwi.qa</td>\n",
       "      <td>UNK</td>\n",
       "    </tr>\n",
       "  </tbody>\n",
       "</table>\n",
       "</div>"
      ],
      "text/plain": [
       "                                                 URL  \\\n",
       "0  http://www.investmentnews.com/article/20160801...   \n",
       "1                                http://ow.ly/3avNPe   \n",
       "2  http://stratcom.kma-assc.com/uncategorized/pre...   \n",
       "3          http://ln.is/mabelsaveforschool.com/gbEtv   \n",
       "4                          http://kiw.im/16LfJirkfzE   \n",
       "\n",
       "                                            EXPANDED  EXPANDED_STATUS  \\\n",
       "0  http://www.investmentnews.com/article/20160801...                0   \n",
       "1  https://www.reddit.com/r/cahideas/comments/42i...                0   \n",
       "2  http://stratcom.kma-assc.com/uncategorized/pre...                3   \n",
       "3     http://linkis.com/mabelsaveforschool.com/gbEtv                0   \n",
       "4   https://kiwi.qa/LFHKX8RLIFI7O8/39656070290663927                0   \n",
       "\n",
       "               URL_DOMAIN       URL_CATS  \n",
       "0      investmentnews.com            UNK  \n",
       "1              reddit.com  {socialmedia}  \n",
       "2   stratcom.kma-assc.com            UNK  \n",
       "3  mabelsaveforschool.com   {commercial}  \n",
       "4                 kiwi.qa            UNK  "
      ]
     },
     "execution_count": 15,
     "metadata": {},
     "output_type": "execute_result"
    }
   ],
   "source": [
    "df[\"URL_CATS\"] = df.URL_DOMAIN.apply(lambda x: url_categories.get(x, \"UNK\"))\n",
    "df.head()"
   ]
  },
  {
   "cell_type": "code",
   "execution_count": 16,
   "metadata": {
    "collapsed": false
   },
   "outputs": [
    {
     "data": {
      "text/html": [
       "<div>\n",
       "<table border=\"1\" class=\"dataframe\">\n",
       "  <thead>\n",
       "    <tr style=\"text-align: right;\">\n",
       "      <th></th>\n",
       "      <th>URL</th>\n",
       "      <th>EXPANDED</th>\n",
       "      <th>EXPANDED_STATUS</th>\n",
       "      <th>URL_DOMAIN</th>\n",
       "      <th>URL_CATS</th>\n",
       "    </tr>\n",
       "  </thead>\n",
       "  <tbody>\n",
       "    <tr>\n",
       "      <th>1</th>\n",
       "      <td>http://ow.ly/3avNPe</td>\n",
       "      <td>https://www.reddit.com/r/cahideas/comments/42i...</td>\n",
       "      <td>0</td>\n",
       "      <td>reddit.com</td>\n",
       "      <td>{socialmedia}</td>\n",
       "    </tr>\n",
       "    <tr>\n",
       "      <th>3</th>\n",
       "      <td>http://ln.is/mabelsaveforschool.com/gbEtv</td>\n",
       "      <td>http://linkis.com/mabelsaveforschool.com/gbEtv</td>\n",
       "      <td>0</td>\n",
       "      <td>mabelsaveforschool.com</td>\n",
       "      <td>{commercial}</td>\n",
       "    </tr>\n",
       "    <tr>\n",
       "      <th>5</th>\n",
       "      <td>http://fb.me/241s7UtEJ</td>\n",
       "      <td>https://www.facebook.com/story.php?story_fbid=...</td>\n",
       "      <td>0</td>\n",
       "      <td>facebook.com</td>\n",
       "      <td>{socialmedia}</td>\n",
       "    </tr>\n",
       "    <tr>\n",
       "      <th>6</th>\n",
       "      <td>http://owl.li/XkyUO</td>\n",
       "      <td>https://www.youtube.com/watch?v=xtspq5T7B44&amp;fe...</td>\n",
       "      <td>0</td>\n",
       "      <td>youtube.com</td>\n",
       "      <td>{socialmedia, videos}</td>\n",
       "    </tr>\n",
       "    <tr>\n",
       "      <th>9</th>\n",
       "      <td>http://ln.is/www.rocskincare.com/AGBcS</td>\n",
       "      <td>http://linkis.com/www.rocskincare.com/AGBcS</td>\n",
       "      <td>0</td>\n",
       "      <td>rocskincare.com</td>\n",
       "      <td>{commercial}</td>\n",
       "    </tr>\n",
       "  </tbody>\n",
       "</table>\n",
       "</div>"
      ],
      "text/plain": [
       "                                         URL  \\\n",
       "1                        http://ow.ly/3avNPe   \n",
       "3  http://ln.is/mabelsaveforschool.com/gbEtv   \n",
       "5                     http://fb.me/241s7UtEJ   \n",
       "6                        http://owl.li/XkyUO   \n",
       "9     http://ln.is/www.rocskincare.com/AGBcS   \n",
       "\n",
       "                                            EXPANDED  EXPANDED_STATUS  \\\n",
       "1  https://www.reddit.com/r/cahideas/comments/42i...                0   \n",
       "3     http://linkis.com/mabelsaveforschool.com/gbEtv                0   \n",
       "5  https://www.facebook.com/story.php?story_fbid=...                0   \n",
       "6  https://www.youtube.com/watch?v=xtspq5T7B44&fe...                0   \n",
       "9        http://linkis.com/www.rocskincare.com/AGBcS                0   \n",
       "\n",
       "               URL_DOMAIN               URL_CATS  \n",
       "1              reddit.com          {socialmedia}  \n",
       "3  mabelsaveforschool.com           {commercial}  \n",
       "5            facebook.com          {socialmedia}  \n",
       "6             youtube.com  {socialmedia, videos}  \n",
       "9         rocskincare.com           {commercial}  "
      ]
     },
     "execution_count": 16,
     "metadata": {},
     "output_type": "execute_result"
    }
   ],
   "source": [
    "df[df.URL_CATS != \"UNK\"].head()"
   ]
  },
  {
   "cell_type": "code",
   "execution_count": 17,
   "metadata": {
    "collapsed": false
   },
   "outputs": [
    {
     "data": {
      "text/plain": [
       "((60586, 5), (97512, 5))"
      ]
     },
     "execution_count": 17,
     "metadata": {},
     "output_type": "execute_result"
    }
   ],
   "source": [
    "df[df.URL_CATS != \"UNK\"].shape, df.shape"
   ]
  },
  {
   "cell_type": "code",
   "execution_count": 18,
   "metadata": {
    "collapsed": false
   },
   "outputs": [
    {
     "data": {
      "text/html": [
       "<div>\n",
       "<table border=\"1\" class=\"dataframe\">\n",
       "  <thead>\n",
       "    <tr style=\"text-align: right;\">\n",
       "      <th></th>\n",
       "      <th>URL</th>\n",
       "      <th>EXPANDED</th>\n",
       "      <th>EXPANDED_STATUS</th>\n",
       "      <th>URL_DOMAIN</th>\n",
       "      <th>URL_CATS</th>\n",
       "    </tr>\n",
       "  </thead>\n",
       "  <tbody>\n",
       "    <tr>\n",
       "      <th>0</th>\n",
       "      <td>http://www.investmentnews.com/article/20160801...</td>\n",
       "      <td>http://www.investmentnews.com/article/20160801...</td>\n",
       "      <td>0</td>\n",
       "      <td>investmentnews.com</td>\n",
       "      <td>UNK</td>\n",
       "    </tr>\n",
       "    <tr>\n",
       "      <th>2</th>\n",
       "      <td>http://stratcom.kma-assc.com/uncategorized/pre...</td>\n",
       "      <td>http://stratcom.kma-assc.com/uncategorized/pre...</td>\n",
       "      <td>3</td>\n",
       "      <td>stratcom.kma-assc.com</td>\n",
       "      <td>UNK</td>\n",
       "    </tr>\n",
       "    <tr>\n",
       "      <th>4</th>\n",
       "      <td>http://kiw.im/16LfJirkfzE</td>\n",
       "      <td>https://kiwi.qa/LFHKX8RLIFI7O8/39656070290663927</td>\n",
       "      <td>0</td>\n",
       "      <td>kiwi.qa</td>\n",
       "      <td>UNK</td>\n",
       "    </tr>\n",
       "    <tr>\n",
       "      <th>7</th>\n",
       "      <td>http://goo.gl/RTQ29</td>\n",
       "      <td>http://localbuzznetwork.com/clarksburg-wv-job-...</td>\n",
       "      <td>0</td>\n",
       "      <td>localbuzznetwork.com</td>\n",
       "      <td>UNK</td>\n",
       "    </tr>\n",
       "    <tr>\n",
       "      <th>8</th>\n",
       "      <td>http://buff.ly/1SNoZU6</td>\n",
       "      <td>http://weightlosslaw.com/01cdea672dbfe8?utm_co...</td>\n",
       "      <td>0</td>\n",
       "      <td>weightlosslaw.com</td>\n",
       "      <td>UNK</td>\n",
       "    </tr>\n",
       "    <tr>\n",
       "      <th>10</th>\n",
       "      <td>http://dlvr.it/DD1NHF</td>\n",
       "      <td>http://www.datacenterknowledge.com/archives/20...</td>\n",
       "      <td>0</td>\n",
       "      <td>datacenterknowledge.com</td>\n",
       "      <td>UNK</td>\n",
       "    </tr>\n",
       "    <tr>\n",
       "      <th>11</th>\n",
       "      <td>http://wbur.fm/2fP8Rm7</td>\n",
       "      <td>http://www.wbur.org/npr/501600013/for-clues-to...</td>\n",
       "      <td>0</td>\n",
       "      <td>wbur.org</td>\n",
       "      <td>UNK</td>\n",
       "    </tr>\n",
       "    <tr>\n",
       "      <th>14</th>\n",
       "      <td>http://dailydose.topratedviral.com/article/wom...</td>\n",
       "      <td>http://dailydose.topratedviral.com/article/wom...</td>\n",
       "      <td>1</td>\n",
       "      <td>dailydose.topratedviral.com</td>\n",
       "      <td>UNK</td>\n",
       "    </tr>\n",
       "    <tr>\n",
       "      <th>18</th>\n",
       "      <td>http://ecowatch.com/2015/11/30/another-earthqu...</td>\n",
       "      <td>http://www.ecowatch.com/another-earthquake-hit...</td>\n",
       "      <td>0</td>\n",
       "      <td>ecowatch.com</td>\n",
       "      <td>UNK</td>\n",
       "    </tr>\n",
       "    <tr>\n",
       "      <th>20</th>\n",
       "      <td>http://www.illinoishomepage.net/weather/weathe...</td>\n",
       "      <td>http://www.illinoishomepage.net/weather/weathe...</td>\n",
       "      <td>0</td>\n",
       "      <td>illinoishomepage.net</td>\n",
       "      <td>UNK</td>\n",
       "    </tr>\n",
       "  </tbody>\n",
       "</table>\n",
       "</div>"
      ],
      "text/plain": [
       "                                                  URL  \\\n",
       "0   http://www.investmentnews.com/article/20160801...   \n",
       "2   http://stratcom.kma-assc.com/uncategorized/pre...   \n",
       "4                           http://kiw.im/16LfJirkfzE   \n",
       "7                                 http://goo.gl/RTQ29   \n",
       "8                              http://buff.ly/1SNoZU6   \n",
       "10                              http://dlvr.it/DD1NHF   \n",
       "11                             http://wbur.fm/2fP8Rm7   \n",
       "14  http://dailydose.topratedviral.com/article/wom...   \n",
       "18  http://ecowatch.com/2015/11/30/another-earthqu...   \n",
       "20  http://www.illinoishomepage.net/weather/weathe...   \n",
       "\n",
       "                                             EXPANDED  EXPANDED_STATUS  \\\n",
       "0   http://www.investmentnews.com/article/20160801...                0   \n",
       "2   http://stratcom.kma-assc.com/uncategorized/pre...                3   \n",
       "4    https://kiwi.qa/LFHKX8RLIFI7O8/39656070290663927                0   \n",
       "7   http://localbuzznetwork.com/clarksburg-wv-job-...                0   \n",
       "8   http://weightlosslaw.com/01cdea672dbfe8?utm_co...                0   \n",
       "10  http://www.datacenterknowledge.com/archives/20...                0   \n",
       "11  http://www.wbur.org/npr/501600013/for-clues-to...                0   \n",
       "14  http://dailydose.topratedviral.com/article/wom...                1   \n",
       "18  http://www.ecowatch.com/another-earthquake-hit...                0   \n",
       "20  http://www.illinoishomepage.net/weather/weathe...                0   \n",
       "\n",
       "                     URL_DOMAIN URL_CATS  \n",
       "0            investmentnews.com      UNK  \n",
       "2         stratcom.kma-assc.com      UNK  \n",
       "4                       kiwi.qa      UNK  \n",
       "7          localbuzznetwork.com      UNK  \n",
       "8             weightlosslaw.com      UNK  \n",
       "10      datacenterknowledge.com      UNK  \n",
       "11                     wbur.org      UNK  \n",
       "14  dailydose.topratedviral.com      UNK  \n",
       "18                 ecowatch.com      UNK  \n",
       "20         illinoishomepage.net      UNK  "
      ]
     },
     "execution_count": 18,
     "metadata": {},
     "output_type": "execute_result"
    }
   ],
   "source": [
    "df[df.URL_CATS == \"UNK\"].head(10)"
   ]
  },
  {
   "cell_type": "code",
   "execution_count": 19,
   "metadata": {
    "collapsed": false
   },
   "outputs": [
    {
     "data": {
      "text/html": [
       "<div>\n",
       "<table border=\"1\" class=\"dataframe\">\n",
       "  <thead>\n",
       "    <tr style=\"text-align: right;\">\n",
       "      <th></th>\n",
       "      <th>URL</th>\n",
       "      <th>EXPANDED</th>\n",
       "      <th>EXPANDED_STATUS</th>\n",
       "      <th>URL_DOMAIN</th>\n",
       "      <th>URL_CATS</th>\n",
       "    </tr>\n",
       "  </thead>\n",
       "  <tbody>\n",
       "    <tr>\n",
       "      <th>1312</th>\n",
       "      <td>http://ln.is/com/hSCIv</td>\n",
       "      <td>http://linkis.com/com/hSCIv</td>\n",
       "      <td>0</td>\n",
       "      <td>com</td>\n",
       "      <td>UNK</td>\n",
       "    </tr>\n",
       "    <tr>\n",
       "      <th>2299</th>\n",
       "      <td>http://ln.is/com/T5iQK</td>\n",
       "      <td>http://linkis.com/com/T5iQK</td>\n",
       "      <td>0</td>\n",
       "      <td>com</td>\n",
       "      <td>UNK</td>\n",
       "    </tr>\n",
       "    <tr>\n",
       "      <th>3379</th>\n",
       "      <td>http://ln.is/com/qM8CB</td>\n",
       "      <td>http://linkis.com/com/qM8CB</td>\n",
       "      <td>0</td>\n",
       "      <td>com</td>\n",
       "      <td>UNK</td>\n",
       "    </tr>\n",
       "    <tr>\n",
       "      <th>4803</th>\n",
       "      <td>http://ln.is/com/Z1VtJ</td>\n",
       "      <td>http://linkis.com/com/Z1VtJ</td>\n",
       "      <td>0</td>\n",
       "      <td>com</td>\n",
       "      <td>UNK</td>\n",
       "    </tr>\n",
       "    <tr>\n",
       "      <th>8959</th>\n",
       "      <td>http://ln.is/com/kLNtH</td>\n",
       "      <td>http://linkis.com/com/kLNtH</td>\n",
       "      <td>0</td>\n",
       "      <td>com</td>\n",
       "      <td>UNK</td>\n",
       "    </tr>\n",
       "  </tbody>\n",
       "</table>\n",
       "</div>"
      ],
      "text/plain": [
       "                         URL                     EXPANDED  EXPANDED_STATUS  \\\n",
       "1312  http://ln.is/com/hSCIv  http://linkis.com/com/hSCIv                0   \n",
       "2299  http://ln.is/com/T5iQK  http://linkis.com/com/T5iQK                0   \n",
       "3379  http://ln.is/com/qM8CB  http://linkis.com/com/qM8CB                0   \n",
       "4803  http://ln.is/com/Z1VtJ  http://linkis.com/com/Z1VtJ                0   \n",
       "8959  http://ln.is/com/kLNtH  http://linkis.com/com/kLNtH                0   \n",
       "\n",
       "     URL_DOMAIN URL_CATS  \n",
       "1312        com      UNK  \n",
       "2299        com      UNK  \n",
       "3379        com      UNK  \n",
       "4803        com      UNK  \n",
       "8959        com      UNK  "
      ]
     },
     "execution_count": 19,
     "metadata": {},
     "output_type": "execute_result"
    }
   ],
   "source": [
    "df[df.URL_DOMAIN == \"com\"].head()"
   ]
  },
  {
   "cell_type": "code",
   "execution_count": 20,
   "metadata": {
    "collapsed": false
   },
   "outputs": [
    {
     "data": {
      "text/plain": [
       "greenmedinfo.com                   90\n",
       "webogi.com                         80\n",
       "com                                78\n",
       "a.bla.es                           67\n",
       "mediaite.com                       67\n",
       "ww1.news-freak.com                 66\n",
       "newslocker.com                     64\n",
       "teaparty.org                       63\n",
       "soco.space                         63\n",
       "infantway.com                      63\n",
       "thinkprogress.org                  61\n",
       "choiceandtruth.com                 59\n",
       "indiewire.com                      57\n",
       "hotair.com                         56\n",
       "csoonline.com                      55\n",
       "disq.us                            55\n",
       "personalhealthdiary.co             53\n",
       "twitlonger.com                     53\n",
       "therealnews.com                    52\n",
       "sun-sentinel.com                   52\n",
       "natl.re                            52\n",
       "reason.com                         52\n",
       "empleoya.es                        51\n",
       "esecpro.com                        51\n",
       "danijobs.com                       51\n",
       "amp.twimg.com                      50\n",
       "guns.com                           48\n",
       "theregister.co.uk                  48\n",
       "guncrazy.org                       47\n",
       "usa24.s6-news.com                  46\n",
       "                                   ..\n",
       "countynewscenter.com                1\n",
       "features.wearemel.com               1\n",
       "littlebitsofeverything.com          1\n",
       "faasafety.gov                       1\n",
       "extra-cash-from-home.com            1\n",
       "equityinlearning.act.org            1\n",
       "jrhighdropout.com                   1\n",
       "mcsally.house.gov                   1\n",
       "safety-blog.compliancesigns.com     1\n",
       "nowtolove.com.au                    1\n",
       "derbyinformer.com                   1\n",
       "presidency.ucsb.edu                 1\n",
       "lobmx                               1\n",
       "vaccinenewsdaily.com                1\n",
       "musictimes.com                      1\n",
       "micron.com                          1\n",
       "lps.leadpages.co                    1\n",
       "baysport.com                        1\n",
       "fia.com                             1\n",
       "flemingislandplasticsurgery.com     1\n",
       "onlinepatiala.com                   1\n",
       "tipsndiy2017.com                    1\n",
       "okoa.org                            1\n",
       "eraofwisdom.org                     1\n",
       "edp24.co.uk                         1\n",
       "blog.aent.com                       1\n",
       "hykfg                               1\n",
       "moppenheim.tv                       1\n",
       "tntp.org                            1\n",
       "rodanandfields.com                  1\n",
       "Name: URL_DOMAIN, dtype: int64"
      ]
     },
     "execution_count": 20,
     "metadata": {},
     "output_type": "execute_result"
    }
   ],
   "source": [
    "df[df.URL_CATS == \"UNK\"].URL_DOMAIN.value_counts()"
   ]
  },
  {
   "cell_type": "code",
   "execution_count": 21,
   "metadata": {
    "collapsed": false
   },
   "outputs": [
    {
     "data": {
      "text/plain": [
       "(97512, 7)"
      ]
     },
     "execution_count": 21,
     "metadata": {},
     "output_type": "execute_result"
    }
   ],
   "source": [
    "df_url_counts = df_url_counts.merge(df, how=\"inner\", on=\"URL\")\n",
    "df_url_counts.shape"
   ]
  },
  {
   "cell_type": "code",
   "execution_count": 22,
   "metadata": {
    "collapsed": false
   },
   "outputs": [
    {
     "data": {
      "text/html": [
       "<div>\n",
       "<table border=\"1\" class=\"dataframe\">\n",
       "  <thead>\n",
       "    <tr style=\"text-align: right;\">\n",
       "      <th></th>\n",
       "      <th>URL</th>\n",
       "      <th>DOMAIN</th>\n",
       "      <th>Counts</th>\n",
       "      <th>EXPANDED</th>\n",
       "      <th>EXPANDED_STATUS</th>\n",
       "      <th>URL_DOMAIN</th>\n",
       "      <th>URL_CATS</th>\n",
       "    </tr>\n",
       "  </thead>\n",
       "  <tbody>\n",
       "    <tr>\n",
       "      <th>0</th>\n",
       "      <td>http://bit.ly/1VzAMWD</td>\n",
       "      <td>bit.ly</td>\n",
       "      <td>15148</td>\n",
       "      <td>http://www.autoblog.com/2016/03/22/hyundai-san...</td>\n",
       "      <td>0</td>\n",
       "      <td>autoblog.com</td>\n",
       "      <td>{blog}</td>\n",
       "    </tr>\n",
       "    <tr>\n",
       "      <th>1</th>\n",
       "      <td>http://bit.ly/2f8U9pg</td>\n",
       "      <td>bit.ly</td>\n",
       "      <td>15148</td>\n",
       "      <td>https://www.strongnation.org/articles/312-high...</td>\n",
       "      <td>0</td>\n",
       "      <td>strongnation.org</td>\n",
       "      <td>UNK</td>\n",
       "    </tr>\n",
       "    <tr>\n",
       "      <th>2</th>\n",
       "      <td>http://bit.ly/1Q89AHn</td>\n",
       "      <td>bit.ly</td>\n",
       "      <td>15148</td>\n",
       "      <td>http://www.today.com/video/robert-de-niro-on-a...</td>\n",
       "      <td>0</td>\n",
       "      <td>today.com</td>\n",
       "      <td>{blog}</td>\n",
       "    </tr>\n",
       "    <tr>\n",
       "      <th>3</th>\n",
       "      <td>http://bit.ly/2g0SbXa</td>\n",
       "      <td>bit.ly</td>\n",
       "      <td>15148</td>\n",
       "      <td>http://www.tucsonnewsnow.com/story/33740239/fl...</td>\n",
       "      <td>0</td>\n",
       "      <td>tucsonnewsnow.com</td>\n",
       "      <td>UNK</td>\n",
       "    </tr>\n",
       "    <tr>\n",
       "      <th>4</th>\n",
       "      <td>http://bit.ly/29Udgo1</td>\n",
       "      <td>bit.ly</td>\n",
       "      <td>15148</td>\n",
       "      <td>http://www.medicaldaily.com/skin-cancer-freckl...</td>\n",
       "      <td>0</td>\n",
       "      <td>medicaldaily.com</td>\n",
       "      <td>{blog}</td>\n",
       "    </tr>\n",
       "  </tbody>\n",
       "</table>\n",
       "</div>"
      ],
      "text/plain": [
       "                     URL  DOMAIN  Counts  \\\n",
       "0  http://bit.ly/1VzAMWD  bit.ly   15148   \n",
       "1  http://bit.ly/2f8U9pg  bit.ly   15148   \n",
       "2  http://bit.ly/1Q89AHn  bit.ly   15148   \n",
       "3  http://bit.ly/2g0SbXa  bit.ly   15148   \n",
       "4  http://bit.ly/29Udgo1  bit.ly   15148   \n",
       "\n",
       "                                            EXPANDED  EXPANDED_STATUS  \\\n",
       "0  http://www.autoblog.com/2016/03/22/hyundai-san...                0   \n",
       "1  https://www.strongnation.org/articles/312-high...                0   \n",
       "2  http://www.today.com/video/robert-de-niro-on-a...                0   \n",
       "3  http://www.tucsonnewsnow.com/story/33740239/fl...                0   \n",
       "4  http://www.medicaldaily.com/skin-cancer-freckl...                0   \n",
       "\n",
       "          URL_DOMAIN URL_CATS  \n",
       "0       autoblog.com   {blog}  \n",
       "1   strongnation.org      UNK  \n",
       "2          today.com   {blog}  \n",
       "3  tucsonnewsnow.com      UNK  \n",
       "4   medicaldaily.com   {blog}  "
      ]
     },
     "execution_count": 22,
     "metadata": {},
     "output_type": "execute_result"
    }
   ],
   "source": [
    "df_url_counts.head()"
   ]
  },
  {
   "cell_type": "code",
   "execution_count": 23,
   "metadata": {
    "collapsed": false
   },
   "outputs": [
    {
     "data": {
      "text/plain": [
       "URL_DOMAIN\n",
       "kristv.com                     15148\n",
       "okotoksonline.com              15148\n",
       "ohsonline.com                  15148\n",
       "oigel.com                      15148\n",
       "okcfox.com                     15148\n",
       "technmain.com                  15148\n",
       "technewsworld.com              15148\n",
       "oklahomacitynewschannel.com    15148\n",
       "oklahomainjurylaw.com          15148\n",
       "calledtomothering.com          15148\n",
       "Name: Counts, dtype: int64"
      ]
     },
     "execution_count": 23,
     "metadata": {},
     "output_type": "execute_result"
    }
   ],
   "source": [
    "df_url_counts[df_url_counts.URL_CATS == \"UNK\"].groupby(\"URL_DOMAIN\")[\"Counts\"].first().sort_values(ascending=False).head(10)"
   ]
  },
  {
   "cell_type": "code",
   "execution_count": 24,
   "metadata": {
    "collapsed": false
   },
   "outputs": [
    {
     "name": "stdout",
     "output_type": "stream",
     "text": [
      "URL\tEXPANDED\tEXPANDED_STATUS\tURL_DOMAIN\tURL_CATS\r\n",
      "http://www.investmentnews.com/article/20160801/FREE/160809992/if-history-is-a-guide-market-volatility-is-about-to-spike\thttp://www.investmentnews.com/article/20160801/FREE/160809992/if-history-is-a-guide-market-volatility-is-about-to-spike\t0\tinvestmentnews.com\tUNK\r\n",
      "http://ow.ly/3avNPe\thttps://www.reddit.com/r/cahideas/comments/42i3ew/w_farting_mid_rimjob/\t0\treddit.com\tsocialmedia\r\n",
      "http://stratcom.kma-assc.com/uncategorized/press-releases-visit-of-republic-of-korea-r-o-k-deputy-national-security-advisor-cho-tae-yong/\thttp://stratcom.kma-assc.com/uncategorized/press-releases-visit-of-republic-of-korea-r-o-k-deputy-national-security-advisor-cho-tae-yong/\t3\tstratcom.kma-assc.com\tUNK\r\n",
      "http://ln.is/mabelsaveforschool.com/gbEtv\thttp://linkis.com/mabelsaveforschool.com/gbEtv\t0\tmabelsaveforschool.com\tcommercial\r\n",
      "http://kiw.im/16LfJirkfzE\thttps://kiwi.qa/LFHKX8RLIFI7O8/39656070290663927\t0\tkiwi.qa\tUNK\r\n",
      "http://fb.me/241s7UtEJ\thttps://www.facebook.com/story.php?story_fbid=1251035921618693&id=100001368900242\t0\tfacebook.com\tsocialmedia\r\n",
      "http://owl.li/XkyUO\thttps://www.youtube.com/watch?v=xtspq5T7B44&feature=em-uploademail\t0\tyoutube.com\tsocialmedia|videos\r\n",
      "http://goo.gl/RTQ29\thttp://localbuzznetwork.com/clarksburg-wv-job-search/\t0\tlocalbuzznetwork.com\tUNK\r\n",
      "http://buff.ly/1SNoZU6\thttp://weightlosslaw.com/01cdea672dbfe8?utm_content=bufferb9ed1&utm_medium=social&utm_source=twitter.com&utm_campaign=buffer\t0\tweightlosslaw.com\tUNK\r\n"
     ]
    }
   ],
   "source": [
    "df.assign(\n",
    "    URL_CATS = lambda x: x.URL_CATS.apply(lambda cats: \"|\".join(cats) if cats != \"UNK\" else cats)\n",
    ").to_csv(\"URL_CAT_MAPPINGS.txt\", sep=\"\\t\", index=False)\n",
    "! head URL_CAT_MAPPINGS.txt"
   ]
  },
  {
   "cell_type": "code",
   "execution_count": 25,
   "metadata": {
    "collapsed": false
   },
   "outputs": [
    {
     "data": {
      "text/plain": [
       "{'blog',\n",
       " 'clickbait',\n",
       " 'commercial',\n",
       " 'fakenews',\n",
       " 'news',\n",
       " 'satire',\n",
       " 'scientific',\n",
       " 'socialmedia',\n",
       " 'twitter',\n",
       " 'usgov',\n",
       " 'videos'}"
      ]
     },
     "execution_count": 25,
     "metadata": {},
     "output_type": "execute_result"
    }
   ],
   "source": [
    "reduce(lambda x, y: x.union(y), url_categories.values())"
   ]
  },
  {
   "cell_type": "code",
   "execution_count": 26,
   "metadata": {
    "collapsed": false
   },
   "outputs": [
    {
     "data": {
      "text/plain": [
       "(97512, 5)"
      ]
     },
     "execution_count": 26,
     "metadata": {},
     "output_type": "execute_result"
    }
   ],
   "source": [
    "df.shape"
   ]
  },
  {
   "cell_type": "code",
   "execution_count": 27,
   "metadata": {
    "collapsed": false
   },
   "outputs": [
    {
     "data": {
      "text/plain": [
       "array([ 'http://paper.li/Dobroyeutro/1321885981?edition_id=eef235d0-9dd3-11e6-913d-0cc47a0d164b',\n",
       "       'http://paper.li/Dobroyeutro/1321885981?edition_id=a46e1dd0-c043-11e5-a257-0cc47a0d164b',\n",
       "       'http://paper.li/Dobroyeutro/1321885981?edition_id=4fe14f10-a9a6-11e6-a0e4-0cc47a0d164b',\n",
       "       'http://paper.li/ag_companies/1312467449?edition_id=97532c20-5658-11e6-acd6-0cc47a0d1609',\n",
       "       'http://paper.li/Dobroyeutro/1321885981?edition_id=fe29dc20-a813-11e6-a0e4-0cc47a0d164b'], dtype=object)"
      ]
     },
     "execution_count": 27,
     "metadata": {},
     "output_type": "execute_result"
    }
   ],
   "source": [
    "df[df.URL_DOMAIN == 'paper.li'].EXPANDED.head().values"
   ]
  },
  {
   "cell_type": "code",
   "execution_count": null,
   "metadata": {
    "collapsed": true
   },
   "outputs": [],
   "source": []
  }
 ],
 "metadata": {
  "anaconda-cloud": {},
  "kernelspec": {
   "display_name": "Python [default]",
   "language": "python",
   "name": "python2"
  },
  "language_info": {
   "codemirror_mode": {
    "name": "ipython",
    "version": 2
   },
   "file_extension": ".py",
   "mimetype": "text/x-python",
   "name": "python",
   "nbconvert_exporter": "python",
   "pygments_lexer": "ipython2",
   "version": "2.7.12"
  }
 },
 "nbformat": 4,
 "nbformat_minor": 1
}
