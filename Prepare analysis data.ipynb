{
 "cells": [
  {
   "cell_type": "code",
   "execution_count": 1,
   "metadata": {
    "collapsed": false
   },
   "outputs": [],
   "source": [
    "import pandas as pd\n",
    "import numpy as np\n",
    "from glob import glob\n",
    "from collections import defaultdict\n",
    "\n",
    "import re"
   ]
  },
  {
   "cell_type": "code",
   "execution_count": 2,
   "metadata": {
    "collapsed": false
   },
   "outputs": [
    {
     "data": {
      "text/plain": [
       "[('malkanen', '12233311')]"
      ]
     },
     "execution_count": 2,
     "metadata": {},
     "output_type": "execute_result"
    }
   ],
   "source": [
    "DATA_DIRS = [\"ChildEducation/Education\", \"Privacy/Privacy\",\n",
    "             \"Vaccine/vaccine\",\n",
    "             \"SeatBelt/Seatbelt\",\n",
    "             \"GunControl/gunControl\",\n",
    "             \"SkinDamage/SkinDamage\"\n",
    "            ]\n",
    "USER_HANDLE_REGEX = re.compile(r'twitter\\.com/(.+)/status/(.+)')\n",
    "USER_HANDLE_REGEX.findall('http://twitter.com/malkanen/status/12233311')"
   ]
  },
  {
   "cell_type": "code",
   "execution_count": 3,
   "metadata": {
    "collapsed": false,
    "scrolled": false
   },
   "outputs": [
    {
     "name": "stdout",
     "output_type": "stream",
     "text": [
      "ChildEducation/Education\n",
      "(10808, 17) (10808, 25)\n",
      "(10808, 27)\n",
      "(10808, 28)\n",
      "Basic Neutral     6652\n",
      "Basic Positive    2295\n",
      "Basic Negative    1861\n",
      "Name: sentiment, dtype: int64\n",
      "neutral     9861\n",
      "positive     742\n",
      "negative     205\n",
      "Name: sentiment_subj, dtype: int64\n",
      "neutralsubj    10181\n",
      "strongsubj       328\n",
      "weaksubj         299\n",
      "Name: subjectvity_type, dtype: int64\n",
      "0    9814\n",
      "1     994\n",
      "Name: negation, dtype: int64\n",
      "Privacy/Privacy\n",
      "(73593, 17) (73593, 25)\n",
      "(73593, 27)\n",
      "(73593, 28)\n",
      "Basic Neutral     37350\n",
      "Basic Negative    29103\n",
      "Basic Positive     7140\n",
      "Name: sentiment, dtype: int64\n",
      "neutral     67583\n",
      "positive     3848\n",
      "negative     2162\n",
      "Name: sentiment_subj, dtype: int64\n",
      "neutralsubj    70078\n",
      "weaksubj        2105\n",
      "strongsubj      1410\n",
      "Name: subjectvity_type, dtype: int64\n",
      "0    66227\n",
      "1     7366\n",
      "Name: negation, dtype: int64\n",
      "Vaccine/vaccine\n",
      "(40713, 16) (40713, 25)\n",
      "(40713, 27)\n",
      "(40713, 28)\n",
      "Basic Neutral     26223\n",
      "Basic Negative    10478\n",
      "Basic Positive     4012\n",
      "Name: sentiment, dtype: int64\n",
      "neutral     37736\n",
      "positive     1725\n",
      "negative     1252\n",
      "Name: sentiment_subj, dtype: int64\n",
      "neutralsubj    39020\n",
      "weaksubj        1000\n",
      "strongsubj       693\n",
      "Name: subjectvity_type, dtype: int64\n",
      "0.0    36549\n",
      "1.0     4164\n",
      "Name: negation, dtype: int64\n",
      "SeatBelt/Seatbelt\n",
      "(73270, 17) (73270, 25)\n",
      "(73270, 27)\n",
      "(73270, 28)\n",
      "Basic Neutral     35219\n",
      "Basic Negative    22012\n",
      "Basic Positive    16039\n",
      "Name: sentiment, dtype: int64\n",
      "neutral     67199\n",
      "positive     3763\n",
      "negative     2308\n",
      "Name: sentiment_subj, dtype: int64\n",
      "neutralsubj    69793\n",
      "weaksubj        1910\n",
      "strongsubj      1567\n",
      "Name: subjectvity_type, dtype: int64\n",
      "0    65329\n",
      "1     7941\n",
      "Name: negation, dtype: int64\n",
      "GunControl/gunControl\n",
      "(34357, 16) (34357, 25)\n",
      "(34357, 27)\n",
      "(34357, 28)\n",
      "Basic Neutral     19988\n",
      "Basic Negative    10399\n",
      "Basic Positive     3970\n",
      "Name: sentiment, dtype: int64\n",
      "neutral     31887\n",
      "positive     1466\n",
      "negative     1004\n",
      "Name: sentiment_subj, dtype: int64\n",
      "neutralsubj    32928\n",
      "weaksubj         771\n",
      "strongsubj       658\n",
      "Name: subjectvity_type, dtype: int64\n",
      "0    31299\n",
      "1     3058\n",
      "Name: negation, dtype: int64\n",
      "SkinDamage/SkinDamage\n",
      "(14128, 16) (14128, 25)\n",
      "(14128, 27)\n",
      "(14128, 28)\n",
      "Basic Neutral     8896\n",
      "Basic Negative    3837\n",
      "Basic Positive    1395\n",
      "Name: sentiment, dtype: int64\n",
      "neutral     12624\n",
      "positive     1054\n",
      "negative      450\n",
      "Name: sentiment_subj, dtype: int64\n",
      "neutralsubj    13133\n",
      "weaksubj         685\n",
      "strongsubj       310\n",
      "Name: subjectvity_type, dtype: int64\n",
      "0    13315\n",
      "1      813\n",
      "Name: negation, dtype: int64\n"
     ]
    }
   ],
   "source": [
    "#%%time\n",
    "datasets = {}\n",
    "for dirname in DATA_DIRS:\n",
    "    print dirname\n",
    "    df = pd.read_csv(\"%s_processed.csv\" % dirname)\n",
    "    df_orig = pd.read_csv(\"%s_noDublict.csv\" % dirname)\n",
    "    print df_orig.shape, df.shape\n",
    "    assert df_orig.shape[0] == df.shape[0], \"Shape mismatch between df_orig, and df\"\n",
    "    df_merged = pd.concat([df, df_orig[[\"URL\", \"Contents\"]]], axis=1)\n",
    "    print df_merged.shape\n",
    "    assert df_merged.shape[0] == df.shape[0], \"Shape mismatch between df_merged, and df\"\n",
    "    assert ((df_merged.Author != df_merged.URL.apply(\n",
    "            lambda x: \"@%s\" % USER_HANDLE_REGEX.findall(x)[0][0])\n",
    "           ).sum() == 0), \"Authors are not the same in merged and other.\"\n",
    "    df_merged[\"t_id\"] = df_merged[\"URL\"].apply(lambda x: USER_HANDLE_REGEX.findall(x)[0][1]).astype(int)\n",
    "    df_merged = df_merged.drop_duplicates(subset=[\"t_id\"])\n",
    "    print df_merged.shape\n",
    "    for label_col in [\"sentiment\", \"sentiment_subj\", \"subjectvity_type\", \"negation\"]:\n",
    "        print df_merged[label_col].value_counts()\n",
    "    datasets[dirname] = df_merged"
   ]
  },
  {
   "cell_type": "code",
   "execution_count": 4,
   "metadata": {
    "collapsed": true
   },
   "outputs": [],
   "source": [
    "def get_user_from_tweet_url(x):\n",
    "    return \"@%s\" % USER_HANDLE_REGEX.findall(x)[0][0]"
   ]
  },
  {
   "cell_type": "code",
   "execution_count": 5,
   "metadata": {
    "collapsed": false
   },
   "outputs": [],
   "source": [
    "df_meta = pd.read_csv(\"TID_META.txt\", sep=\"\\t\", encoding='utf-8')"
   ]
  },
  {
   "cell_type": "code",
   "execution_count": 6,
   "metadata": {
    "collapsed": false
   },
   "outputs": [
    {
     "data": {
      "text/plain": [
       "(328318, 21)"
      ]
     },
     "execution_count": 6,
     "metadata": {},
     "output_type": "execute_result"
    }
   ],
   "source": [
    "df_meta.shape"
   ]
  },
  {
   "cell_type": "code",
   "execution_count": 7,
   "metadata": {
    "collapsed": false
   },
   "outputs": [
    {
     "data": {
      "text/plain": [
       "t_id              int64\n",
       "t_created        object\n",
       "t_retweets        int64\n",
       "t_favorites       int64\n",
       "t_is_reply         bool\n",
       "t_is_quote         bool\n",
       "t_n_hashtags      int64\n",
       "t_n_urls          int64\n",
       "t_n_mentions      int64\n",
       "t_n_media         int64\n",
       "u_id              int64\n",
       "u_created        object\n",
       "u_n_listed        int64\n",
       "u_n_favorites     int64\n",
       "u_n_followers     int64\n",
       "u_n_friends       int64\n",
       "u_n_statuses      int64\n",
       "u_is_verified      bool\n",
       "u_location       object\n",
       "u_name           object\n",
       "u_url            object\n",
       "dtype: object"
      ]
     },
     "execution_count": 7,
     "metadata": {},
     "output_type": "execute_result"
    }
   ],
   "source": [
    "df_meta.dtypes"
   ]
  },
  {
   "cell_type": "code",
   "execution_count": 8,
   "metadata": {
    "collapsed": false
   },
   "outputs": [
    {
     "data": {
      "text/plain": [
       "GUID                float64\n",
       "Date                 object\n",
       "processedPost        object\n",
       "Author               object\n",
       "Name                 object\n",
       "State/Region         object\n",
       "City/Urban           object\n",
       "sentiment            object\n",
       "Gender               object\n",
       "Posts                 int64\n",
       "Followers             int64\n",
       "Following             int64\n",
       "RT?                  object\n",
       "mention?             object\n",
       "hashtag?             object\n",
       "URL?                 object\n",
       "noun                  int64\n",
       "verb                  int64\n",
       "adjective             int64\n",
       "preposition           int64\n",
       "adverb                int64\n",
       "sentiment_subj       object\n",
       "subjectvity_type     object\n",
       "negation              int64\n",
       "count_tweet           int64\n",
       "URL                  object\n",
       "Contents             object\n",
       "t_id                  int64\n",
       "dtype: object"
      ]
     },
     "execution_count": 8,
     "metadata": {},
     "output_type": "execute_result"
    }
   ],
   "source": [
    "df_merged.dtypes"
   ]
  },
  {
   "cell_type": "code",
   "execution_count": 9,
   "metadata": {
    "collapsed": false
   },
   "outputs": [
    {
     "data": {
      "text/plain": [
       "Index([u't_id', u't_created', u't_retweets', u't_favorites', u't_is_reply',\n",
       "       u't_is_quote', u't_n_hashtags', u't_n_urls', u't_n_mentions',\n",
       "       u't_n_media', u'u_id', u'u_created', u'u_n_listed', u'u_n_favorites',\n",
       "       u'u_n_followers', u'u_n_friends', u'u_n_statuses', u'u_is_verified',\n",
       "       u'u_location', u'u_name', u'u_url'],\n",
       "      dtype='object')"
      ]
     },
     "execution_count": 9,
     "metadata": {},
     "output_type": "execute_result"
    }
   ],
   "source": [
    "df_meta.columns"
   ]
  },
  {
   "cell_type": "code",
   "execution_count": 10,
   "metadata": {
    "collapsed": false
   },
   "outputs": [
    {
     "data": {
      "text/plain": [
       "(14128, 48)"
      ]
     },
     "execution_count": 10,
     "metadata": {},
     "output_type": "execute_result"
    }
   ],
   "source": [
    "df_merged_meta = df_merged.merge(df_meta, how=\"left\", on=\"t_id\")\n",
    "df_merged_meta.shape"
   ]
  },
  {
   "cell_type": "code",
   "execution_count": 11,
   "metadata": {
    "collapsed": false
   },
   "outputs": [
    {
     "data": {
      "text/plain": [
       "(14128, 28)"
      ]
     },
     "execution_count": 11,
     "metadata": {},
     "output_type": "execute_result"
    }
   ],
   "source": [
    "df_merged.shape"
   ]
  },
  {
   "cell_type": "code",
   "execution_count": 12,
   "metadata": {
    "collapsed": false
   },
   "outputs": [
    {
     "data": {
      "text/plain": [
       "(246869, 30)"
      ]
     },
     "execution_count": 12,
     "metadata": {},
     "output_type": "execute_result"
    }
   ],
   "source": [
    "df_all = pd.concat([v.assign(topic_name=lambda x: k) for k,v in datasets.iteritems()], axis=0)\n",
    "df_all.shape"
   ]
  },
  {
   "cell_type": "code",
   "execution_count": 13,
   "metadata": {
    "collapsed": false
   },
   "outputs": [
    {
     "data": {
      "text/plain": [
       "Privacy/Privacy             73593\n",
       "SeatBelt/Seatbelt           73270\n",
       "Vaccine/vaccine             40713\n",
       "GunControl/gunControl       34357\n",
       "SkinDamage/SkinDamage       14128\n",
       "ChildEducation/Education    10808\n",
       "Name: topic_name, dtype: int64"
      ]
     },
     "execution_count": 13,
     "metadata": {},
     "output_type": "execute_result"
    }
   ],
   "source": [
    "df_all.topic_name.value_counts()"
   ]
  },
  {
   "cell_type": "code",
   "execution_count": 14,
   "metadata": {
    "collapsed": false
   },
   "outputs": [
    {
     "data": {
      "text/plain": [
       "(246885, 50)"
      ]
     },
     "execution_count": 14,
     "metadata": {},
     "output_type": "execute_result"
    }
   ],
   "source": [
    "df_merged_meta = df_all.merge(df_meta, how=\"left\", on=\"t_id\")\n",
    "df_merged_meta.shape"
   ]
  },
  {
   "cell_type": "code",
   "execution_count": 15,
   "metadata": {
    "collapsed": false
   },
   "outputs": [
    {
     "data": {
      "text/plain": [
       "False    132573\n",
       "True     114312\n",
       "Name: is_controvertial, dtype: int64"
      ]
     },
     "execution_count": 15,
     "metadata": {},
     "output_type": "execute_result"
    }
   ],
   "source": [
    "df_merged_meta[\"is_controvertial\"] = df_merged_meta.topic_name.isin([\"Privacy/Privacy\", \"Vaccine/vaccine\"])\n",
    "df_merged_meta.is_controvertial.value_counts()"
   ]
  },
  {
   "cell_type": "markdown",
   "metadata": {},
   "source": [
    "## Merge URL types"
   ]
  },
  {
   "cell_type": "code",
   "execution_count": 16,
   "metadata": {
    "collapsed": false
   },
   "outputs": [
    {
     "data": {
      "text/plain": [
       "Index([          u'Author',       u'City/Urban',  u'City/Urban Area',\n",
       "               u'Contents',             u'Date',        u'Followers',\n",
       "              u'Following',             u'GUID',           u'Gender',\n",
       "                   u'Name',            u'Posts',              u'RT?',\n",
       "           u'State/Region',              u'URL',             u'URL?',\n",
       "              u'adjective',           u'adverb',      u'count_tweet',\n",
       "               u'hashtag?',         u'mention?',         u'negation',\n",
       "                   u'noun',      u'preposition',    u'processedPost',\n",
       "              u'sentiment',   u'sentiment_subj', u'subjectvity_type',\n",
       "                   u't_id',       u'topic_name',             u'verb',\n",
       "              u't_created',       u't_retweets',      u't_favorites',\n",
       "             u't_is_reply',       u't_is_quote',     u't_n_hashtags',\n",
       "               u't_n_urls',     u't_n_mentions',        u't_n_media',\n",
       "                   u'u_id',        u'u_created',       u'u_n_listed',\n",
       "          u'u_n_favorites',    u'u_n_followers',      u'u_n_friends',\n",
       "           u'u_n_statuses',    u'u_is_verified',       u'u_location',\n",
       "                 u'u_name',            u'u_url', u'is_controvertial'],\n",
       "      dtype='object')"
      ]
     },
     "execution_count": 16,
     "metadata": {},
     "output_type": "execute_result"
    }
   ],
   "source": [
    "df_merged_meta.columns"
   ]
  },
  {
   "cell_type": "code",
   "execution_count": 17,
   "metadata": {
    "collapsed": false
   },
   "outputs": [
    {
     "data": {
      "text/html": [
       "<div>\n",
       "<table border=\"1\" class=\"dataframe\">\n",
       "  <thead>\n",
       "    <tr style=\"text-align: right;\">\n",
       "      <th></th>\n",
       "      <th>TID</th>\n",
       "      <th>URL</th>\n",
       "      <th>CATS</th>\n",
       "    </tr>\n",
       "  </thead>\n",
       "  <tbody>\n",
       "    <tr>\n",
       "      <th>0</th>\n",
       "      <td>682904901916225536</td>\n",
       "      <td>https://twitter.com/photogchad_WTSP/status/682...</td>\n",
       "      <td>[socialmedia, twitter]</td>\n",
       "    </tr>\n",
       "    <tr>\n",
       "      <th>1</th>\n",
       "      <td>682915876316692480</td>\n",
       "      <td>http://www.investirdanslenfance.ca/</td>\n",
       "      <td>[UNK]</td>\n",
       "    </tr>\n",
       "    <tr>\n",
       "      <th>2</th>\n",
       "      <td>682985833821941760</td>\n",
       "      <td>http://TinyURL.com/NewYearCure</td>\n",
       "      <td>[commercial]</td>\n",
       "    </tr>\n",
       "    <tr>\n",
       "      <th>3</th>\n",
       "      <td>682952771746664448</td>\n",
       "      <td>http://TinyURL.com/NewYearCure</td>\n",
       "      <td>[commercial]</td>\n",
       "    </tr>\n",
       "    <tr>\n",
       "      <th>4</th>\n",
       "      <td>682830450969059328</td>\n",
       "      <td>http://yournewswire.com/donald-trump-vaccines-...</td>\n",
       "      <td>[fakenews]</td>\n",
       "    </tr>\n",
       "  </tbody>\n",
       "</table>\n",
       "</div>"
      ],
      "text/plain": [
       "                  TID                                                URL  \\\n",
       "0  682904901916225536  https://twitter.com/photogchad_WTSP/status/682...   \n",
       "1  682915876316692480                http://www.investirdanslenfance.ca/   \n",
       "2  682985833821941760                     http://TinyURL.com/NewYearCure   \n",
       "3  682952771746664448                     http://TinyURL.com/NewYearCure   \n",
       "4  682830450969059328  http://yournewswire.com/donald-trump-vaccines-...   \n",
       "\n",
       "                     CATS  \n",
       "0  [socialmedia, twitter]  \n",
       "1                   [UNK]  \n",
       "2            [commercial]  \n",
       "3            [commercial]  \n",
       "4              [fakenews]  "
      ]
     },
     "execution_count": 17,
     "metadata": {},
     "output_type": "execute_result"
    }
   ],
   "source": [
    "df_mapped_cats = pd.read_csv(\"TID_URL_CATS.txt\", sep=\"\\t\").assign(\n",
    "    CATS=lambda x: x.CATS.apply(lambda k: k.split(\"|\"))\n",
    ")\n",
    "df_mapped_cats.head()"
   ]
  },
  {
   "cell_type": "code",
   "execution_count": 18,
   "metadata": {
    "collapsed": false
   },
   "outputs": [
    {
     "data": {
      "text/plain": [
       "['commercial']"
      ]
     },
     "execution_count": 18,
     "metadata": {},
     "output_type": "execute_result"
    }
   ],
   "source": [
    "URL_DICT = dict(zip(df_mapped_cats.URL.values, df_mapped_cats.CATS.values))\n",
    "URL_DICT[\"http://TinyURL.com/NewYearCure\"]"
   ]
  },
  {
   "cell_type": "code",
   "execution_count": 19,
   "metadata": {
    "collapsed": false
   },
   "outputs": [
    {
     "data": {
      "text/plain": [
       "119558"
      ]
     },
     "execution_count": 19,
     "metadata": {},
     "output_type": "execute_result"
    }
   ],
   "source": [
    "len(URL_DICT)"
   ]
  },
  {
   "cell_type": "code",
   "execution_count": 20,
   "metadata": {
    "collapsed": false
   },
   "outputs": [
    {
     "data": {
      "text/plain": [
       "770862566662955008    3\n",
       "700152617033289728    3\n",
       "735430291821596673    3\n",
       "738960203949965312    3\n",
       "716003978807476224    3\n",
       "Name: TID, dtype: int64"
      ]
     },
     "execution_count": 20,
     "metadata": {},
     "output_type": "execute_result"
    }
   ],
   "source": [
    "df_mapped_cats.TID.value_counts().head()"
   ]
  },
  {
   "cell_type": "code",
   "execution_count": 21,
   "metadata": {
    "collapsed": false
   },
   "outputs": [
    {
     "data": {
      "text/html": [
       "<div>\n",
       "<table border=\"1\" class=\"dataframe\">\n",
       "  <thead>\n",
       "    <tr style=\"text-align: right;\">\n",
       "      <th></th>\n",
       "      <th>TID</th>\n",
       "      <th>URL</th>\n",
       "      <th>CATS</th>\n",
       "    </tr>\n",
       "  </thead>\n",
       "  <tbody>\n",
       "    <tr>\n",
       "      <th>17849</th>\n",
       "      <td>700152617033289728</td>\n",
       "      <td>http://www.hcplive.com/contributor/ryan-gray-m...</td>\n",
       "      <td>[UNK]</td>\n",
       "    </tr>\n",
       "    <tr>\n",
       "      <th>17850</th>\n",
       "      <td>700152617033289728</td>\n",
       "      <td>http://www.foxla.com/news/local-news/89941411-...</td>\n",
       "      <td>[UNK]</td>\n",
       "    </tr>\n",
       "    <tr>\n",
       "      <th>17851</th>\n",
       "      <td>700152617033289728</td>\n",
       "      <td>http://www.apple.com/customer-letter/</td>\n",
       "      <td>[commercial]</td>\n",
       "    </tr>\n",
       "  </tbody>\n",
       "</table>\n",
       "</div>"
      ],
      "text/plain": [
       "                      TID                                                URL  \\\n",
       "17849  700152617033289728  http://www.hcplive.com/contributor/ryan-gray-m...   \n",
       "17850  700152617033289728  http://www.foxla.com/news/local-news/89941411-...   \n",
       "17851  700152617033289728              http://www.apple.com/customer-letter/   \n",
       "\n",
       "               CATS  \n",
       "17849         [UNK]  \n",
       "17850         [UNK]  \n",
       "17851  [commercial]  "
      ]
     },
     "execution_count": 21,
     "metadata": {},
     "output_type": "execute_result"
    }
   ],
   "source": [
    "df_mapped_cats[df_mapped_cats.TID == 700152617033289728]"
   ]
  },
  {
   "cell_type": "code",
   "execution_count": 22,
   "metadata": {
    "collapsed": false
   },
   "outputs": [
    {
     "data": {
      "text/plain": [
       "TID\n",
       "682807892517478400                     [UNK]\n",
       "682808408857272320    [socialmedia, twitter]\n",
       "682809868449796099                     [UNK]\n",
       "682815454159761408    [socialmedia, twitter]\n",
       "682816642242490369          [news, fakenews]\n",
       "Name: CATS, dtype: object"
      ]
     },
     "execution_count": 22,
     "metadata": {},
     "output_type": "execute_result"
    }
   ],
   "source": [
    "df_tweet_cat_counts = df_mapped_cats.groupby(\"TID\")[\"CATS\"].apply(lambda x: sum(x, []))\n",
    "df_tweet_cat_counts.head()"
   ]
  },
  {
   "cell_type": "code",
   "execution_count": 23,
   "metadata": {
    "collapsed": false
   },
   "outputs": [
    {
     "data": {
      "text/plain": [
       "TID      int64\n",
       "CATS    object\n",
       "dtype: object"
      ]
     },
     "execution_count": 23,
     "metadata": {},
     "output_type": "execute_result"
    }
   ],
   "source": [
    "df_tweet_cat_counts.reset_index().dtypes"
   ]
  },
  {
   "cell_type": "code",
   "execution_count": 24,
   "metadata": {
    "collapsed": true
   },
   "outputs": [],
   "source": [
    "df_merged_meta_cats = df_merged_meta.merge(\n",
    "    df_tweet_cat_counts.reset_index(), how=\"left\", left_on=\"t_id\", right_on=\"TID\")"
   ]
  },
  {
   "cell_type": "code",
   "execution_count": 25,
   "metadata": {
    "collapsed": false
   },
   "outputs": [
    {
     "data": {
      "text/plain": [
       "Index([          u'Author',       u'City/Urban',  u'City/Urban Area',\n",
       "               u'Contents',             u'Date',        u'Followers',\n",
       "              u'Following',             u'GUID',           u'Gender',\n",
       "                   u'Name',            u'Posts',              u'RT?',\n",
       "           u'State/Region',              u'URL',             u'URL?',\n",
       "              u'adjective',           u'adverb',      u'count_tweet',\n",
       "               u'hashtag?',         u'mention?',         u'negation',\n",
       "                   u'noun',      u'preposition',    u'processedPost',\n",
       "              u'sentiment',   u'sentiment_subj', u'subjectvity_type',\n",
       "                   u't_id',       u'topic_name',             u'verb',\n",
       "              u't_created',       u't_retweets',      u't_favorites',\n",
       "             u't_is_reply',       u't_is_quote',     u't_n_hashtags',\n",
       "               u't_n_urls',     u't_n_mentions',        u't_n_media',\n",
       "                   u'u_id',        u'u_created',       u'u_n_listed',\n",
       "          u'u_n_favorites',    u'u_n_followers',      u'u_n_friends',\n",
       "           u'u_n_statuses',    u'u_is_verified',       u'u_location',\n",
       "                 u'u_name',            u'u_url', u'is_controvertial',\n",
       "                    u'TID',             u'CATS'],\n",
       "      dtype='object')"
      ]
     },
     "execution_count": 25,
     "metadata": {},
     "output_type": "execute_result"
    }
   ],
   "source": [
    "df_merged_meta_cats.columns"
   ]
  },
  {
   "cell_type": "markdown",
   "metadata": {},
   "source": [
    "## Add location states"
   ]
  },
  {
   "cell_type": "markdown",
   "metadata": {},
   "source": [
    "```\n",
    "df_merged_meta_cats.u_location.value_counts().to_csv(\"USER_LOCATIONS.txt\", sep=\"\\t\", encoding='utf-8')\n",
    "! head USER_LOCATIONS.txt\n",
    "! python process_user_locations.py ## RUN using python3 from command line\n",
    "```"
   ]
  },
  {
   "cell_type": "code",
   "execution_count": 26,
   "metadata": {
    "collapsed": false
   },
   "outputs": [
    {
     "data": {
      "text/html": [
       "<div>\n",
       "<table border=\"1\" class=\"dataframe\">\n",
       "  <thead>\n",
       "    <tr style=\"text-align: right;\">\n",
       "      <th></th>\n",
       "      <th>u_location</th>\n",
       "      <th>u_state</th>\n",
       "    </tr>\n",
       "  </thead>\n",
       "  <tbody>\n",
       "    <tr>\n",
       "      <th>0</th>\n",
       "      <td>United States</td>\n",
       "      <td>USA</td>\n",
       "    </tr>\n",
       "    <tr>\n",
       "      <th>1</th>\n",
       "      <td>USA</td>\n",
       "      <td>USA</td>\n",
       "    </tr>\n",
       "    <tr>\n",
       "      <th>2</th>\n",
       "      <td>Washington, DC</td>\n",
       "      <td>DC</td>\n",
       "    </tr>\n",
       "    <tr>\n",
       "      <th>3</th>\n",
       "      <td>New York, NY</td>\n",
       "      <td>NY</td>\n",
       "    </tr>\n",
       "    <tr>\n",
       "      <th>4</th>\n",
       "      <td>Los Angeles, CA</td>\n",
       "      <td>CA</td>\n",
       "    </tr>\n",
       "  </tbody>\n",
       "</table>\n",
       "</div>"
      ],
      "text/plain": [
       "        u_location u_state\n",
       "0    United States     USA\n",
       "1              USA     USA\n",
       "2   Washington, DC      DC\n",
       "3     New York, NY      NY\n",
       "4  Los Angeles, CA      CA"
      ]
     },
     "execution_count": 26,
     "metadata": {},
     "output_type": "execute_result"
    }
   ],
   "source": [
    "df_places = pd.read_csv(\"PARSED_STATES.final.txt\", sep=\"\\t\")\n",
    "df_places = df_places.rename(columns={\n",
    "        \"location\": \"u_location\", \"parse_manual\": \"u_state\"\n",
    "                                     })[[\"u_location\", \"u_state\"]]\n",
    "df_places.head()"
   ]
  },
  {
   "cell_type": "code",
   "execution_count": 27,
   "metadata": {
    "collapsed": false
   },
   "outputs": [
    {
     "name": "stderr",
     "output_type": "stream",
     "text": [
      "/home/entity/anaconda2/lib/python2.7/site-packages/pandas/tools/merge.py:1198: UnicodeWarning: Unicode equal comparison failed to convert both arguments to Unicode - interpreting them as being unequal\n",
      "  rlab = rizer.factorize(rk)\n"
     ]
    }
   ],
   "source": [
    "df_merged_meta_cats = df_merged_meta_cats.merge(df_places, how=\"left\", on=\"u_location\")"
   ]
  },
  {
   "cell_type": "code",
   "execution_count": 28,
   "metadata": {
    "collapsed": false
   },
   "outputs": [
    {
     "data": {
      "text/plain": [
       "0    NaN\n",
       "1    NaN\n",
       "2    NaN\n",
       "3    NaN\n",
       "4    NaN\n",
       "Name: u_state, dtype: object"
      ]
     },
     "execution_count": 28,
     "metadata": {},
     "output_type": "execute_result"
    }
   ],
   "source": [
    "df_merged_meta_cats.u_state.head()"
   ]
  },
  {
   "cell_type": "code",
   "execution_count": 29,
   "metadata": {
    "collapsed": false
   },
   "outputs": [
    {
     "name": "stderr",
     "output_type": "stream",
     "text": [
      "/home/entity/anaconda2/lib/python2.7/site-packages/pandas/io/pytables.py:270: PerformanceWarning: \n",
      "your performance may suffer as PyTables will pickle object types that it cannot\n",
      "map directly to c-types [inferred_type->mixed,key->axis0] [items->None]\n",
      "\n",
      "  f(store)\n",
      "/home/entity/anaconda2/lib/python2.7/site-packages/pandas/io/pytables.py:270: PerformanceWarning: \n",
      "your performance may suffer as PyTables will pickle object types that it cannot\n",
      "map directly to c-types [inferred_type->mixed,key->block1_items] [items->None]\n",
      "\n",
      "  f(store)\n",
      "/home/entity/anaconda2/lib/python2.7/site-packages/pandas/core/generic.py:1138: PerformanceWarning: \n",
      "your performance may suffer as PyTables will pickle object types that it cannot\n",
      "map directly to c-types [inferred_type->mixed,key->block3_values] [items->['Author', 'City/Urban', 'City/Urban Area', 'Contents', 'Date', 'Gender', 'Name', 'RT?', 'State/Region', 'URL', 'URL?', 'hashtag?', 'mention?', 'processedPost', 'sentiment', 'sentiment_subj', 'subjectvity_type', 'topic_name', u't_created', u't_is_reply', u't_is_quote', u'u_created', u'u_is_verified', u'u_location', u'u_name', u'u_url', 'CATS', 'u_state']]\n",
      "\n",
      "  return pytables.to_hdf(path_or_buf, key, self, **kwargs)\n",
      "/home/entity/anaconda2/lib/python2.7/site-packages/pandas/io/pytables.py:270: PerformanceWarning: \n",
      "your performance may suffer as PyTables will pickle object types that it cannot\n",
      "map directly to c-types [inferred_type->mixed,key->block3_items] [items->None]\n",
      "\n",
      "  f(store)\n"
     ]
    }
   ],
   "source": [
    "df_merged_meta_cats.to_hdf(\"FINAL_ANALYSIS_DATA.h5\", \"final_data\")"
   ]
  },
  {
   "cell_type": "code",
   "execution_count": null,
   "metadata": {
    "collapsed": true
   },
   "outputs": [],
   "source": []
  }
 ],
 "metadata": {
  "anaconda-cloud": {},
  "kernelspec": {
   "display_name": "Python [default]",
   "language": "python",
   "name": "python2"
  },
  "language_info": {
   "codemirror_mode": {
    "name": "ipython",
    "version": 2
   },
   "file_extension": ".py",
   "mimetype": "text/x-python",
   "name": "python",
   "nbconvert_exporter": "python",
   "pygments_lexer": "ipython2",
   "version": "2.7.12"
  }
 },
 "nbformat": 4,
 "nbformat_minor": 1
}
