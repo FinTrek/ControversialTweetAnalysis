{
 "cells": [
  {
   "cell_type": "code",
   "execution_count": 1,
   "metadata": {
    "collapsed": true
   },
   "outputs": [],
   "source": [
    "import requests\n",
    "from bs4 import BeautifulSoup\n",
    "\n",
    "from joblib import Parallel, delayed\n",
    "from collections import defaultdict"
   ]
  },
  {
   "cell_type": "code",
   "execution_count": 2,
   "metadata": {
    "collapsed": false
   },
   "outputs": [],
   "source": [
    "BASE_URL = \"http://www.fakenewschecker.com/\""
   ]
  },
  {
   "cell_type": "code",
   "execution_count": 3,
   "metadata": {
    "collapsed": false
   },
   "outputs": [
    {
     "data": {
      "text/plain": [
       "<li class=\"views-fluid-grid-inline views-fluid-grid-item views-row views-row-1 views-row-odd views-row-first\"><div class=\"views-field views-field-field-conspiracy\"><div class=\"field-content\"><div class=\"conspiracy-bias\"></div></div></div> <span class=\"views-field views-field-field-right-bias\"> <span class=\"field-content\"><div class=\"right-bias\"></div></span> </span> <span class=\"views-field views-field-title\"> <span class=\"field-content\"><a href=\"/fake-news-source/100-percent-fed\">100 Percent Fed Up <i aria-hidden=\"true\" class=\"fa fa-chevron-circle-right\"></i></a></span> </span><div class=\"views-field views-field-edit-node\"> <span class=\"field-content\"></span></div></li>"
      ]
     },
     "execution_count": 3,
     "metadata": {},
     "output_type": "execute_result"
    }
   ],
   "source": [
    "response = requests.get(BASE_URL)\n",
    "data = BeautifulSoup(response.text, \"lxml\")\n",
    "data.select(\"#block-system-main > div > div > div.view-content > div > ul > li.views-fluid-grid-inline.views-fluid-grid-item.views-row.views-row-1.views-row-odd.views-row-first\")[0]"
   ]
  },
  {
   "cell_type": "code",
   "execution_count": 4,
   "metadata": {
    "collapsed": true
   },
   "outputs": [],
   "source": [
    "URL_CATS = defaultdict(set)"
   ]
  },
  {
   "cell_type": "code",
   "execution_count": 6,
   "metadata": {
    "collapsed": false
   },
   "outputs": [
    {
     "data": {
      "text/plain": [
       "376"
      ]
     },
     "execution_count": 6,
     "metadata": {},
     "output_type": "execute_result"
    }
   ],
   "source": [
    "all_data = data.select(\"#block-system-main > div > div > div.view-content > div > ul > li\")\n",
    "len(all_data)"
   ]
  },
  {
   "cell_type": "code",
   "execution_count": 19,
   "metadata": {
    "collapsed": true
   },
   "outputs": [],
   "source": [
    "def get_url_cats(list_data):\n",
    "    url_div = list_data.select(\"a\")[0]\n",
    "    label_divs = list_data.select(\".views-field > div > div, .views-field > span > div\")\n",
    "    return url_div.text, url_div[\"href\"], sum([div[\"class\"] for div in label_divs], [])"
   ]
  },
  {
   "cell_type": "code",
   "execution_count": 20,
   "metadata": {
    "collapsed": false
   },
   "outputs": [
    {
     "data": {
      "text/plain": [
       "(u'100 Percent Fed Up ',\n",
       " '/fake-news-source/100-percent-fed',\n",
       " ['conspiracy-bias', 'right-bias'])"
      ]
     },
     "execution_count": 20,
     "metadata": {},
     "output_type": "execute_result"
    }
   ],
   "source": [
    "get_url_cats(all_data[0])"
   ]
  },
  {
   "cell_type": "code",
   "execution_count": 26,
   "metadata": {
    "collapsed": true
   },
   "outputs": [],
   "source": [
    "def get_details(item):\n",
    "    print item\n",
    "    item_name, item_url, item_classes = item\n",
    "    response = requests.get(\"%s%s\" % (BASE_URL, item_url))\n",
    "    data = BeautifulSoup(response.text, \"lxml\")\n",
    "    return data"
   ]
  },
  {
   "cell_type": "code",
   "execution_count": 27,
   "metadata": {
    "collapsed": false
   },
   "outputs": [
    {
     "name": "stdout",
     "output_type": "stream",
     "text": [
      "(u'100 Percent Fed Up ', '/fake-news-source/100-percent-fed', ['conspiracy-bias', 'right-bias'])\n"
     ]
    }
   ],
   "source": [
    "item_data = get_details(get_url_cats(all_data[0]))"
   ]
  },
  {
   "cell_type": "code",
   "execution_count": 29,
   "metadata": {
    "collapsed": false
   },
   "outputs": [
    {
     "data": {
      "text/plain": [
       "[<a datatype=\"\" href=\"/news-bias/conspiratorial\" property=\"rdfs:label skos:prefLabel\" typeof=\"skos:Concept\">conspiratorial</a>,\n",
       " <a datatype=\"\" href=\"/news-bias/political\" property=\"rdfs:label skos:prefLabel\" typeof=\"skos:Concept\">political</a>,\n",
       " <a datatype=\"\" href=\"/news-bias/psuedoscience\" property=\"rdfs:label skos:prefLabel\" typeof=\"skos:Concept\">psuedoscience</a>,\n",
       " <a datatype=\"\" href=\"/news-bias/right-bias\" property=\"rdfs:label skos:prefLabel\" typeof=\"skos:Concept\">right bias</a>,\n",
       " <a datatype=\"\" href=\"/news-bias/war\" property=\"rdfs:label skos:prefLabel\" typeof=\"skos:Concept\">war</a>]"
      ]
     },
     "execution_count": 29,
     "metadata": {},
     "output_type": "execute_result"
    }
   ],
   "source": [
    "item_data.select(\"#block-system-main > div > div > div.field.field-name-field-bias.field-type-taxonomy-term-reference.field-label-inline.clearfix > div.field-items a\")"
   ]
  },
  {
   "cell_type": "code",
   "execution_count": 32,
   "metadata": {
    "collapsed": false
   },
   "outputs": [
    {
     "data": {
      "text/plain": [
       "u'100percentfedup.com'"
      ]
     },
     "execution_count": 32,
     "metadata": {},
     "output_type": "execute_result"
    }
   ],
   "source": [
    "item_data.select(\"#block-system-main > div > div > div.field.field-name-field-website.field-type-text.field-label-inline.clearfix > div.field-items > div\")[0].text"
   ]
  },
  {
   "cell_type": "code",
   "execution_count": 47,
   "metadata": {
    "collapsed": true
   },
   "outputs": [],
   "source": [
    "def get_details(item):\n",
    "    item_name, item_url, item_classes = item\n",
    "    response = requests.get(\"%s%s\" % (BASE_URL, item_url))\n",
    "    data = BeautifulSoup(response.text, \"lxml\")\n",
    "    labels = data.select(\"#block-system-main > div > div > div.field.field-name-field-bias.field-type-taxonomy-term-reference.field-label-inline.clearfix > div.field-items a\")\n",
    "    domain = data.select(\"#block-system-main > div > div > div.field.field-name-field-website.field-type-text.field-label-inline.clearfix > div.field-items > div\")\n",
    "    if len(domain) < 1:\n",
    "        print item_name, item_url\n",
    "        domain = \"\"\n",
    "    else:\n",
    "        domain = domain[0].text\n",
    "    return item_name, item_url, item_classes, domain, tuple(label.text for label in labels)"
   ]
  },
  {
   "cell_type": "code",
   "execution_count": 53,
   "metadata": {
    "collapsed": true
   },
   "outputs": [],
   "source": [
    "all_url_cats = [get_url_cats(item_data) for item_data in all_data]"
   ]
  },
  {
   "cell_type": "code",
   "execution_count": 55,
   "metadata": {
    "collapsed": false
   },
   "outputs": [
    {
     "data": {
      "text/plain": [
       "[(u'100 Percent Fed Up ',\n",
       "  '/fake-news-source/100-percent-fed',\n",
       "  ['conspiracy-bias', 'right-bias']),\n",
       " (u'21st Century Wire ',\n",
       "  '/fake-news-source/21st-century-wire',\n",
       "  ['conspiracy-bias', 'right-bias']),\n",
       " (u'365 USA News ', '/fake-news-source/365-usa-news', ['right-bias']),\n",
       " (u'70News ', '/fake-news-source/70news', ['right-bias']),\n",
       " (u'ABCNews.com.co ', '/fake-news-source/abcnewscomco', ['right-bias']),\n",
       " (u'Abel Danger ',\n",
       "  '/fake-news-source/abel-danger',\n",
       "  ['conspiracy-bias', 'right-bias']),\n",
       " (u'Above Top Secret ',\n",
       "  '/fake-news-source/above-top-secret',\n",
       "  ['conspiracy-bias', 'right-bias']),\n",
       " (u'Activist Post ', '/fake-news-source/activist-post', ['right-bias']),\n",
       " (u'Addicting Info ', '/fake-news-source/addicting-info', ['left-bias']),\n",
       " (u'Advocate ', '/fake-news-source/advocate', ['left-bias'])]"
      ]
     },
     "execution_count": 55,
     "metadata": {},
     "output_type": "execute_result"
    }
   ],
   "source": [
    "all_url_cats[:10]"
   ]
  },
  {
   "cell_type": "code",
   "execution_count": 54,
   "metadata": {
    "collapsed": false
   },
   "outputs": [
    {
     "data": {
      "text/plain": [
       "(u'100 Percent Fed Up ',\n",
       " '/fake-news-source/100-percent-fed',\n",
       " ['conspiracy-bias', 'right-bias'],\n",
       " u'100percentfedup.com',\n",
       " (u'conspiratorial', u'political', u'psuedoscience', u'right bias', u'war'))"
      ]
     },
     "execution_count": 54,
     "metadata": {},
     "output_type": "execute_result"
    }
   ],
   "source": [
    "item_data = get_details(all_url_cats[0])\n",
    "item_data"
   ]
  },
  {
   "cell_type": "code",
   "execution_count": 60,
   "metadata": {
    "collapsed": false
   },
   "outputs": [
    {
     "name": "stderr",
     "output_type": "stream",
     "text": [
      "[Parallel(n_jobs=5)]: Done   3 tasks      | elapsed:    2.1s\n",
      "[Parallel(n_jobs=5)]: Done   8 tasks      | elapsed:    3.9s\n",
      "[Parallel(n_jobs=5)]: Done  15 tasks      | elapsed:    5.8s\n",
      "[Parallel(n_jobs=5)]: Done  22 tasks      | elapsed:    8.1s\n",
      "[Parallel(n_jobs=5)]: Done  31 tasks      | elapsed:   10.9s\n",
      "[Parallel(n_jobs=5)]: Done  40 tasks      | elapsed:   14.1s\n",
      "[Parallel(n_jobs=5)]: Done  51 tasks      | elapsed:   17.4s\n",
      "[Parallel(n_jobs=5)]: Done  62 tasks      | elapsed:   20.7s\n",
      "[Parallel(n_jobs=5)]: Done  75 tasks      | elapsed:   24.7s\n",
      "[Parallel(n_jobs=5)]: Done  88 tasks      | elapsed:   28.6s\n"
     ]
    },
    {
     "name": "stdout",
     "output_type": "stream",
     "text": [
      "DC Clothesline  /fake-news-source/dc-clothesline\n"
     ]
    },
    {
     "name": "stderr",
     "output_type": "stream",
     "text": [
      "[Parallel(n_jobs=5)]: Done 103 tasks      | elapsed:   32.7s\n",
      "[Parallel(n_jobs=5)]: Done 118 tasks      | elapsed:   38.7s\n",
      "[Parallel(n_jobs=5)]: Done 135 tasks      | elapsed:   44.5s\n"
     ]
    },
    {
     "name": "stdout",
     "output_type": "stream",
     "text": [
      "Herman Cain  /fake-news-source/herman-cain\n"
     ]
    },
    {
     "name": "stderr",
     "output_type": "stream",
     "text": [
      "[Parallel(n_jobs=5)]: Done 152 tasks      | elapsed:   50.6s\n",
      "[Parallel(n_jobs=5)]: Done 171 tasks      | elapsed:   57.1s\n"
     ]
    },
    {
     "name": "stdout",
     "output_type": "stream",
     "text": [
      "Liberty Talk FM  /fake-news-source/liberty-talk-fm\n"
     ]
    },
    {
     "name": "stderr",
     "output_type": "stream",
     "text": [
      "[Parallel(n_jobs=5)]: Done 190 tasks      | elapsed:  1.1min\n",
      "[Parallel(n_jobs=5)]: Done 211 tasks      | elapsed:  1.2min\n",
      "[Parallel(n_jobs=5)]: Done 232 tasks      | elapsed:  1.3min\n",
      "[Parallel(n_jobs=5)]: Done 255 tasks      | elapsed:  1.4min\n",
      "[Parallel(n_jobs=5)]: Done 278 tasks      | elapsed:  1.5min\n",
      "[Parallel(n_jobs=5)]: Done 303 tasks      | elapsed:  1.7min\n",
      "[Parallel(n_jobs=5)]: Done 328 tasks      | elapsed:  1.8min\n"
     ]
    },
    {
     "name": "stdout",
     "output_type": "stream",
     "text": [
      "Truth Broadcast Network  /fake-news-source/truth-broadcast-network\n",
      "US Chronicle  /fake-news-source/us-chronicle\n"
     ]
    },
    {
     "name": "stderr",
     "output_type": "stream",
     "text": [
      "[Parallel(n_jobs=5)]: Done 355 tasks      | elapsed:  2.0min\n",
      "[Parallel(n_jobs=5)]: Done 376 out of 376 | elapsed:  2.1min finished\n"
     ]
    }
   ],
   "source": [
    "all_fake_news = Parallel(n_jobs=5, verbose=10)(delayed(get_details)(item_data)\n",
    "                                                for item_data in all_url_cats\n",
    "                                               )"
   ]
  },
  {
   "cell_type": "code",
   "execution_count": 61,
   "metadata": {
    "collapsed": false
   },
   "outputs": [
    {
     "data": {
      "text/plain": [
       "(u'21st Century Wire ',\n",
       " '/fake-news-source/21st-century-wire',\n",
       " ['conspiracy-bias', 'right-bias'],\n",
       " u'21stcenturywire.com',\n",
       " (u'conspiratorial', u'political', u'psuedoscience', u'right bias', u'war'))"
      ]
     },
     "execution_count": 61,
     "metadata": {},
     "output_type": "execute_result"
    }
   ],
   "source": [
    "all_fake_news[1]"
   ]
  },
  {
   "cell_type": "code",
   "execution_count": 62,
   "metadata": {
    "collapsed": true
   },
   "outputs": [],
   "source": [
    "import pandas as pd"
   ]
  },
  {
   "cell_type": "code",
   "execution_count": 69,
   "metadata": {
    "collapsed": true
   },
   "outputs": [],
   "source": [
    "df = pd.DataFrame(all_fake_news, columns=[\"Name\", \"Source\", \"Types\", \"website\", \"labels\"])"
   ]
  },
  {
   "cell_type": "code",
   "execution_count": 70,
   "metadata": {
    "collapsed": false
   },
   "outputs": [
    {
     "data": {
      "text/html": [
       "<div>\n",
       "<table border=\"1\" class=\"dataframe\">\n",
       "  <thead>\n",
       "    <tr style=\"text-align: right;\">\n",
       "      <th></th>\n",
       "      <th>Name</th>\n",
       "      <th>Source</th>\n",
       "      <th>Types</th>\n",
       "      <th>website</th>\n",
       "      <th>labels</th>\n",
       "    </tr>\n",
       "  </thead>\n",
       "  <tbody>\n",
       "    <tr>\n",
       "      <th>0</th>\n",
       "      <td>100 Percent Fed Up</td>\n",
       "      <td>/fake-news-source/100-percent-fed</td>\n",
       "      <td>[conspiracy-bias, right-bias]</td>\n",
       "      <td>100percentfedup.com</td>\n",
       "      <td>(conspiratorial, political, psuedoscience, rig...</td>\n",
       "    </tr>\n",
       "    <tr>\n",
       "      <th>1</th>\n",
       "      <td>21st Century Wire</td>\n",
       "      <td>/fake-news-source/21st-century-wire</td>\n",
       "      <td>[conspiracy-bias, right-bias]</td>\n",
       "      <td>21stcenturywire.com</td>\n",
       "      <td>(conspiratorial, political, psuedoscience, rig...</td>\n",
       "    </tr>\n",
       "    <tr>\n",
       "      <th>2</th>\n",
       "      <td>365 USA News</td>\n",
       "      <td>/fake-news-source/365-usa-news</td>\n",
       "      <td>[right-bias]</td>\n",
       "      <td>365usanews .com</td>\n",
       "      <td>(conspiratorial, political, right bias)</td>\n",
       "    </tr>\n",
       "    <tr>\n",
       "      <th>3</th>\n",
       "      <td>70News</td>\n",
       "      <td>/fake-news-source/70news</td>\n",
       "      <td>[right-bias]</td>\n",
       "      <td>70news.wordpress.com</td>\n",
       "      <td>(conspiratorial, political, psuedoscience, rig...</td>\n",
       "    </tr>\n",
       "    <tr>\n",
       "      <th>4</th>\n",
       "      <td>ABCNews.com.co</td>\n",
       "      <td>/fake-news-source/abcnewscomco</td>\n",
       "      <td>[right-bias]</td>\n",
       "      <td>www.abcnews.com.co</td>\n",
       "      <td>(conspiratorial, political, psuedoscience, rig...</td>\n",
       "    </tr>\n",
       "  </tbody>\n",
       "</table>\n",
       "</div>"
      ],
      "text/plain": [
       "                  Name                               Source  \\\n",
       "0  100 Percent Fed Up     /fake-news-source/100-percent-fed   \n",
       "1   21st Century Wire   /fake-news-source/21st-century-wire   \n",
       "2        365 USA News        /fake-news-source/365-usa-news   \n",
       "3              70News              /fake-news-source/70news   \n",
       "4      ABCNews.com.co        /fake-news-source/abcnewscomco   \n",
       "\n",
       "                           Types               website  \\\n",
       "0  [conspiracy-bias, right-bias]   100percentfedup.com   \n",
       "1  [conspiracy-bias, right-bias]   21stcenturywire.com   \n",
       "2                   [right-bias]       365usanews .com   \n",
       "3                   [right-bias]  70news.wordpress.com   \n",
       "4                   [right-bias]    www.abcnews.com.co   \n",
       "\n",
       "                                              labels  \n",
       "0  (conspiratorial, political, psuedoscience, rig...  \n",
       "1  (conspiratorial, political, psuedoscience, rig...  \n",
       "2            (conspiratorial, political, right bias)  \n",
       "3  (conspiratorial, political, psuedoscience, rig...  \n",
       "4  (conspiratorial, political, psuedoscience, rig...  "
      ]
     },
     "execution_count": 70,
     "metadata": {},
     "output_type": "execute_result"
    }
   ],
   "source": [
    "df.head()"
   ]
  },
  {
   "cell_type": "code",
   "execution_count": 71,
   "metadata": {
    "collapsed": false
   },
   "outputs": [
    {
     "data": {
      "text/plain": [
       "0    (conspiratorial, political, psuedoscience, rig...\n",
       "1    (conspiratorial, political, psuedoscience, rig...\n",
       "2              (conspiratorial, political, right bias)\n",
       "3    (conspiratorial, political, psuedoscience, rig...\n",
       "4    (conspiratorial, political, psuedoscience, rig...\n",
       "Name: labels, dtype: object"
      ]
     },
     "execution_count": 71,
     "metadata": {},
     "output_type": "execute_result"
    }
   ],
   "source": [
    "df[\"labels\"].head()"
   ]
  },
  {
   "cell_type": "code",
   "execution_count": 72,
   "metadata": {
    "collapsed": false
   },
   "outputs": [
    {
     "data": {
      "text/html": [
       "<div>\n",
       "<table border=\"1\" class=\"dataframe\">\n",
       "  <thead>\n",
       "    <tr style=\"text-align: right;\">\n",
       "      <th></th>\n",
       "      <th>Name</th>\n",
       "      <th>Source</th>\n",
       "      <th>Types</th>\n",
       "      <th>website</th>\n",
       "      <th>labels</th>\n",
       "    </tr>\n",
       "  </thead>\n",
       "  <tbody>\n",
       "    <tr>\n",
       "      <th>0</th>\n",
       "      <td>100 Percent Fed Up</td>\n",
       "      <td>/fake-news-source/100-percent-fed</td>\n",
       "      <td>conspiracy-bias|right-bias</td>\n",
       "      <td>100percentfedup.com</td>\n",
       "      <td>conspiratorial|political|psuedoscience|right b...</td>\n",
       "    </tr>\n",
       "    <tr>\n",
       "      <th>1</th>\n",
       "      <td>21st Century Wire</td>\n",
       "      <td>/fake-news-source/21st-century-wire</td>\n",
       "      <td>conspiracy-bias|right-bias</td>\n",
       "      <td>21stcenturywire.com</td>\n",
       "      <td>conspiratorial|political|psuedoscience|right b...</td>\n",
       "    </tr>\n",
       "    <tr>\n",
       "      <th>2</th>\n",
       "      <td>365 USA News</td>\n",
       "      <td>/fake-news-source/365-usa-news</td>\n",
       "      <td>right-bias</td>\n",
       "      <td>365usanews .com</td>\n",
       "      <td>conspiratorial|political|right bias</td>\n",
       "    </tr>\n",
       "    <tr>\n",
       "      <th>3</th>\n",
       "      <td>70News</td>\n",
       "      <td>/fake-news-source/70news</td>\n",
       "      <td>right-bias</td>\n",
       "      <td>70news.wordpress.com</td>\n",
       "      <td>conspiratorial|political|psuedoscience|right b...</td>\n",
       "    </tr>\n",
       "    <tr>\n",
       "      <th>4</th>\n",
       "      <td>ABCNews.com.co</td>\n",
       "      <td>/fake-news-source/abcnewscomco</td>\n",
       "      <td>right-bias</td>\n",
       "      <td>www.abcnews.com.co</td>\n",
       "      <td>conspiratorial|political|psuedoscience|right b...</td>\n",
       "    </tr>\n",
       "  </tbody>\n",
       "</table>\n",
       "</div>"
      ],
      "text/plain": [
       "                  Name                               Source  \\\n",
       "0  100 Percent Fed Up     /fake-news-source/100-percent-fed   \n",
       "1   21st Century Wire   /fake-news-source/21st-century-wire   \n",
       "2        365 USA News        /fake-news-source/365-usa-news   \n",
       "3              70News              /fake-news-source/70news   \n",
       "4      ABCNews.com.co        /fake-news-source/abcnewscomco   \n",
       "\n",
       "                        Types               website  \\\n",
       "0  conspiracy-bias|right-bias   100percentfedup.com   \n",
       "1  conspiracy-bias|right-bias   21stcenturywire.com   \n",
       "2                  right-bias       365usanews .com   \n",
       "3                  right-bias  70news.wordpress.com   \n",
       "4                  right-bias    www.abcnews.com.co   \n",
       "\n",
       "                                              labels  \n",
       "0  conspiratorial|political|psuedoscience|right b...  \n",
       "1  conspiratorial|political|psuedoscience|right b...  \n",
       "2                conspiratorial|political|right bias  \n",
       "3  conspiratorial|political|psuedoscience|right b...  \n",
       "4  conspiratorial|political|psuedoscience|right b...  "
      ]
     },
     "execution_count": 72,
     "metadata": {},
     "output_type": "execute_result"
    }
   ],
   "source": [
    "df[\"Types\"] = df[\"Types\"].apply(lambda x: \"|\".join(x))\n",
    "df[\"labels\"] = df[\"labels\"].apply(lambda x: \"|\".join(x))\n",
    "df.head()"
   ]
  },
  {
   "cell_type": "code",
   "execution_count": 74,
   "metadata": {
    "collapsed": false
   },
   "outputs": [
    {
     "name": "stdout",
     "output_type": "stream",
     "text": [
      "Name\tSource\tTypes\twebsite\tlabels\r\n",
      "100 Percent Fed Up \t/fake-news-source/100-percent-fed\tconspiracy-bias|right-bias\t100percentfedup.com\tconspiratorial|political|psuedoscience|right bias|war\r\n",
      "21st Century Wire \t/fake-news-source/21st-century-wire\tconspiracy-bias|right-bias\t21stcenturywire.com\tconspiratorial|political|psuedoscience|right bias|war\r\n",
      "365 USA News \t/fake-news-source/365-usa-news\tright-bias\t365usanews .com\tconspiratorial|political|right bias\r\n",
      "70News \t/fake-news-source/70news\tright-bias\t70news.wordpress.com\tconspiratorial|political|psuedoscience|right bias|war\r\n",
      "ABCNews.com.co \t/fake-news-source/abcnewscomco\tright-bias\twww.abcnews.com.co\tconspiratorial|political|psuedoscience|right bias|war\r\n",
      "Abel Danger \t/fake-news-source/abel-danger\tconspiracy-bias|right-bias\thttp://www.abeldanger.net\tconspiratorial|political|psuedoscience|right bias|war\r\n",
      "Above Top Secret \t/fake-news-source/above-top-secret\tconspiracy-bias|right-bias\twww.abovetopsecret.com\tconspiratorial|political\r\n",
      "Activist Post \t/fake-news-source/activist-post\tright-bias\twww.activistpost.com\tconspiratorial|editorial|political|psuedoscience|right bias|war\r\n",
      "Addicting Info \t/fake-news-source/addicting-info\tleft-bias\taddictinginfo.org\tleft bias|political\r\n"
     ]
    }
   ],
   "source": [
    "df.to_csv(\"DomainDataset/FakeNewsChecker.txt\", sep=\"\\t\", index=False, encoding='utf-8')\n",
    "! head DomainDataset/FakeNewsChecker.txt"
   ]
  },
  {
   "cell_type": "code",
   "execution_count": 75,
   "metadata": {
    "collapsed": true
   },
   "outputs": [],
   "source": [
    "import urlparse"
   ]
  },
  {
   "cell_type": "code",
   "execution_count": 76,
   "metadata": {
    "collapsed": false
   },
   "outputs": [
    {
     "data": {
      "text/plain": [
       "SplitResult(scheme='http', netloc='www.abeldanger.net', path='', query='', fragment='')"
      ]
     },
     "execution_count": 76,
     "metadata": {},
     "output_type": "execute_result"
    }
   ],
   "source": [
    "urlparse.urlsplit(\"http://www.abeldanger.net\")"
   ]
  },
  {
   "cell_type": "code",
   "execution_count": null,
   "metadata": {
    "collapsed": true
   },
   "outputs": [],
   "source": []
  },
  {
   "cell_type": "code",
   "execution_count": 79,
   "metadata": {
    "collapsed": true
   },
   "outputs": [],
   "source": [
    "df.website.apply(lambda x: urlparse.urlsplit(x).netloc\n",
    "                 if urlparse.urlsplit(x).netloc != \"\" else x).to_csv(\n",
    "    \"DomainDataset/fakenewschecker_domain+suffix.txt\", sep=\"\\t\", index=False, header=False)"
   ]
  },
  {
   "cell_type": "code",
   "execution_count": 80,
   "metadata": {
    "collapsed": false
   },
   "outputs": [
    {
     "name": "stdout",
     "output_type": "stream",
     "text": [
      "100percentfedup.com\r\n",
      "21stcenturywire.com\r\n",
      "365usanews .com\r\n",
      "70news.wordpress.com\r\n",
      "www.abcnews.com.co\r\n",
      "www.abeldanger.net\r\n",
      "www.abovetopsecret.com\r\n",
      "www.activistpost.com\r\n",
      "addictinginfo.org\r\n",
      "www.advocate.com\r\n"
     ]
    }
   ],
   "source": [
    "! head DomainDataset/fakenewschecker_domain+suffix.txt"
   ]
  },
  {
   "cell_type": "code",
   "execution_count": null,
   "metadata": {
    "collapsed": true
   },
   "outputs": [],
   "source": []
  }
 ],
 "metadata": {
  "anaconda-cloud": {},
  "kernelspec": {
   "display_name": "Python [default]",
   "language": "python",
   "name": "python2"
  },
  "language_info": {
   "codemirror_mode": {
    "name": "ipython",
    "version": 2
   },
   "file_extension": ".py",
   "mimetype": "text/x-python",
   "name": "python",
   "nbconvert_exporter": "python",
   "pygments_lexer": "ipython2",
   "version": "2.7.12"
  }
 },
 "nbformat": 4,
 "nbformat_minor": 1
}
