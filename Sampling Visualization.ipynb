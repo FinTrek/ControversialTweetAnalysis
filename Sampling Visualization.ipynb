{
 "cells": [
  {
   "cell_type": "code",
   "execution_count": 1,
   "metadata": {
    "collapsed": false
   },
   "outputs": [
    {
     "name": "stderr",
     "output_type": "stream",
     "text": [
      "/home/entity/anaconda2/lib/python2.7/site-packages/matplotlib/font_manager.py:279: UserWarning: Matplotlib is building the font cache using fc-list. This may take a moment.\n",
      "  warnings.warn('Matplotlib is building the font cache using fc-list. This may take a moment.')\n"
     ]
    }
   ],
   "source": [
    "%matplotlib inline\n",
    "\n",
    "import numpy as np\n",
    "import matplotlib.pyplot as plt\n",
    "\n",
    "import seaborn as sns\n",
    "\n",
    "from ipywidgets import interact, widgets\n",
    "from IPython.display import display, clear_output"
   ]
  },
  {
   "cell_type": "code",
   "execution_count": 2,
   "metadata": {
    "collapsed": true
   },
   "outputs": [],
   "source": [
    "sns.set_context('paper')\n",
    "sns.set_style('ticks')"
   ]
  },
  {
   "cell_type": "code",
   "execution_count": 3,
   "metadata": {
    "collapsed": false
   },
   "outputs": [
    {
     "data": {
      "text/plain": [
       "[(3, 8.801258851368585),\n",
       " (3, 9.661611127118212),\n",
       " (3, 6.377488693044986),\n",
       " (1, 1.0779019868204842),\n",
       " (2, 3.781806880901213),\n",
       " (3, 6.779037541964296),\n",
       " (0, 0.9000133276624389),\n",
       " (3, 8.038897096255775),\n",
       " (3, 9.591574730508583),\n",
       " (3, 7.105690999971533)]"
      ]
     },
     "execution_count": 3,
     "metadata": {},
     "output_type": "execute_result"
    }
   ],
   "source": [
    "def draw_sample(weights):\n",
    "    choice = np.random.uniform(0, sum(weights))\n",
    "    cum_weight = 0\n",
    "    choiceIdx = 0\n",
    "    for weight in weights:\n",
    "        #choice -= weight\n",
    "        cum_weight += weight\n",
    "        if choice <= cum_weight:\n",
    "            break\n",
    "        choiceIdx += 1\n",
    "    return choiceIdx, choice\n",
    "\n",
    "list(draw_sample([1,2,3,4]) for i in xrange(10))"
   ]
  },
  {
   "cell_type": "code",
   "execution_count": null,
   "metadata": {
    "collapsed": false
   },
   "outputs": [
    {
     "data": {
      "text/plain": [
       "(0.0, 10.0, 0.94499999999999995, 1.0550000000000002)"
      ]
     },
     "execution_count": 4,
     "metadata": {},
     "output_type": "execute_result"
    },
    {
     "data": {
      "image/png": "[encoded data removed]",
      "text/plain": [
       "<matplotlib.figure.Figure at 0x7f8bd6019b50>"
      ]
     },
     "metadata": {},
     "output_type": "display_data"
    }
   ],
   "source": [
    "weights = [1,2,3,4]\n",
    "x = np.cumsum([0] + weights)\n",
    "y = np.ones_like(x)\n",
    "fig, ax = plt.subplots(1,1, figsize=(10,2))\n",
    "ax.plot(x, y, lw=50, alpha=0.5)\n",
    "ax.plot(x[1:], y[1:], linestyle='none',\n",
    "         marker='|', ms=100,\n",
    "        markeredgecolor='k', mew=1,\n",
    "         color='k')\n",
    "ax.set_xlim(0, x.max())\n",
    "choiceIdx, choice =  draw_sample(weights)\n",
    "ax.plot(choice, 1, linestyle='none',\n",
    "         marker='|', ms=50,\n",
    "        markeredgecolor='r', mew=5,\n",
    "         color='r', label='sample')\n",
    "ax.set_title('Draw=%s' % choiceIdx)\n",
    "plt.axis('off')"
   ]
  },
  {
   "cell_type": "code",
   "execution_count": null,
   "metadata": {
    "collapsed": false
   },
   "outputs": [],
   "source": [
    "def draw_interact(weights):\n",
    "    clear_output(wait=True)\n",
    "    weights = weights\n",
    "    x = np.cumsum([0] + weights)\n",
    "    y = np.ones_like(x)\n",
    "    fig, ax = plt.subplots(1,1, figsize=(10,2))\n",
    "    ax.plot(x, y, lw=50, alpha=0.5)\n",
    "    ax.plot(x[1:], y[1:], linestyle='none',\n",
    "             marker='|', ms=100,\n",
    "            markeredgecolor='k', mew=1,\n",
    "             color='k')\n",
    "    ax.set_xlim(0, x.max())\n",
    "    choiceIdx, choice =  draw_sample(weights)\n",
    "    ax.plot(choice, 1, linestyle='none',\n",
    "             marker='|', ms=50,\n",
    "            markeredgecolor='r', mew=5,\n",
    "             color='r', label='sample')\n",
    "    ax.set_title('Draw=%s' % choiceIdx)\n",
    "    plt.axis('off')"
   ]
  },
  {
   "cell_type": "code",
   "execution_count": null,
   "metadata": {
    "collapsed": false
   },
   "outputs": [],
   "source": [
    "button = widgets.Button(description=\"Sample\")\n",
    "display(button)\n",
    "button.on_click(lambda x: draw_interact([1,2,3,4]))"
   ]
  },
  {
   "cell_type": "code",
   "execution_count": null,
   "metadata": {
    "collapsed": true
   },
   "outputs": [],
   "source": []
  }
 ],
 "metadata": {
  "anaconda-cloud": {},
  "kernelspec": {
   "display_name": "Python [default]",
   "language": "python",
   "name": "python2"
  },
  "language_info": {
   "codemirror_mode": {
    "name": "ipython",
    "version": 2
   },
   "file_extension": ".py",
   "mimetype": "text/x-python",
   "name": "python",
   "nbconvert_exporter": "python",
   "pygments_lexer": "ipython2",
   "version": "2.7.12"
  }
 },
 "nbformat": 4,
 "nbformat_minor": 1
}
