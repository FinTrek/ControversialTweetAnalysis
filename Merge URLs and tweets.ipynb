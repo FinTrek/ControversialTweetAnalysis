{
 "cells": [
  {
   "cell_type": "code",
   "execution_count": 1,
   "metadata": {
    "collapsed": false
   },
   "outputs": [],
   "source": [
    "import gzip\n",
    "import json\n",
    "import pandas as pd\n",
    "\n",
    "from collections import defaultdict, Counter"
   ]
  },
  {
   "cell_type": "code",
   "execution_count": 2,
   "metadata": {
    "collapsed": false
   },
   "outputs": [
    {
     "name": "stdout",
     "output_type": "stream",
     "text": [
      "defaultdict(<type 'int'>, {'url': 166670, u'photo': 27682})\n",
      "Of 328318 tweets, 162032 contain a total of 166670 urls with 8750 unique domains and 119558 unique urls\n",
      "CPU times: user 1min 6s, sys: 4.46 s, total: 1min 11s\n",
      "Wall time: 1min 11s\n"
     ]
    }
   ],
   "source": [
    "%%time\n",
    "data = []\n",
    "media_types = defaultdict(int)\n",
    "url_types = defaultdict(int)\n",
    "has_urls = 0\n",
    "unique_urls = set()\n",
    "with gzip.open(\"all_ids.txt.json.gz\") as fp:\n",
    "    for line in fp:\n",
    "        d = json.loads(line.strip())\n",
    "        data.append(d)\n",
    "        if 'entities' not in d:\n",
    "            continue\n",
    "        if 'media' in d['entities']:\n",
    "            m_entities = d['entities']['media']\n",
    "            for m in m_entities:\n",
    "                m_type = m['type']\n",
    "                media_types[m_type] += 1\n",
    "        if 'urls' in d['entities']:\n",
    "            m_entities = d['entities']['urls']\n",
    "            if len(m_entities) > 0:\n",
    "                has_urls += 1\n",
    "            for m in m_entities:\n",
    "                media_types['url'] += 1\n",
    "                m = m['expanded_url']\n",
    "                m_type = m.split(\"/\", 3)[2]\n",
    "                unique_urls.add((m, m_type))\n",
    "                url_types[m_type] += 1\n",
    "                \n",
    "print(media_types)\n",
    "url_types = Counter(url_types)\n",
    "print(\"Of {} tweets, {} contain a total of {} urls with {} unique domains and {} unique urls\".format(\n",
    "        len(data), has_urls, media_types[\"url\"], len(url_types), len(unique_urls)))"
   ]
  },
  {
   "cell_type": "code",
   "execution_count": 3,
   "metadata": {
    "collapsed": false
   },
   "outputs": [
    {
     "data": {
      "text/plain": [
       "[(u'twitter.com', 24978),\n",
       " (u'bit.ly', 15148),\n",
       " (u'fb.me', 15069),\n",
       " (u'ow.ly', 6866),\n",
       " (u'dlvr.it', 5398),\n",
       " (u'ift.tt', 4693),\n",
       " (u'goo.gl', 4039),\n",
       " (u'ln.is', 3795),\n",
       " (u'youtu.be', 3784),\n",
       " (u'gvwy.io', 3120),\n",
       " (u'www.instagram.com', 2761),\n",
       " (u'buff.ly', 2331),\n",
       " (u'www.newsweek.com', 1949),\n",
       " (u'www.youtube.com', 1170),\n",
       " (u'nyti.ms', 1119),\n",
       " (u'tinyurl.com', 1083),\n",
       " (u'wp.me', 1048),\n",
       " (u'm.tbnn.it', 960),\n",
       " (u'shar.es', 845),\n",
       " (u'www.naturalnews.com', 798),\n",
       " (u'warontherocks.com', 739),\n",
       " (u'truthinmedia.com', 677),\n",
       " (u'cnn.it', 670),\n",
       " (u'rover.ebay.com', 604),\n",
       " (u'dld.bz', 524),\n",
       " (u'www.periscope.tv', 515),\n",
       " (u'lnkd.in', 504),\n",
       " (u'www.huffingtonpost.com', 486),\n",
       " (u'b.autovist.com', 473),\n",
       " (u'fxn.ws', 468),\n",
       " (u'www.breitbart.com', 461),\n",
       " (u'www.facebook.com', 421),\n",
       " (u'www.nytimes.com', 416),\n",
       " (u'n.pr', 405),\n",
       " (u'www.infowars.com', 404),\n",
       " (u'a.msn.com', 397),\n",
       " (u'thefederalist.com', 385),\n",
       " (u'apple.news', 379),\n",
       " (u'go.shr.lc', 378),\n",
       " (u'NaturalNews.com', 373),\n",
       " (u'www.foxnews.com', 362),\n",
       " (u'wpo.st', 350),\n",
       " (u'pinterest.com', 346),\n",
       " (u'www.cnn.com', 325),\n",
       " (u'www.yahoo.com', 319),\n",
       " (u'amzn.to', 317),\n",
       " (u'on.mash.to', 316),\n",
       " (u'wapo.st', 314),\n",
       " (u'brev.is', 310),\n",
       " (u'j.mp', 305)]"
      ]
     },
     "execution_count": 3,
     "metadata": {},
     "output_type": "execute_result"
    }
   ],
   "source": [
    "url_types.most_common(50)"
   ]
  },
  {
   "cell_type": "code",
   "execution_count": 4,
   "metadata": {
    "collapsed": false
   },
   "outputs": [
    {
     "data": {
      "text/plain": [
       "[(u'https://twitter.com/i/web/status/787248028335808513', u'twitter.com'),\n",
       " (u'https://twitter.com/mr_dsantos/status/792410135582875648', u'twitter.com'),\n",
       " (u'https://twitter.com/i/web/status/789400744810024960', u'twitter.com'),\n",
       " (u'https://twitter.com/candy_lass/status/692590229069254656', u'twitter.com'),\n",
       " (u'https://twitter.com/i/web/status/791387309992280064', u'twitter.com'),\n",
       " (u'https://twitter.com/_ijmtybx/status/743864533089947648', u'twitter.com'),\n",
       " (u'https://twitter.com/i/web/status/784460833912975360', u'twitter.com'),\n",
       " (u'https://twitter.com/i/web/status/792218124707729408', u'twitter.com'),\n",
       " (u'https://twitter.com/CaptainCreole/status/798946586730659840',\n",
       "  u'twitter.com'),\n",
       " (u'https://twitter.com/tazerblack/status/786997527560224769', u'twitter.com')]"
      ]
     },
     "execution_count": 4,
     "metadata": {},
     "output_type": "execute_result"
    }
   ],
   "source": [
    "sorted(unique_urls,\n",
    "                      key=lambda x: url_types[x[1]],\n",
    "                     reverse=True)[:10]"
   ]
  },
  {
   "cell_type": "markdown",
   "metadata": {
    "collapsed": false
   },
   "source": [
    "## Run code to get all URLs\n",
    "```\n",
    "with open(\"all_urls.txt\", \"wb+\") as fp:\n",
    "    for url in sorted(filter(lambda x: x[1] != 'twitter.com',\n",
    "            unique_urls),\n",
    "                      key=lambda x: url_types[x[1]],\n",
    "                     reverse=True):\n",
    "        print >> fp, \"%s\\t%s\\t%s\" % (url[0], url[1], url_types[url[1]])\n",
    "    \n",
    "! head all_urls.txt    \n",
    "```"
   ]
  },
  {
   "cell_type": "code",
   "execution_count": 5,
   "metadata": {
    "collapsed": false
   },
   "outputs": [
    {
     "data": {
      "text/plain": [
       "328318"
      ]
     },
     "execution_count": 5,
     "metadata": {},
     "output_type": "execute_result"
    }
   ],
   "source": [
    "len(data)"
   ]
  },
  {
   "cell_type": "code",
   "execution_count": 6,
   "metadata": {
    "collapsed": false
   },
   "outputs": [
    {
     "data": {
      "text/plain": [
       "[u'contributors',\n",
       " u'truncated',\n",
       " u'text',\n",
       " u'is_quote_status',\n",
       " u'in_reply_to_status_id',\n",
       " u'id',\n",
       " u'favorite_count',\n",
       " u'source',\n",
       " u'quoted_status_id',\n",
       " u'retweeted',\n",
       " u'coordinates',\n",
       " u'quoted_status',\n",
       " u'entities',\n",
       " u'in_reply_to_screen_name',\n",
       " u'id_str',\n",
       " u'retweet_count',\n",
       " u'in_reply_to_user_id',\n",
       " u'favorited',\n",
       " u'user',\n",
       " u'geo',\n",
       " u'in_reply_to_user_id_str',\n",
       " u'possibly_sensitive',\n",
       " u'lang',\n",
       " u'created_at',\n",
       " u'quoted_status_id_str',\n",
       " u'in_reply_to_status_id_str',\n",
       " u'place']"
      ]
     },
     "execution_count": 6,
     "metadata": {},
     "output_type": "execute_result"
    }
   ],
   "source": [
    "data[0].keys()"
   ]
  },
  {
   "cell_type": "code",
   "execution_count": 7,
   "metadata": {
    "collapsed": false
   },
   "outputs": [
    {
     "data": {
      "text/plain": [
       "u'<a href=\"http://twitter.com\" rel=\"nofollow\">Twitter Web Client</a>'"
      ]
     },
     "execution_count": 7,
     "metadata": {},
     "output_type": "execute_result"
    }
   ],
   "source": [
    "data[0][u'source']"
   ]
  },
  {
   "cell_type": "code",
   "execution_count": 8,
   "metadata": {
    "collapsed": false
   },
   "outputs": [
    {
     "data": {
      "text/plain": [
       "True"
      ]
     },
     "execution_count": 8,
     "metadata": {},
     "output_type": "execute_result"
    }
   ],
   "source": [
    "data[0][u'is_quote_status']"
   ]
  },
  {
   "cell_type": "code",
   "execution_count": 9,
   "metadata": {
    "collapsed": false
   },
   "outputs": [
    {
     "data": {
      "text/plain": [
       "u'Overnight apartment fire in Tampa #10News https://t.co/gDBsG8udFg'"
      ]
     },
     "execution_count": 9,
     "metadata": {},
     "output_type": "execute_result"
    }
   ],
   "source": [
    "data[0][u'quoted_status']['text']"
   ]
  },
  {
   "cell_type": "code",
   "execution_count": 10,
   "metadata": {
    "collapsed": false
   },
   "outputs": [
    {
     "data": {
      "text/plain": [
       "u'Getting a better look at the damage now that the sun is up.  Very sad https://t.co/DZrhrubgf9'"
      ]
     },
     "execution_count": 10,
     "metadata": {},
     "output_type": "execute_result"
    }
   ],
   "source": [
    "data[0]['text']"
   ]
  },
  {
   "cell_type": "code",
   "execution_count": 11,
   "metadata": {
    "collapsed": false
   },
   "outputs": [
    {
     "name": "stdout",
     "output_type": "stream",
     "text": [
      "21382 646 53296 281811 11366\n",
      "Of 328318 tweets, 646 have coordinates, while 281811 have user locations, comprising of 52421 unique locations\n"
     ]
    }
   ],
   "source": [
    "count_quoted = 0\n",
    "has_coordinates = 0\n",
    "count_replies = 0\n",
    "language_ids = defaultdict(int)\n",
    "count_user_locs = 0\n",
    "user_locs = Counter()\n",
    "count_verified = 0\n",
    "for d in data:\n",
    "    count_quoted += d.get('is_quote_status', 0)\n",
    "    coords = d.get(u'coordinates', None)\n",
    "    repl_id = d.get(u'in_reply_to_status_id', None)\n",
    "    has_coordinates += (coords is not None)\n",
    "    count_replies += (repl_id is not None)\n",
    "    loc = d['user'].get('location', u'')\n",
    "    count_verified += d['user']['verified']\n",
    "    if loc != u'':\n",
    "        count_user_locs += 1\n",
    "        user_locs.update([loc])\n",
    "    language_ids[d['lang']] += 1\n",
    "    \n",
    "print count_quoted, has_coordinates, count_replies, count_user_locs, count_verified\n",
    "print(\"Of {} tweets, {} have coordinates, while {} have user locations, comprising of {} unique locations\".format(\n",
    "        len(data), has_coordinates, count_user_locs, len(user_locs)\n",
    "    ))"
   ]
  },
  {
   "cell_type": "code",
   "execution_count": 12,
   "metadata": {
    "collapsed": false
   },
   "outputs": [
    {
     "data": {
      "text/plain": [
       "[(u'United States', 10420),\n",
       " (u'USA', 7880),\n",
       " (u'Washington, DC', 4310),\n",
       " (u'New York, NY', 3082),\n",
       " (u'California, USA', 3018),\n",
       " (u'Los Angeles, CA', 2719),\n",
       " (u'New York', 2312),\n",
       " (u'Chicago, IL', 2179),\n",
       " (u'New York, USA', 2021),\n",
       " (u'Texas', 1773)]"
      ]
     },
     "execution_count": 12,
     "metadata": {},
     "output_type": "execute_result"
    }
   ],
   "source": [
    "user_locs.most_common(10)"
   ]
  },
  {
   "cell_type": "code",
   "execution_count": 13,
   "metadata": {
    "collapsed": false
   },
   "outputs": [
    {
     "data": {
      "text/plain": [
       "328318"
      ]
     },
     "execution_count": 13,
     "metadata": {},
     "output_type": "execute_result"
    }
   ],
   "source": [
    "len(data)"
   ]
  },
  {
   "cell_type": "code",
   "execution_count": 14,
   "metadata": {
    "collapsed": false
   },
   "outputs": [
    {
     "data": {
      "text/plain": [
       "{u'contributors_enabled': False,\n",
       " u'created_at': u'Tue Jul 14 00:13:13 +0000 2009',\n",
       " u'default_profile': False,\n",
       " u'default_profile_image': False,\n",
       " u'description': u'Executive Producer at 10News WTSP in Tampa/St. Petersburg. Indiana University graduate.',\n",
       " u'entities': {u'description': {u'urls': []}},\n",
       " u'favourites_count': 345,\n",
       " u'follow_request_sent': False,\n",
       " u'followers_count': 573,\n",
       " u'following': False,\n",
       " u'friends_count': 503,\n",
       " u'geo_enabled': True,\n",
       " u'has_extended_profile': False,\n",
       " u'id': 56544119,\n",
       " u'id_str': u'56544119',\n",
       " u'is_translation_enabled': False,\n",
       " u'is_translator': False,\n",
       " u'lang': u'en',\n",
       " u'listed_count': 68,\n",
       " u'location': u'St. Petersburg',\n",
       " u'name': u'Melissa Ramsey',\n",
       " u'notifications': False,\n",
       " u'profile_background_color': u'0099B9',\n",
       " u'profile_background_image_url': u'http://abs.twimg.com/images/themes/theme4/bg.gif',\n",
       " u'profile_background_image_url_https': u'https://abs.twimg.com/images/themes/theme4/bg.gif',\n",
       " u'profile_background_tile': False,\n",
       " u'profile_banner_url': u'https://pbs.twimg.com/profile_banners/56544119/1443718335',\n",
       " u'profile_image_url': u'http://pbs.twimg.com/profile_images/743866585635491840/Pa-vBAru_normal.jpg',\n",
       " u'profile_image_url_https': u'https://pbs.twimg.com/profile_images/743866585635491840/Pa-vBAru_normal.jpg',\n",
       " u'profile_link_color': u'0099B9',\n",
       " u'profile_sidebar_border_color': u'5ED4DC',\n",
       " u'profile_sidebar_fill_color': u'95E8EC',\n",
       " u'profile_text_color': u'3C3940',\n",
       " u'profile_use_background_image': True,\n",
       " u'protected': False,\n",
       " u'screen_name': u'mramsey8',\n",
       " u'statuses_count': 1010,\n",
       " u'time_zone': u'Central Time (US & Canada)',\n",
       " u'translator_type': u'none',\n",
       " u'url': None,\n",
       " u'utc_offset': -21600,\n",
       " u'verified': False}"
      ]
     },
     "execution_count": 14,
     "metadata": {},
     "output_type": "execute_result"
    }
   ],
   "source": [
    "data[0]['user']"
   ]
  },
  {
   "cell_type": "markdown",
   "metadata": {
    "collapsed": true
   },
   "source": [
    "## Load expanded data"
   ]
  },
  {
   "cell_type": "code",
   "execution_count": 15,
   "metadata": {
    "collapsed": false
   },
   "outputs": [
    {
     "data": {
      "text/html": [
       "<div>\n",
       "<table border=\"1\" class=\"dataframe\">\n",
       "  <thead>\n",
       "    <tr style=\"text-align: right;\">\n",
       "      <th></th>\n",
       "      <th>URL</th>\n",
       "      <th>EXPANDED</th>\n",
       "      <th>EXPANDED_STATUS</th>\n",
       "      <th>URL_DOMAIN</th>\n",
       "      <th>URL_CATS</th>\n",
       "    </tr>\n",
       "  </thead>\n",
       "  <tbody>\n",
       "    <tr>\n",
       "      <th>0</th>\n",
       "      <td>http://www.investmentnews.com/article/20160801...</td>\n",
       "      <td>http://www.investmentnews.com/article/20160801...</td>\n",
       "      <td>0</td>\n",
       "      <td>investmentnews.com</td>\n",
       "      <td>UNK</td>\n",
       "    </tr>\n",
       "    <tr>\n",
       "      <th>1</th>\n",
       "      <td>http://ow.ly/3avNPe</td>\n",
       "      <td>https://www.reddit.com/r/cahideas/comments/42i...</td>\n",
       "      <td>0</td>\n",
       "      <td>reddit.com</td>\n",
       "      <td>socialmedia</td>\n",
       "    </tr>\n",
       "    <tr>\n",
       "      <th>2</th>\n",
       "      <td>http://stratcom.kma-assc.com/uncategorized/pre...</td>\n",
       "      <td>http://stratcom.kma-assc.com/uncategorized/pre...</td>\n",
       "      <td>3</td>\n",
       "      <td>stratcom.kma-assc.com</td>\n",
       "      <td>UNK</td>\n",
       "    </tr>\n",
       "    <tr>\n",
       "      <th>3</th>\n",
       "      <td>http://ln.is/mabelsaveforschool.com/gbEtv</td>\n",
       "      <td>http://linkis.com/mabelsaveforschool.com/gbEtv</td>\n",
       "      <td>0</td>\n",
       "      <td>mabelsaveforschool.com</td>\n",
       "      <td>commercial</td>\n",
       "    </tr>\n",
       "    <tr>\n",
       "      <th>4</th>\n",
       "      <td>http://kiw.im/16LfJirkfzE</td>\n",
       "      <td>https://kiwi.qa/LFHKX8RLIFI7O8/39656070290663927</td>\n",
       "      <td>0</td>\n",
       "      <td>kiwi.qa</td>\n",
       "      <td>UNK</td>\n",
       "    </tr>\n",
       "  </tbody>\n",
       "</table>\n",
       "</div>"
      ],
      "text/plain": [
       "                                                 URL  \\\n",
       "0  http://www.investmentnews.com/article/20160801...   \n",
       "1                                http://ow.ly/3avNPe   \n",
       "2  http://stratcom.kma-assc.com/uncategorized/pre...   \n",
       "3          http://ln.is/mabelsaveforschool.com/gbEtv   \n",
       "4                          http://kiw.im/16LfJirkfzE   \n",
       "\n",
       "                                            EXPANDED  EXPANDED_STATUS  \\\n",
       "0  http://www.investmentnews.com/article/20160801...                0   \n",
       "1  https://www.reddit.com/r/cahideas/comments/42i...                0   \n",
       "2  http://stratcom.kma-assc.com/uncategorized/pre...                3   \n",
       "3     http://linkis.com/mabelsaveforschool.com/gbEtv                0   \n",
       "4   https://kiwi.qa/LFHKX8RLIFI7O8/39656070290663927                0   \n",
       "\n",
       "               URL_DOMAIN     URL_CATS  \n",
       "0      investmentnews.com          UNK  \n",
       "1              reddit.com  socialmedia  \n",
       "2   stratcom.kma-assc.com          UNK  \n",
       "3  mabelsaveforschool.com   commercial  \n",
       "4                 kiwi.qa          UNK  "
      ]
     },
     "execution_count": 15,
     "metadata": {},
     "output_type": "execute_result"
    }
   ],
   "source": [
    "df = pd.read_csv(\"URL_CAT_MAPPINGS.txt\", sep=\"\\t\")\n",
    "df.head()"
   ]
  },
  {
   "cell_type": "code",
   "execution_count": 16,
   "metadata": {
    "collapsed": false
   },
   "outputs": [
    {
     "data": {
      "text/html": [
       "<div>\n",
       "<table border=\"1\" class=\"dataframe\">\n",
       "  <thead>\n",
       "    <tr style=\"text-align: right;\">\n",
       "      <th></th>\n",
       "      <th>URL</th>\n",
       "      <th>EXPANDED</th>\n",
       "      <th>EXPANDED_STATUS</th>\n",
       "      <th>URL_DOMAIN</th>\n",
       "      <th>URL_CATS</th>\n",
       "      <th>URL_EXP_SUCCESS</th>\n",
       "    </tr>\n",
       "  </thead>\n",
       "  <tbody>\n",
       "    <tr>\n",
       "      <th>0</th>\n",
       "      <td>http://www.investmentnews.com/article/20160801...</td>\n",
       "      <td>http://www.investmentnews.com/article/20160801...</td>\n",
       "      <td>0</td>\n",
       "      <td>investmentnews.com</td>\n",
       "      <td>UNK</td>\n",
       "      <td>True</td>\n",
       "    </tr>\n",
       "    <tr>\n",
       "      <th>1</th>\n",
       "      <td>http://ow.ly/3avNPe</td>\n",
       "      <td>https://www.reddit.com/r/cahideas/comments/42i...</td>\n",
       "      <td>0</td>\n",
       "      <td>reddit.com</td>\n",
       "      <td>socialmedia</td>\n",
       "      <td>True</td>\n",
       "    </tr>\n",
       "    <tr>\n",
       "      <th>2</th>\n",
       "      <td>http://stratcom.kma-assc.com/uncategorized/pre...</td>\n",
       "      <td>http://stratcom.kma-assc.com/uncategorized/pre...</td>\n",
       "      <td>3</td>\n",
       "      <td>stratcom.kma-assc.com</td>\n",
       "      <td>UNK</td>\n",
       "      <td>False</td>\n",
       "    </tr>\n",
       "    <tr>\n",
       "      <th>3</th>\n",
       "      <td>http://ln.is/mabelsaveforschool.com/gbEtv</td>\n",
       "      <td>http://linkis.com/mabelsaveforschool.com/gbEtv</td>\n",
       "      <td>0</td>\n",
       "      <td>mabelsaveforschool.com</td>\n",
       "      <td>commercial</td>\n",
       "      <td>True</td>\n",
       "    </tr>\n",
       "    <tr>\n",
       "      <th>4</th>\n",
       "      <td>http://kiw.im/16LfJirkfzE</td>\n",
       "      <td>https://kiwi.qa/LFHKX8RLIFI7O8/39656070290663927</td>\n",
       "      <td>0</td>\n",
       "      <td>kiwi.qa</td>\n",
       "      <td>UNK</td>\n",
       "      <td>True</td>\n",
       "    </tr>\n",
       "  </tbody>\n",
       "</table>\n",
       "</div>"
      ],
      "text/plain": [
       "                                                 URL  \\\n",
       "0  http://www.investmentnews.com/article/20160801...   \n",
       "1                                http://ow.ly/3avNPe   \n",
       "2  http://stratcom.kma-assc.com/uncategorized/pre...   \n",
       "3          http://ln.is/mabelsaveforschool.com/gbEtv   \n",
       "4                          http://kiw.im/16LfJirkfzE   \n",
       "\n",
       "                                            EXPANDED  EXPANDED_STATUS  \\\n",
       "0  http://www.investmentnews.com/article/20160801...                0   \n",
       "1  https://www.reddit.com/r/cahideas/comments/42i...                0   \n",
       "2  http://stratcom.kma-assc.com/uncategorized/pre...                3   \n",
       "3     http://linkis.com/mabelsaveforschool.com/gbEtv                0   \n",
       "4   https://kiwi.qa/LFHKX8RLIFI7O8/39656070290663927                0   \n",
       "\n",
       "               URL_DOMAIN     URL_CATS URL_EXP_SUCCESS  \n",
       "0      investmentnews.com          UNK            True  \n",
       "1              reddit.com  socialmedia            True  \n",
       "2   stratcom.kma-assc.com          UNK           False  \n",
       "3  mabelsaveforschool.com   commercial            True  \n",
       "4                 kiwi.qa          UNK            True  "
      ]
     },
     "execution_count": 16,
     "metadata": {},
     "output_type": "execute_result"
    }
   ],
   "source": [
    "df['URL_EXP_SUCCESS'] = (df.EXPANDED_STATUS < 2)\n",
    "df.head()"
   ]
  },
  {
   "cell_type": "code",
   "execution_count": 17,
   "metadata": {
    "collapsed": false
   },
   "outputs": [
    {
     "data": {
      "text/plain": [
       "(60586, (97512, 6), 97512, 97512)"
      ]
     },
     "execution_count": 17,
     "metadata": {},
     "output_type": "execute_result"
    }
   ],
   "source": [
    "URL_DICT = dict(zip(df[df.URL_CATS != 'UNK'].URL, df[df.URL_CATS != 'UNK'].URL_CATS))\n",
    "URL_MAPS = dict(zip(df.URL, df.URL_DOMAIN))\n",
    "URL_EXP_SUCCESS = dict(zip(df.URL, df.URL_EXP_SUCCESS))\n",
    "len(URL_DICT), df.shape, len(URL_MAPS), len(URL_EXP_SUCCESS)"
   ]
  },
  {
   "cell_type": "code",
   "execution_count": 18,
   "metadata": {
    "collapsed": false
   },
   "outputs": [
    {
     "data": {
      "text/plain": [
       "array([ 'http://www.investmentnews.com/article/20160801/FREE/160809992/if-history-is-a-guide-market-volatility-is-about-to-spike',\n",
       "       'http://ow.ly/3avNPe',\n",
       "       'http://stratcom.kma-assc.com/uncategorized/press-releases-visit-of-republic-of-korea-r-o-k-deputy-national-security-advisor-cho-tae-yong/',\n",
       "       'http://ln.is/mabelsaveforschool.com/gbEtv',\n",
       "       'http://kiw.im/16LfJirkfzE'], dtype=object)"
      ]
     },
     "execution_count": 18,
     "metadata": {},
     "output_type": "execute_result"
    }
   ],
   "source": [
    "df.URL.head().values"
   ]
  },
  {
   "cell_type": "code",
   "execution_count": 19,
   "metadata": {
    "collapsed": false
   },
   "outputs": [
    {
     "data": {
      "text/plain": [
       "'examiner.com'"
      ]
     },
     "execution_count": 19,
     "metadata": {},
     "output_type": "execute_result"
    }
   ],
   "source": [
    "URL_MAPS['http://bit.ly/1SqTn5d']"
   ]
  },
  {
   "cell_type": "code",
   "execution_count": 20,
   "metadata": {
    "collapsed": false
   },
   "outputs": [
    {
     "name": "stdout",
     "output_type": "stream",
     "text": [
      "Data: 328318, Total: 166670, Found: 118384, Twitter: 24978\n"
     ]
    },
    {
     "data": {
      "text/plain": [
       "[('failed_url', 1749),\n",
       " ('informationexclusives.com', 170),\n",
       " ('toonradio.net', 168),\n",
       " ('conservativereport.org', 133),\n",
       " ('tallwellnutrition.com', 130),\n",
       " ('greenmedinfo.com', 122),\n",
       " ('sherif.ws', 105),\n",
       " ('americas-fs.org', 104),\n",
       " ('mediaite.com', 90),\n",
       " ('conservativereview.com', 89)]"
      ]
     },
     "execution_count": 20,
     "metadata": {},
     "output_type": "execute_result"
    }
   ],
   "source": [
    "found_urls = 0\n",
    "twitter_urls = 0\n",
    "total_urls = 0\n",
    "tid_mapped_urls = []\n",
    "url_types = defaultdict(int)\n",
    "for d in data:\n",
    "    if 'urls' in d['entities']:\n",
    "            m_entities = d['entities']['urls']\n",
    "            for m in m_entities:\n",
    "                total_urls += 1\n",
    "                m = m['expanded_url']\n",
    "                m_cats = \"UNK\"\n",
    "                if m in URL_DICT:\n",
    "                    found_urls += 1\n",
    "                    m_cats = URL_DICT[m]\n",
    "                elif m.startswith(\"https://twitter.com\") or m.startswith(\"http://twitter.com\"):\n",
    "                    found_urls += 1\n",
    "                    twitter_urls += 1\n",
    "                    m_cats = \"socialmedia|twitter\"\n",
    "                else:\n",
    "                    m_type = \"failed_url\"\n",
    "                    if URL_EXP_SUCCESS[m]:\n",
    "                        m_type = URL_MAPS.get(m, \"None.com\")\n",
    "                    \"\"\"\n",
    "                    m_type = m.split(\"/\", 3)[2]\n",
    "                    #m_type = m_type.split(\"/\", 3)[2]\n",
    "                    if m_type.startswith(\"www.\"):\n",
    "                        m_type = m_type[4:]\n",
    "                    \"\"\"\n",
    "                    url_types[m_type] += 1\n",
    "                tid_mapped_urls.append((d[\"id\"], m, m_cats))\n",
    "print \"Data: %s, Total: %s, Found: %s, Twitter: %s\" % (len(data), total_urls, found_urls, twitter_urls)\n",
    "url_types = Counter(url_types)\n",
    "url_types.most_common(10)"
   ]
  },
  {
   "cell_type": "code",
   "execution_count": 21,
   "metadata": {
    "collapsed": false
   },
   "outputs": [
    {
     "data": {
      "text/plain": [
       "[('failed_url', 1749),\n",
       " ('informationexclusives.com', 170),\n",
       " ('toonradio.net', 168),\n",
       " ('conservativereport.org', 133),\n",
       " ('tallwellnutrition.com', 130),\n",
       " ('greenmedinfo.com', 122),\n",
       " ('sherif.ws', 105),\n",
       " ('americas-fs.org', 104),\n",
       " ('mediaite.com', 90),\n",
       " ('conservativereview.com', 89),\n",
       " ('thinkprogress.org', 88),\n",
       " ('massageenvy.com', 85),\n",
       " ('indiewire.com', 83),\n",
       " ('webogi.com', 80),\n",
       " ('com', 78),\n",
       " ('amp.twimg.com', 73),\n",
       " ('csoonline.com', 72),\n",
       " ('infantway.com', 69),\n",
       " ('hotair.com', 69),\n",
       " ('alertseditor.com', 68),\n",
       " ('teaparty.org', 68),\n",
       " ('a.bla.es', 67),\n",
       " ('ww1.news-freak.com', 66),\n",
       " ('vaccines.news', 65),\n",
       " ('reason.com', 65),\n",
       " ('smartbrief.com', 65),\n",
       " ('talknetwork.com', 64),\n",
       " ('newslocker.com', 64),\n",
       " ('empleoya.es', 63),\n",
       " ('healthlogics.press', 63),\n",
       " ('30dayfortune.com', 63),\n",
       " ('reverbnation.com', 62),\n",
       " ('trap.it', 61),\n",
       " ('theconversation.com', 60),\n",
       " ('rietta.com', 59),\n",
       " ('prnewswire.com', 59),\n",
       " ('choiceandtruth.com', 59),\n",
       " ('healthy-holistic-living.com', 58),\n",
       " ('blogs.wsj.com', 58),\n",
       " ('disq.us', 57),\n",
       " ('sun-sentinel.com', 57),\n",
       " ('wakingtimes.com', 56),\n",
       " ('myeclinik.com', 56),\n",
       " ('blog.tenthamendmentcenter.com', 56),\n",
       " ('usalovelist.com', 56),\n",
       " ('therealnews.com', 56),\n",
       " ('snopes.com', 56),\n",
       " ('theusualroutine.com', 55),\n",
       " ('finance.yahoo.com', 55),\n",
       " ('organiclifestylemagazine.com', 55)]"
      ]
     },
     "execution_count": 21,
     "metadata": {},
     "output_type": "execute_result"
    }
   ],
   "source": [
    "url_types.most_common(50)"
   ]
  },
  {
   "cell_type": "code",
   "execution_count": 22,
   "metadata": {
    "collapsed": false
   },
   "outputs": [
    {
     "data": {
      "text/plain": [
       "48286"
      ]
     },
     "execution_count": 22,
     "metadata": {},
     "output_type": "execute_result"
    }
   ],
   "source": [
    "sum(url_types.values())"
   ]
  },
  {
   "cell_type": "code",
   "execution_count": 23,
   "metadata": {
    "collapsed": false
   },
   "outputs": [
    {
     "data": {
      "text/plain": [
       "[(682904901916225536,\n",
       "  u'https://twitter.com/photogchad_WTSP/status/682903997288681472',\n",
       "  'socialmedia|twitter'),\n",
       " (682915876316692480, u'http://www.investirdanslenfance.ca/', 'UNK'),\n",
       " (682985833821941760, u'http://TinyURL.com/NewYearCure', 'commercial'),\n",
       " (682952771746664448, u'http://TinyURL.com/NewYearCure', 'commercial'),\n",
       " (682830450969059328,\n",
       "  u'http://yournewswire.com/donald-trump-vaccines-cause-autism/',\n",
       "  'fakenews'),\n",
       " (682998926157418496, u'http://go.shr.lc/1Cq6myS', 'videos'),\n",
       " (682924083126767616,\n",
       "  u'http://www.walesonline.co.uk/news/education/we-improve-education-minister-huw-10630807#ICID=ios_WalesOnlineNewsApp_AppShare_Click_Other',\n",
       "  'news'),\n",
       " (682929300241133569,\n",
       "  u'https://www.youreducationguides.com/single-parent-involvement/',\n",
       "  'UNK'),\n",
       " (682949413543739392,\n",
       "  u'http://www.globalresearch.ca/measles-vaccines-kill-more-people-than-measles-cdc-data-proves/5429736',\n",
       "  'clickbait|fakenews'),\n",
       " (682946899259723779, u'http://goo.gl/no4E42', 'commercial')]"
      ]
     },
     "execution_count": 23,
     "metadata": {},
     "output_type": "execute_result"
    }
   ],
   "source": [
    "tid_mapped_urls[:10]"
   ]
  },
  {
   "cell_type": "code",
   "execution_count": 24,
   "metadata": {
    "collapsed": false
   },
   "outputs": [
    {
     "data": {
      "text/html": [
       "<div>\n",
       "<table border=\"1\" class=\"dataframe\">\n",
       "  <thead>\n",
       "    <tr style=\"text-align: right;\">\n",
       "      <th></th>\n",
       "      <th>TID</th>\n",
       "      <th>URL</th>\n",
       "      <th>CATS</th>\n",
       "    </tr>\n",
       "  </thead>\n",
       "  <tbody>\n",
       "    <tr>\n",
       "      <th>0</th>\n",
       "      <td>682904901916225536</td>\n",
       "      <td>https://twitter.com/photogchad_WTSP/status/682...</td>\n",
       "      <td>socialmedia|twitter</td>\n",
       "    </tr>\n",
       "    <tr>\n",
       "      <th>1</th>\n",
       "      <td>682915876316692480</td>\n",
       "      <td>http://www.investirdanslenfance.ca/</td>\n",
       "      <td>UNK</td>\n",
       "    </tr>\n",
       "    <tr>\n",
       "      <th>2</th>\n",
       "      <td>682985833821941760</td>\n",
       "      <td>http://TinyURL.com/NewYearCure</td>\n",
       "      <td>commercial</td>\n",
       "    </tr>\n",
       "    <tr>\n",
       "      <th>3</th>\n",
       "      <td>682952771746664448</td>\n",
       "      <td>http://TinyURL.com/NewYearCure</td>\n",
       "      <td>commercial</td>\n",
       "    </tr>\n",
       "    <tr>\n",
       "      <th>4</th>\n",
       "      <td>682830450969059328</td>\n",
       "      <td>http://yournewswire.com/donald-trump-vaccines-...</td>\n",
       "      <td>fakenews</td>\n",
       "    </tr>\n",
       "  </tbody>\n",
       "</table>\n",
       "</div>"
      ],
      "text/plain": [
       "                  TID                                                URL  \\\n",
       "0  682904901916225536  https://twitter.com/photogchad_WTSP/status/682...   \n",
       "1  682915876316692480                http://www.investirdanslenfance.ca/   \n",
       "2  682985833821941760                     http://TinyURL.com/NewYearCure   \n",
       "3  682952771746664448                     http://TinyURL.com/NewYearCure   \n",
       "4  682830450969059328  http://yournewswire.com/donald-trump-vaccines-...   \n",
       "\n",
       "                  CATS  \n",
       "0  socialmedia|twitter  \n",
       "1                  UNK  \n",
       "2           commercial  \n",
       "3           commercial  \n",
       "4             fakenews  "
      ]
     },
     "execution_count": 24,
     "metadata": {},
     "output_type": "execute_result"
    }
   ],
   "source": [
    "df_mapped_cats = pd.DataFrame(tid_mapped_urls, columns=[\"TID\", \"URL\", \"CATS\"])\n",
    "df_mapped_cats.head()"
   ]
  },
  {
   "cell_type": "code",
   "execution_count": 25,
   "metadata": {
    "collapsed": false
   },
   "outputs": [
    {
     "name": "stdout",
     "output_type": "stream",
     "text": [
      "TID\tURL\tCATS\r\n",
      "682904901916225536\thttps://twitter.com/photogchad_WTSP/status/682903997288681472\tsocialmedia|twitter\r\n",
      "682915876316692480\thttp://www.investirdanslenfance.ca/\tUNK\r\n",
      "682985833821941760\thttp://TinyURL.com/NewYearCure\tcommercial\r\n",
      "682952771746664448\thttp://TinyURL.com/NewYearCure\tcommercial\r\n",
      "682830450969059328\thttp://yournewswire.com/donald-trump-vaccines-cause-autism/\tfakenews\r\n",
      "682998926157418496\thttp://go.shr.lc/1Cq6myS\tvideos\r\n",
      "682924083126767616\thttp://www.walesonline.co.uk/news/education/we-improve-education-minister-huw-10630807#ICID=ios_WalesOnlineNewsApp_AppShare_Click_Other\tnews\r\n",
      "682929300241133569\thttps://www.youreducationguides.com/single-parent-involvement/\tUNK\r\n",
      "682949413543739392\thttp://www.globalresearch.ca/measles-vaccines-kill-more-people-than-measles-cdc-data-proves/5429736\tclickbait|fakenews\r\n"
     ]
    }
   ],
   "source": [
    "df_mapped_cats.to_csv(\"TID_URL_CATS.txt\", sep=\"\\t\", index=False)\n",
    "! head TID_URL_CATS.txt"
   ]
  },
  {
   "cell_type": "markdown",
   "metadata": {},
   "source": [
    "## Extract tweet features"
   ]
  },
  {
   "cell_type": "code",
   "execution_count": 26,
   "metadata": {
    "collapsed": true
   },
   "outputs": [],
   "source": [
    "def extract_meta_features(x):\n",
    "    u_data = x[\"user\"]\n",
    "    u_url = u_data['url']\n",
    "    if u_url is not None:\n",
    "        u_url = u_data['entities']['url']['urls'][0]['expanded_url']\n",
    "    return (x[\"id\"],\n",
    "            x['created_at'],\n",
    "            x['retweet_count'],\n",
    "            x['favorite_count'], \n",
    "            x['in_reply_to_status_id'] is not None,\n",
    "            'quoted_status' in x and x['quoted_status'] is not None,\n",
    "            len(x['entities']['hashtags']),\n",
    "            len(x['entities']['urls']),\n",
    "            len(x['entities']['user_mentions']),\n",
    "            0 if 'media' not in x['entities'] else len(x['entities']['media']), # Has photos\n",
    "            u_data['id'],\n",
    "            u_data[u'created_at'],\n",
    "            u_data[u'listed_count'],\n",
    "            u_data[u'favourites_count'],\n",
    "            u_data[u'followers_count'],\n",
    "            u_data[u'friends_count'],\n",
    "            u_data[u'statuses_count'],\n",
    "            u_data[u'verified'],\n",
    "            u_data[u'location'].replace('\\r', ''),\n",
    "            u_data[u'name'].replace('\\r',''),\n",
    "            u_url\n",
    "           )\n",
    "    "
   ]
  },
  {
   "cell_type": "code",
   "execution_count": 27,
   "metadata": {
    "collapsed": false
   },
   "outputs": [
    {
     "data": {
      "text/plain": [
       "(682904901916225536,\n",
       " u'Fri Jan 01 12:43:11 +0000 2016',\n",
       " 0,\n",
       " 0,\n",
       " False,\n",
       " True,\n",
       " 0,\n",
       " 1,\n",
       " 0,\n",
       " 0,\n",
       " 56544119,\n",
       " u'Tue Jul 14 00:13:13 +0000 2009',\n",
       " 68,\n",
       " 345,\n",
       " 573,\n",
       " 503,\n",
       " 1010,\n",
       " False,\n",
       " u'St. Petersburg',\n",
       " u'Melissa Ramsey',\n",
       " None)"
      ]
     },
     "execution_count": 27,
     "metadata": {},
     "output_type": "execute_result"
    }
   ],
   "source": [
    "extract_meta_features(data[0])"
   ]
  },
  {
   "cell_type": "code",
   "execution_count": 28,
   "metadata": {
    "collapsed": false
   },
   "outputs": [
    {
     "data": {
      "text/html": [
       "<div>\n",
       "<table border=\"1\" class=\"dataframe\">\n",
       "  <thead>\n",
       "    <tr style=\"text-align: right;\">\n",
       "      <th></th>\n",
       "      <th>t_id</th>\n",
       "      <th>t_created</th>\n",
       "      <th>t_retweets</th>\n",
       "      <th>t_favorites</th>\n",
       "      <th>t_is_reply</th>\n",
       "      <th>t_is_quote</th>\n",
       "      <th>t_n_hashtags</th>\n",
       "      <th>t_n_urls</th>\n",
       "      <th>t_n_mentions</th>\n",
       "      <th>t_n_media</th>\n",
       "      <th>...</th>\n",
       "      <th>u_created</th>\n",
       "      <th>u_n_listed</th>\n",
       "      <th>u_n_favorites</th>\n",
       "      <th>u_n_followers</th>\n",
       "      <th>u_n_friends</th>\n",
       "      <th>u_n_statuses</th>\n",
       "      <th>u_is_verified</th>\n",
       "      <th>u_location</th>\n",
       "      <th>u_name</th>\n",
       "      <th>u_url</th>\n",
       "    </tr>\n",
       "  </thead>\n",
       "  <tbody>\n",
       "    <tr>\n",
       "      <th>0</th>\n",
       "      <td>682904901916225536</td>\n",
       "      <td>Fri Jan 01 12:43:11 +0000 2016</td>\n",
       "      <td>0</td>\n",
       "      <td>0</td>\n",
       "      <td>False</td>\n",
       "      <td>True</td>\n",
       "      <td>0</td>\n",
       "      <td>1</td>\n",
       "      <td>0</td>\n",
       "      <td>0</td>\n",
       "      <td>...</td>\n",
       "      <td>Tue Jul 14 00:13:13 +0000 2009</td>\n",
       "      <td>68</td>\n",
       "      <td>345</td>\n",
       "      <td>573</td>\n",
       "      <td>503</td>\n",
       "      <td>1010</td>\n",
       "      <td>False</td>\n",
       "      <td>St. Petersburg</td>\n",
       "      <td>Melissa Ramsey</td>\n",
       "      <td>None</td>\n",
       "    </tr>\n",
       "    <tr>\n",
       "      <th>1</th>\n",
       "      <td>682915876316692480</td>\n",
       "      <td>Fri Jan 01 13:26:47 +0000 2016</td>\n",
       "      <td>100</td>\n",
       "      <td>7</td>\n",
       "      <td>False</td>\n",
       "      <td>False</td>\n",
       "      <td>0</td>\n",
       "      <td>1</td>\n",
       "      <td>0</td>\n",
       "      <td>0</td>\n",
       "      <td>...</td>\n",
       "      <td>Fri Mar 11 07:55:47 +0000 2011</td>\n",
       "      <td>48</td>\n",
       "      <td>123</td>\n",
       "      <td>24864</td>\n",
       "      <td>6101</td>\n",
       "      <td>3594</td>\n",
       "      <td>False</td>\n",
       "      <td>United States</td>\n",
       "      <td>Bree Victorie</td>\n",
       "      <td>None</td>\n",
       "    </tr>\n",
       "    <tr>\n",
       "      <th>2</th>\n",
       "      <td>682985833821941760</td>\n",
       "      <td>Fri Jan 01 18:04:46 +0000 2016</td>\n",
       "      <td>2</td>\n",
       "      <td>0</td>\n",
       "      <td>True</td>\n",
       "      <td>False</td>\n",
       "      <td>2</td>\n",
       "      <td>1</td>\n",
       "      <td>1</td>\n",
       "      <td>0</td>\n",
       "      <td>...</td>\n",
       "      <td>Sun Oct 19 18:44:28 +0000 2008</td>\n",
       "      <td>1151</td>\n",
       "      <td>8709</td>\n",
       "      <td>20635</td>\n",
       "      <td>22698</td>\n",
       "      <td>207314</td>\n",
       "      <td>False</td>\n",
       "      <td>USA</td>\n",
       "      <td>TannersDad Tim</td>\n",
       "      <td>http://www.AgeofAutism.com</td>\n",
       "    </tr>\n",
       "    <tr>\n",
       "      <th>3</th>\n",
       "      <td>682952771746664448</td>\n",
       "      <td>Fri Jan 01 15:53:24 +0000 2016</td>\n",
       "      <td>1</td>\n",
       "      <td>0</td>\n",
       "      <td>False</td>\n",
       "      <td>False</td>\n",
       "      <td>4</td>\n",
       "      <td>1</td>\n",
       "      <td>0</td>\n",
       "      <td>0</td>\n",
       "      <td>...</td>\n",
       "      <td>Sun Oct 19 18:44:28 +0000 2008</td>\n",
       "      <td>1151</td>\n",
       "      <td>8709</td>\n",
       "      <td>20635</td>\n",
       "      <td>22698</td>\n",
       "      <td>207314</td>\n",
       "      <td>False</td>\n",
       "      <td>USA</td>\n",
       "      <td>TannersDad Tim</td>\n",
       "      <td>http://www.AgeofAutism.com</td>\n",
       "    </tr>\n",
       "    <tr>\n",
       "      <th>4</th>\n",
       "      <td>682843745520238592</td>\n",
       "      <td>Fri Jan 01 08:40:10 +0000 2016</td>\n",
       "      <td>0</td>\n",
       "      <td>0</td>\n",
       "      <td>False</td>\n",
       "      <td>False</td>\n",
       "      <td>0</td>\n",
       "      <td>0</td>\n",
       "      <td>0</td>\n",
       "      <td>0</td>\n",
       "      <td>...</td>\n",
       "      <td>Tue Apr 13 09:22:10 +0000 2010</td>\n",
       "      <td>6</td>\n",
       "      <td>4</td>\n",
       "      <td>255</td>\n",
       "      <td>83</td>\n",
       "      <td>37291</td>\n",
       "      <td>False</td>\n",
       "      <td>All Over Los Angeles</td>\n",
       "      <td>Duke</td>\n",
       "      <td>None</td>\n",
       "    </tr>\n",
       "  </tbody>\n",
       "</table>\n",
       "<p>5 rows × 21 columns</p>\n",
       "</div>"
      ],
      "text/plain": [
       "                 t_id                       t_created  t_retweets  \\\n",
       "0  682904901916225536  Fri Jan 01 12:43:11 +0000 2016           0   \n",
       "1  682915876316692480  Fri Jan 01 13:26:47 +0000 2016         100   \n",
       "2  682985833821941760  Fri Jan 01 18:04:46 +0000 2016           2   \n",
       "3  682952771746664448  Fri Jan 01 15:53:24 +0000 2016           1   \n",
       "4  682843745520238592  Fri Jan 01 08:40:10 +0000 2016           0   \n",
       "\n",
       "   t_favorites t_is_reply t_is_quote  t_n_hashtags  t_n_urls  t_n_mentions  \\\n",
       "0            0      False       True             0         1             0   \n",
       "1            7      False      False             0         1             0   \n",
       "2            0       True      False             2         1             1   \n",
       "3            0      False      False             4         1             0   \n",
       "4            0      False      False             0         0             0   \n",
       "\n",
       "   t_n_media             ...                                   u_created  \\\n",
       "0          0             ...              Tue Jul 14 00:13:13 +0000 2009   \n",
       "1          0             ...              Fri Mar 11 07:55:47 +0000 2011   \n",
       "2          0             ...              Sun Oct 19 18:44:28 +0000 2008   \n",
       "3          0             ...              Sun Oct 19 18:44:28 +0000 2008   \n",
       "4          0             ...              Tue Apr 13 09:22:10 +0000 2010   \n",
       "\n",
       "  u_n_listed  u_n_favorites  u_n_followers  u_n_friends  u_n_statuses  \\\n",
       "0         68            345            573          503          1010   \n",
       "1         48            123          24864         6101          3594   \n",
       "2       1151           8709          20635        22698        207314   \n",
       "3       1151           8709          20635        22698        207314   \n",
       "4          6              4            255           83         37291   \n",
       "\n",
       "   u_is_verified            u_location          u_name  \\\n",
       "0          False        St. Petersburg  Melissa Ramsey   \n",
       "1          False         United States   Bree Victorie   \n",
       "2          False                   USA  TannersDad Tim   \n",
       "3          False                   USA  TannersDad Tim   \n",
       "4          False  All Over Los Angeles            Duke   \n",
       "\n",
       "                        u_url  \n",
       "0                        None  \n",
       "1                        None  \n",
       "2  http://www.AgeofAutism.com  \n",
       "3  http://www.AgeofAutism.com  \n",
       "4                        None  \n",
       "\n",
       "[5 rows x 21 columns]"
      ]
     },
     "execution_count": 28,
     "metadata": {},
     "output_type": "execute_result"
    }
   ],
   "source": [
    "df_meta = pd.DataFrame((extract_meta_features(d) for d in data),\n",
    "                      columns=[\"t_id\", \"t_created\", \"t_retweets\",\n",
    "                              \"t_favorites\", \"t_is_reply\", \"t_is_quote\",\n",
    "                              \"t_n_hashtags\", \"t_n_urls\", \"t_n_mentions\",\n",
    "                              \"t_n_media\",\n",
    "                               \"u_id\", \"u_created\",\n",
    "                               \"u_n_listed\", \"u_n_favorites\", \"u_n_followers\",\n",
    "                               \"u_n_friends\", \"u_n_statuses\",\n",
    "                               \"u_is_verified\", \"u_location\", \"u_name\", \"u_url\"\n",
    "                              ])\n",
    "df_meta.head()"
   ]
  },
  {
   "cell_type": "code",
   "execution_count": 29,
   "metadata": {
    "collapsed": false
   },
   "outputs": [
    {
     "data": {
      "text/plain": [
       "t_id              int64\n",
       "t_created        object\n",
       "t_retweets        int64\n",
       "t_favorites       int64\n",
       "t_is_reply         bool\n",
       "t_is_quote         bool\n",
       "t_n_hashtags      int64\n",
       "t_n_urls          int64\n",
       "t_n_mentions      int64\n",
       "t_n_media         int64\n",
       "u_id              int64\n",
       "u_created        object\n",
       "u_n_listed        int64\n",
       "u_n_favorites     int64\n",
       "u_n_followers     int64\n",
       "u_n_friends       int64\n",
       "u_n_statuses      int64\n",
       "u_is_verified      bool\n",
       "u_location       object\n",
       "u_name           object\n",
       "u_url            object\n",
       "dtype: object"
      ]
     },
     "execution_count": 29,
     "metadata": {},
     "output_type": "execute_result"
    }
   ],
   "source": [
    "df_meta.dtypes"
   ]
  },
  {
   "cell_type": "code",
   "execution_count": 30,
   "metadata": {
    "collapsed": false
   },
   "outputs": [
    {
     "data": {
      "text/plain": [
       "2     http://www.AgeofAutism.com\n",
       "3     http://www.AgeofAutism.com\n",
       "5    http://theskepticsguide.org\n",
       "6    http://google.com/+HelenKap\n",
       "8         http://www.ralajoy.com\n",
       "Name: u_url, dtype: object"
      ]
     },
     "execution_count": 30,
     "metadata": {},
     "output_type": "execute_result"
    }
   ],
   "source": [
    "df_meta[df_meta.u_url.apply(lambda x: x is not None)][\"u_url\"].head()"
   ]
  },
  {
   "cell_type": "code",
   "execution_count": 31,
   "metadata": {
    "collapsed": false
   },
   "outputs": [
    {
     "name": "stdout",
     "output_type": "stream",
     "text": [
      "t_id\tt_created\tt_retweets\tt_favorites\tt_is_reply\tt_is_quote\tt_n_hashtags\tt_n_urls\tt_n_mentions\tt_n_media\tu_id\tu_created\tu_n_listed\tu_n_favorites\tu_n_followers\tu_n_friends\tu_n_statuses\tu_is_verified\tu_location\tu_name\tu_url\r\n",
      "682904901916225536\tFri Jan 01 12:43:11 +0000 2016\t0\t0\tFalse\tTrue\t0\t1\t0\t0\t56544119\tTue Jul 14 00:13:13 +0000 2009\t68\t345\t573\t503\t1010\tFalse\tSt. Petersburg\tMelissa Ramsey\t\r\n",
      "682915876316692480\tFri Jan 01 13:26:47 +0000 2016\t100\t7\tFalse\tFalse\t0\t1\t0\t0\t264062848\tFri Mar 11 07:55:47 +0000 2011\t48\t123\t24864\t6101\t3594\tFalse\tUnited States\tBree Victorie\t\r\n",
      "682985833821941760\tFri Jan 01 18:04:46 +0000 2016\t2\t0\tTrue\tFalse\t2\t1\t1\t0\t16854311\tSun Oct 19 18:44:28 +0000 2008\t1151\t8709\t20635\t22698\t207314\tFalse\tUSA\tTannersDad Tim\thttp://www.AgeofAutism.com\r\n",
      "682952771746664448\tFri Jan 01 15:53:24 +0000 2016\t1\t0\tFalse\tFalse\t4\t1\t0\t0\t16854311\tSun Oct 19 18:44:28 +0000 2008\t1151\t8709\t20635\t22698\t207314\tFalse\tUSA\tTannersDad Tim\thttp://www.AgeofAutism.com\r\n",
      "682843745520238592\tFri Jan 01 08:40:10 +0000 2016\t0\t0\tFalse\tFalse\t0\t0\t0\t0\t132465703\tTue Apr 13 09:22:10 +0000 2010\t6\t4\t255\t83\t37291\tFalse\tAll Over Los Angeles\tDuke\t\r\n",
      "682832248626876416\tFri Jan 01 07:54:29 +0000 2016\t0\t0\tTrue\tFalse\t0\t0\t1\t0\t160073590\tSun Jun 27 03:34:29 +0000 2010\t5\t41\t188\t211\t28610\tFalse\t860\tConnor Durden\thttp://theskepticsguide.org\r\n",
      "682830450969059328\tFri Jan 01 07:47:20 +0000 2016\t0\t0\tFalse\tFalse\t1\t1\t1\t0\t1216115161\tSun Feb 24 17:39:27 +0000 2013\t12\t624\t428\t821\t6287\tFalse\tSeattle\tHelen Kap\thttp://google.com/+HelenKap\r\n",
      "682895562534862848\tFri Jan 01 12:06:04 +0000 2016\t0\t0\tFalse\tFalse\t0\t0\t0\t0\t2339295488\tTue Feb 11 22:08:57 +0000 2014\t124\t1\t349\t57\t1085424\tFalse\t\tRanier Gray\t\r\n",
      "682973867627941889\tFri Jan 01 17:17:13 +0000 2016\t0\t0\tFalse\tFalse\t1\t0\t0\t0\t1604405960\tThu Jul 18 21:40:24 +0000 2013\t21\t119\t370\t708\t1558\tFalse\t\trala brubaker\thttp://www.ralajoy.com\r\n"
     ]
    }
   ],
   "source": [
    "df_meta.to_csv(\"TID_META.txt\", sep=\"\\t\", index=False, encoding='utf-8')\n",
    "! head TID_META.txt"
   ]
  },
  {
   "cell_type": "code",
   "execution_count": 32,
   "metadata": {
    "collapsed": false
   },
   "outputs": [
    {
     "data": {
      "text/plain": [
       "(170675,)"
      ]
     },
     "execution_count": 32,
     "metadata": {},
     "output_type": "execute_result"
    }
   ],
   "source": [
    "df_meta[df_meta.u_url.apply(lambda x: x is not None)][\"u_url\"].shape"
   ]
  },
  {
   "cell_type": "code",
   "execution_count": 33,
   "metadata": {
    "collapsed": false
   },
   "outputs": [
    {
     "data": {
      "text/plain": [
       "(328318, 21)"
      ]
     },
     "execution_count": 33,
     "metadata": {},
     "output_type": "execute_result"
    }
   ],
   "source": [
    "df_meta.shape"
   ]
  },
  {
   "cell_type": "code",
   "execution_count": null,
   "metadata": {
    "collapsed": true
   },
   "outputs": [],
   "source": []
  }
 ],
 "metadata": {
  "anaconda-cloud": {},
  "kernelspec": {
   "display_name": "Python [default]",
   "language": "python",
   "name": "python2"
  },
  "language_info": {
   "codemirror_mode": {
    "name": "ipython",
    "version": 2
   },
   "file_extension": ".py",
   "mimetype": "text/x-python",
   "name": "python",
   "nbconvert_exporter": "python",
   "pygments_lexer": "ipython2",
   "version": "2.7.12"
  }
 },
 "nbformat": 4,
 "nbformat_minor": 1
}
